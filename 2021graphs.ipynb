{
 "cells": [
  {
   "cell_type": "code",
   "execution_count": 5,
   "id": "2055167f",
   "metadata": {},
   "outputs": [],
   "source": [
    "import pandas as pd"
   ]
  },
  {
   "cell_type": "code",
   "execution_count": 6,
   "id": "2bb311bb",
   "metadata": {},
   "outputs": [],
   "source": [
    "df = pd.read_csv('2021_ca.csv')"
   ]
  },
  {
   "cell_type": "code",
   "execution_count": 7,
   "id": "115ae2a2",
   "metadata": {},
   "outputs": [
    {
     "name": "stdout",
     "output_type": "stream",
     "text": [
      "      year   county     zipcode        rate       num1        num2      num3\n",
      "0     2021   Alpine      Alpine   67.297500  73.350000  780.767500  33.65000\n",
      "1     2021   Alpine  California   16.777500  16.377500   17.187500   0.20675\n",
      "2     2021   Alpine       00044    0.000000        NaN         NaN       NaN\n",
      "3     2021   Alpine       96120    0.000000   0.000000    0.000000   0.00000\n",
      "4     2021  Alameda       94612  114.645753  33.203632  294.172985  55.26028\n",
      "...    ...      ...         ...         ...        ...         ...       ...\n",
      "1808  2021     Yuba       95919    0.000000   0.000000    0.000000   0.00000\n",
      "1809  2021     Yuba       95925    0.000000   0.000000    0.000000   0.00000\n",
      "1810  2021     Yuba       95935    0.000000   0.000000    0.000000   0.00000\n",
      "1811  2021     Yuba       95962    0.000000   0.000000    0.000000   0.00000\n",
      "1812  2021     Yuba       95972    0.000000        NaN         NaN       NaN\n",
      "\n",
      "[1813 rows x 7 columns]\n"
     ]
    }
   ],
   "source": [
    "print(df)"
   ]
  },
  {
   "cell_type": "code",
   "execution_count": 8,
   "id": "9a31be41",
   "metadata": {},
   "outputs": [],
   "source": [
    "def filter_zipcode(row):\n",
    "    if row[\"zipcode\"].isdigit():\n",
    "        return True\n",
    "    else:\n",
    "        return False\n",
    "        "
   ]
  },
  {
   "cell_type": "code",
   "execution_count": 9,
   "id": "abef826c",
   "metadata": {},
   "outputs": [
    {
     "data": {
      "text/plain": [
       "0       False\n",
       "1       False\n",
       "2        True\n",
       "3        True\n",
       "4        True\n",
       "        ...  \n",
       "1808     True\n",
       "1809     True\n",
       "1810     True\n",
       "1811     True\n",
       "1812     True\n",
       "Length: 1813, dtype: bool"
      ]
     },
     "execution_count": 9,
     "metadata": {},
     "output_type": "execute_result"
    }
   ],
   "source": [
    "df.apply(filter_zipcode,axis=1)#axis=1 is row, axis=0 is column"
   ]
  },
  {
   "cell_type": "code",
   "execution_count": 10,
   "id": "e7599aeb",
   "metadata": {},
   "outputs": [
    {
     "name": "stdout",
     "output_type": "stream",
     "text": [
      "      year   county zipcode        rate       num1        num2       num3\n",
      "2     2021   Alpine   00044    0.000000        NaN         NaN        NaN\n",
      "3     2021   Alpine   96120    0.000000   0.000000    0.000000   0.000000\n",
      "4     2021  Alameda   94612  114.645753  33.203632  294.172985  55.260280\n",
      "5     2021  Alameda   94607   39.908302  20.009301   79.693818  11.968339\n",
      "6     2021  Alameda   94609   38.075039  16.194926   91.165677  13.658295\n",
      "...    ...      ...     ...         ...        ...         ...        ...\n",
      "1808  2021     Yuba   95919    0.000000   0.000000    0.000000   0.000000\n",
      "1809  2021     Yuba   95925    0.000000   0.000000    0.000000   0.000000\n",
      "1810  2021     Yuba   95935    0.000000   0.000000    0.000000   0.000000\n",
      "1811  2021     Yuba   95962    0.000000   0.000000    0.000000   0.000000\n",
      "1812  2021     Yuba   95972    0.000000        NaN         NaN        NaN\n",
      "\n",
      "[1701 rows x 7 columns]\n"
     ]
    }
   ],
   "source": [
    "df = df[df.apply(filter_zipcode,axis=1)]#filter\n",
    "print(df)"
   ]
  },
  {
   "cell_type": "code",
   "execution_count": 11,
   "id": "aaa6fdc0",
   "metadata": {},
   "outputs": [],
   "source": [
    "df=df.drop(\"num1\",axis=1)"
   ]
  },
  {
   "cell_type": "code",
   "execution_count": 12,
   "id": "d03f7046",
   "metadata": {},
   "outputs": [],
   "source": [
    "df=df.drop(\"num2\",axis=1)"
   ]
  },
  {
   "cell_type": "code",
   "execution_count": 13,
   "id": "135958af",
   "metadata": {},
   "outputs": [],
   "source": [
    "df=df.drop(\"num3\",axis=1)"
   ]
  },
  {
   "cell_type": "code",
   "execution_count": null,
   "id": "3258e8a8",
   "metadata": {},
   "outputs": [],
   "source": []
  },
  {
   "cell_type": "code",
   "execution_count": 14,
   "id": "1eb160e9",
   "metadata": {},
   "outputs": [],
   "source": [
    "ranges = {\"0-10\":0, \"10-20\":0,\"20-30\":0,\"30+\":0}\n",
    "for index,row in df.iterrows():\n",
    "    if row.rate <10:\n",
    "        ranges[\"0-10\"] = ranges[\"0-10\"] + 1\n",
    "    if row.rate < 20 and row.rate>10:\n",
    "        ranges[\"10-20\"] = ranges[\"20-30\"] + 1\n",
    "    if row.rate < 30 and row.rate>20:\n",
    "        ranges[\"20-30\"] = ranges[\"20-30\"] + 1\n",
    "    else:\n",
    "        ranges[\"30+\"] = ranges[\"30+\"] + 1"
   ]
  },
  {
   "cell_type": "code",
   "execution_count": 15,
   "id": "87e51714",
   "metadata": {},
   "outputs": [
    {
     "name": "stdout",
     "output_type": "stream",
     "text": [
      "{'0-10': 846, '10-20': 197, '20-30': 198, '30+': 1503}\n"
     ]
    }
   ],
   "source": [
    "print(ranges)"
   ]
  },
  {
   "cell_type": "code",
   "execution_count": 16,
   "id": "304d9e4b",
   "metadata": {},
   "outputs": [
    {
     "data": {
      "text/plain": [
       "<AxesSubplot:>"
      ]
     },
     "execution_count": 16,
     "metadata": {},
     "output_type": "execute_result"
    },
    {
     "data": {
      "image/png": "[encoded data removed]",
      "text/plain": [
       "<Figure size 432x288 with 1 Axes>"
      ]
     },
     "metadata": {
      "needs_background": "light"
     },
     "output_type": "display_data"
    }
   ],
   "source": [
    "df[\"rate\"].hist(bins=10)"
   ]
  },
  {
   "cell_type": "code",
   "execution_count": 17,
   "id": "6e4a6475",
   "metadata": {
    "scrolled": true
   },
   "outputs": [
    {
     "data": {
      "text/html": [
       "<div>\n",
       "<style scoped>\n",
       "    .dataframe tbody tr th:only-of-type {\n",
       "        vertical-align: middle;\n",
       "    }\n",
       "\n",
       "    .dataframe tbody tr th {\n",
       "        vertical-align: top;\n",
       "    }\n",
       "\n",
       "    .dataframe thead th {\n",
       "        text-align: right;\n",
       "    }\n",
       "</style>\n",
       "<table border=\"1\" class=\"dataframe\">\n",
       "  <thead>\n",
       "    <tr style=\"text-align: right;\">\n",
       "      <th></th>\n",
       "      <th>year</th>\n",
       "      <th>rate</th>\n",
       "    </tr>\n",
       "  </thead>\n",
       "  <tbody>\n",
       "    <tr>\n",
       "      <th>count</th>\n",
       "      <td>1701.0</td>\n",
       "      <td>1701.000000</td>\n",
       "    </tr>\n",
       "    <tr>\n",
       "      <th>mean</th>\n",
       "      <td>2021.0</td>\n",
       "      <td>22.885841</td>\n",
       "    </tr>\n",
       "    <tr>\n",
       "      <th>std</th>\n",
       "      <td>0.0</td>\n",
       "      <td>127.473892</td>\n",
       "    </tr>\n",
       "    <tr>\n",
       "      <th>min</th>\n",
       "      <td>2021.0</td>\n",
       "      <td>0.000000</td>\n",
       "    </tr>\n",
       "    <tr>\n",
       "      <th>25%</th>\n",
       "      <td>2021.0</td>\n",
       "      <td>0.000000</td>\n",
       "    </tr>\n",
       "    <tr>\n",
       "      <th>50%</th>\n",
       "      <td>2021.0</td>\n",
       "      <td>10.114899</td>\n",
       "    </tr>\n",
       "    <tr>\n",
       "      <th>75%</th>\n",
       "      <td>2021.0</td>\n",
       "      <td>21.423479</td>\n",
       "    </tr>\n",
       "    <tr>\n",
       "      <th>max</th>\n",
       "      <td>2021.0</td>\n",
       "      <td>4318.962689</td>\n",
       "    </tr>\n",
       "  </tbody>\n",
       "</table>\n",
       "</div>"
      ],
      "text/plain": [
       "         year         rate\n",
       "count  1701.0  1701.000000\n",
       "mean   2021.0    22.885841\n",
       "std       0.0   127.473892\n",
       "min    2021.0     0.000000\n",
       "25%    2021.0     0.000000\n",
       "50%    2021.0    10.114899\n",
       "75%    2021.0    21.423479\n",
       "max    2021.0  4318.962689"
      ]
     },
     "execution_count": 17,
     "metadata": {},
     "output_type": "execute_result"
    }
   ],
   "source": [
    "df.describe()"
   ]
  },
  {
   "cell_type": "code",
   "execution_count": 18,
   "id": "d4088390",
   "metadata": {},
   "outputs": [],
   "source": [
    "from matplotlib import pyplot as plt"
   ]
  },
  {
   "cell_type": "code",
   "execution_count": 19,
   "id": "accff3b1",
   "metadata": {},
   "outputs": [
    {
     "data": {
      "text/plain": [
       "<AxesSubplot:>"
      ]
     },
     "execution_count": 19,
     "metadata": {},
     "output_type": "execute_result"
    },
    {
     "data": {
      "image/png": "[encoded data removed]",
      "text/plain": [
       "<Figure size 432x288 with 1 Axes>"
      ]
     },
     "metadata": {
      "needs_background": "light"
     },
     "output_type": "display_data"
    }
   ],
   "source": [
    "df[(df[\"rate\"]<200) & (df['rate']>0) ]['rate'].hist(bins=50)"
   ]
  },
  {
   "cell_type": "code",
   "execution_count": 20,
   "id": "a63913fd",
   "metadata": {},
   "outputs": [
    {
     "data": {
      "text/plain": [
       "<Figure size 1600x480 with 0 Axes>"
      ]
     },
     "execution_count": 20,
     "metadata": {},
     "output_type": "execute_result"
    },
    {
     "data": {
      "text/plain": [
       "<Figure size 1600x480 with 0 Axes>"
      ]
     },
     "metadata": {},
     "output_type": "display_data"
    }
   ],
   "source": [
    "from matplotlib.pyplot import figure\n",
    "figure(figsize=(20, 6), dpi=80)"
   ]
  },
  {
   "cell_type": "code",
   "execution_count": 21,
   "id": "0a8699b3",
   "metadata": {},
   "outputs": [],
   "source": [
    "income = pd.read_excel(\"median_income.xlsx\")"
   ]
  },
  {
   "cell_type": "code",
   "execution_count": null,
   "id": "f003472a",
   "metadata": {},
   "outputs": [],
   "source": []
  },
  {
   "cell_type": "code",
   "execution_count": null,
   "id": "2499ec24",
   "metadata": {},
   "outputs": [],
   "source": []
  },
  {
   "cell_type": "code",
   "execution_count": 22,
   "id": "f5f97d6d",
   "metadata": {},
   "outputs": [
    {
     "data": {
      "text/html": [
       "<div>\n",
       "<style scoped>\n",
       "    .dataframe tbody tr th:only-of-type {\n",
       "        vertical-align: middle;\n",
       "    }\n",
       "\n",
       "    .dataframe tbody tr th {\n",
       "        vertical-align: top;\n",
       "    }\n",
       "\n",
       "    .dataframe thead th {\n",
       "        text-align: right;\n",
       "    }\n",
       "</style>\n",
       "<table border=\"1\" class=\"dataframe\">\n",
       "  <thead>\n",
       "    <tr style=\"text-align: right;\">\n",
       "      <th></th>\n",
       "      <th>Unnamed: 0</th>\n",
       "      <th>Unnamed: 1</th>\n",
       "      <th>Unnamed: 2</th>\n",
       "      <th>GEO_ID</th>\n",
       "      <th>NAME</th>\n",
       "      <th>S1903_C03_015E</th>\n",
       "    </tr>\n",
       "  </thead>\n",
       "  <tbody>\n",
       "    <tr>\n",
       "      <th>0</th>\n",
       "      <td>NaN</td>\n",
       "      <td>NaN</td>\n",
       "      <td>NaN</td>\n",
       "      <td>id</td>\n",
       "      <td>Geographic Area Name</td>\n",
       "      <td>Estimate!!Median income (dollars)!!FAMILIES!!F...</td>\n",
       "    </tr>\n",
       "    <tr>\n",
       "      <th>1</th>\n",
       "      <td>NaN</td>\n",
       "      <td>NaN</td>\n",
       "      <td>NaN</td>\n",
       "      <td>8600000US00601</td>\n",
       "      <td>ZCTA5 00601</td>\n",
       "      <td>15721</td>\n",
       "    </tr>\n",
       "    <tr>\n",
       "      <th>2</th>\n",
       "      <td>NaN</td>\n",
       "      <td>NaN</td>\n",
       "      <td>NaN</td>\n",
       "      <td>8600000US00602</td>\n",
       "      <td>ZCTA5 00602</td>\n",
       "      <td>21060</td>\n",
       "    </tr>\n",
       "    <tr>\n",
       "      <th>3</th>\n",
       "      <td>NaN</td>\n",
       "      <td>NaN</td>\n",
       "      <td>NaN</td>\n",
       "      <td>8600000US00603</td>\n",
       "      <td>ZCTA5 00603</td>\n",
       "      <td>19340</td>\n",
       "    </tr>\n",
       "    <tr>\n",
       "      <th>4</th>\n",
       "      <td>NaN</td>\n",
       "      <td>NaN</td>\n",
       "      <td>NaN</td>\n",
       "      <td>8600000US00606</td>\n",
       "      <td>ZCTA5 00606</td>\n",
       "      <td>16176</td>\n",
       "    </tr>\n",
       "    <tr>\n",
       "      <th>...</th>\n",
       "      <td>...</td>\n",
       "      <td>...</td>\n",
       "      <td>...</td>\n",
       "      <td>...</td>\n",
       "      <td>...</td>\n",
       "      <td>...</td>\n",
       "    </tr>\n",
       "    <tr>\n",
       "      <th>33116</th>\n",
       "      <td>NaN</td>\n",
       "      <td>NaN</td>\n",
       "      <td>NaN</td>\n",
       "      <td>8600000US99923</td>\n",
       "      <td>ZCTA5 99923</td>\n",
       "      <td>-</td>\n",
       "    </tr>\n",
       "    <tr>\n",
       "      <th>33117</th>\n",
       "      <td>NaN</td>\n",
       "      <td>NaN</td>\n",
       "      <td>NaN</td>\n",
       "      <td>8600000US99925</td>\n",
       "      <td>ZCTA5 99925</td>\n",
       "      <td>80139</td>\n",
       "    </tr>\n",
       "    <tr>\n",
       "      <th>33118</th>\n",
       "      <td>NaN</td>\n",
       "      <td>NaN</td>\n",
       "      <td>NaN</td>\n",
       "      <td>8600000US99926</td>\n",
       "      <td>ZCTA5 99926</td>\n",
       "      <td>70147</td>\n",
       "    </tr>\n",
       "    <tr>\n",
       "      <th>33119</th>\n",
       "      <td>NaN</td>\n",
       "      <td>NaN</td>\n",
       "      <td>NaN</td>\n",
       "      <td>8600000US99927</td>\n",
       "      <td>ZCTA5 99927</td>\n",
       "      <td>-</td>\n",
       "    </tr>\n",
       "    <tr>\n",
       "      <th>33120</th>\n",
       "      <td>NaN</td>\n",
       "      <td>NaN</td>\n",
       "      <td>NaN</td>\n",
       "      <td>8600000US99929</td>\n",
       "      <td>ZCTA5 99929</td>\n",
       "      <td>67976</td>\n",
       "    </tr>\n",
       "  </tbody>\n",
       "</table>\n",
       "<p>33121 rows × 6 columns</p>\n",
       "</div>"
      ],
      "text/plain": [
       "       Unnamed: 0  Unnamed: 1  Unnamed: 2          GEO_ID  \\\n",
       "0             NaN         NaN         NaN              id   \n",
       "1             NaN         NaN         NaN  8600000US00601   \n",
       "2             NaN         NaN         NaN  8600000US00602   \n",
       "3             NaN         NaN         NaN  8600000US00603   \n",
       "4             NaN         NaN         NaN  8600000US00606   \n",
       "...           ...         ...         ...             ...   \n",
       "33116         NaN         NaN         NaN  8600000US99923   \n",
       "33117         NaN         NaN         NaN  8600000US99925   \n",
       "33118         NaN         NaN         NaN  8600000US99926   \n",
       "33119         NaN         NaN         NaN  8600000US99927   \n",
       "33120         NaN         NaN         NaN  8600000US99929   \n",
       "\n",
       "                       NAME                                     S1903_C03_015E  \n",
       "0      Geographic Area Name  Estimate!!Median income (dollars)!!FAMILIES!!F...  \n",
       "1               ZCTA5 00601                                              15721  \n",
       "2               ZCTA5 00602                                              21060  \n",
       "3               ZCTA5 00603                                              19340  \n",
       "4               ZCTA5 00606                                              16176  \n",
       "...                     ...                                                ...  \n",
       "33116           ZCTA5 99923                                                  -  \n",
       "33117           ZCTA5 99925                                              80139  \n",
       "33118           ZCTA5 99926                                              70147  \n",
       "33119           ZCTA5 99927                                                  -  \n",
       "33120           ZCTA5 99929                                              67976  \n",
       "\n",
       "[33121 rows x 6 columns]"
      ]
     },
     "execution_count": 22,
     "metadata": {},
     "output_type": "execute_result"
    }
   ],
   "source": [
    "income"
   ]
  },
  {
   "cell_type": "code",
   "execution_count": null,
   "id": "3be6a15b",
   "metadata": {},
   "outputs": [],
   "source": []
  },
  {
   "cell_type": "code",
   "execution_count": 23,
   "id": "44f6ddd7",
   "metadata": {},
   "outputs": [],
   "source": [
    "def filter_income(row):\n",
    "    if row[\"NAME\"].startswith(\"G\"):\n",
    "        return False\n",
    "    else:\n",
    "        return True"
   ]
  },
  {
   "cell_type": "code",
   "execution_count": 24,
   "id": "b926feba",
   "metadata": {},
   "outputs": [],
   "source": [
    "income = income[income.apply(filter_income,axis=1)]"
   ]
  },
  {
   "cell_type": "code",
   "execution_count": 25,
   "id": "4c47bffe",
   "metadata": {},
   "outputs": [
    {
     "data": {
      "text/html": [
       "<div>\n",
       "<style scoped>\n",
       "    .dataframe tbody tr th:only-of-type {\n",
       "        vertical-align: middle;\n",
       "    }\n",
       "\n",
       "    .dataframe tbody tr th {\n",
       "        vertical-align: top;\n",
       "    }\n",
       "\n",
       "    .dataframe thead th {\n",
       "        text-align: right;\n",
       "    }\n",
       "</style>\n",
       "<table border=\"1\" class=\"dataframe\">\n",
       "  <thead>\n",
       "    <tr style=\"text-align: right;\">\n",
       "      <th></th>\n",
       "      <th>Unnamed: 0</th>\n",
       "      <th>Unnamed: 1</th>\n",
       "      <th>Unnamed: 2</th>\n",
       "      <th>GEO_ID</th>\n",
       "      <th>NAME</th>\n",
       "      <th>S1903_C03_015E</th>\n",
       "    </tr>\n",
       "  </thead>\n",
       "  <tbody>\n",
       "    <tr>\n",
       "      <th>1</th>\n",
       "      <td>NaN</td>\n",
       "      <td>NaN</td>\n",
       "      <td>NaN</td>\n",
       "      <td>8600000US00601</td>\n",
       "      <td>ZCTA5 00601</td>\n",
       "      <td>15721</td>\n",
       "    </tr>\n",
       "    <tr>\n",
       "      <th>2</th>\n",
       "      <td>NaN</td>\n",
       "      <td>NaN</td>\n",
       "      <td>NaN</td>\n",
       "      <td>8600000US00602</td>\n",
       "      <td>ZCTA5 00602</td>\n",
       "      <td>21060</td>\n",
       "    </tr>\n",
       "    <tr>\n",
       "      <th>3</th>\n",
       "      <td>NaN</td>\n",
       "      <td>NaN</td>\n",
       "      <td>NaN</td>\n",
       "      <td>8600000US00603</td>\n",
       "      <td>ZCTA5 00603</td>\n",
       "      <td>19340</td>\n",
       "    </tr>\n",
       "    <tr>\n",
       "      <th>4</th>\n",
       "      <td>NaN</td>\n",
       "      <td>NaN</td>\n",
       "      <td>NaN</td>\n",
       "      <td>8600000US00606</td>\n",
       "      <td>ZCTA5 00606</td>\n",
       "      <td>16176</td>\n",
       "    </tr>\n",
       "    <tr>\n",
       "      <th>5</th>\n",
       "      <td>NaN</td>\n",
       "      <td>NaN</td>\n",
       "      <td>NaN</td>\n",
       "      <td>8600000US00610</td>\n",
       "      <td>ZCTA5 00610</td>\n",
       "      <td>23968</td>\n",
       "    </tr>\n",
       "    <tr>\n",
       "      <th>...</th>\n",
       "      <td>...</td>\n",
       "      <td>...</td>\n",
       "      <td>...</td>\n",
       "      <td>...</td>\n",
       "      <td>...</td>\n",
       "      <td>...</td>\n",
       "    </tr>\n",
       "    <tr>\n",
       "      <th>33116</th>\n",
       "      <td>NaN</td>\n",
       "      <td>NaN</td>\n",
       "      <td>NaN</td>\n",
       "      <td>8600000US99923</td>\n",
       "      <td>ZCTA5 99923</td>\n",
       "      <td>-</td>\n",
       "    </tr>\n",
       "    <tr>\n",
       "      <th>33117</th>\n",
       "      <td>NaN</td>\n",
       "      <td>NaN</td>\n",
       "      <td>NaN</td>\n",
       "      <td>8600000US99925</td>\n",
       "      <td>ZCTA5 99925</td>\n",
       "      <td>80139</td>\n",
       "    </tr>\n",
       "    <tr>\n",
       "      <th>33118</th>\n",
       "      <td>NaN</td>\n",
       "      <td>NaN</td>\n",
       "      <td>NaN</td>\n",
       "      <td>8600000US99926</td>\n",
       "      <td>ZCTA5 99926</td>\n",
       "      <td>70147</td>\n",
       "    </tr>\n",
       "    <tr>\n",
       "      <th>33119</th>\n",
       "      <td>NaN</td>\n",
       "      <td>NaN</td>\n",
       "      <td>NaN</td>\n",
       "      <td>8600000US99927</td>\n",
       "      <td>ZCTA5 99927</td>\n",
       "      <td>-</td>\n",
       "    </tr>\n",
       "    <tr>\n",
       "      <th>33120</th>\n",
       "      <td>NaN</td>\n",
       "      <td>NaN</td>\n",
       "      <td>NaN</td>\n",
       "      <td>8600000US99929</td>\n",
       "      <td>ZCTA5 99929</td>\n",
       "      <td>67976</td>\n",
       "    </tr>\n",
       "  </tbody>\n",
       "</table>\n",
       "<p>33120 rows × 6 columns</p>\n",
       "</div>"
      ],
      "text/plain": [
       "       Unnamed: 0  Unnamed: 1  Unnamed: 2          GEO_ID         NAME  \\\n",
       "1             NaN         NaN         NaN  8600000US00601  ZCTA5 00601   \n",
       "2             NaN         NaN         NaN  8600000US00602  ZCTA5 00602   \n",
       "3             NaN         NaN         NaN  8600000US00603  ZCTA5 00603   \n",
       "4             NaN         NaN         NaN  8600000US00606  ZCTA5 00606   \n",
       "5             NaN         NaN         NaN  8600000US00610  ZCTA5 00610   \n",
       "...           ...         ...         ...             ...          ...   \n",
       "33116         NaN         NaN         NaN  8600000US99923  ZCTA5 99923   \n",
       "33117         NaN         NaN         NaN  8600000US99925  ZCTA5 99925   \n",
       "33118         NaN         NaN         NaN  8600000US99926  ZCTA5 99926   \n",
       "33119         NaN         NaN         NaN  8600000US99927  ZCTA5 99927   \n",
       "33120         NaN         NaN         NaN  8600000US99929  ZCTA5 99929   \n",
       "\n",
       "      S1903_C03_015E  \n",
       "1              15721  \n",
       "2              21060  \n",
       "3              19340  \n",
       "4              16176  \n",
       "5              23968  \n",
       "...              ...  \n",
       "33116              -  \n",
       "33117          80139  \n",
       "33118          70147  \n",
       "33119              -  \n",
       "33120          67976  \n",
       "\n",
       "[33120 rows x 6 columns]"
      ]
     },
     "execution_count": 25,
     "metadata": {},
     "output_type": "execute_result"
    }
   ],
   "source": [
    "income"
   ]
  },
  {
   "cell_type": "code",
   "execution_count": 26,
   "id": "b7a422b4",
   "metadata": {},
   "outputs": [],
   "source": [
    "del income[\"Unnamed: 0\"]"
   ]
  },
  {
   "cell_type": "code",
   "execution_count": 27,
   "id": "bf0ba1c4",
   "metadata": {},
   "outputs": [],
   "source": [
    "del income[\"Unnamed: 1\"]"
   ]
  },
  {
   "cell_type": "code",
   "execution_count": 28,
   "id": "ec3949aa",
   "metadata": {},
   "outputs": [],
   "source": [
    "del income[\"Unnamed: 2\"]"
   ]
  },
  {
   "cell_type": "code",
   "execution_count": null,
   "id": "32b615d4",
   "metadata": {},
   "outputs": [],
   "source": []
  },
  {
   "cell_type": "code",
   "execution_count": 29,
   "id": "7e737ec0",
   "metadata": {},
   "outputs": [],
   "source": [
    "del income [\"GEO_ID\"]"
   ]
  },
  {
   "cell_type": "code",
   "execution_count": null,
   "id": "5c2f777a",
   "metadata": {},
   "outputs": [],
   "source": []
  },
  {
   "cell_type": "code",
   "execution_count": 30,
   "id": "38ef58b2",
   "metadata": {},
   "outputs": [
    {
     "name": "stderr",
     "output_type": "stream",
     "text": [
      "/var/folders/h4/r6tpj_q56gb11bpc5pv3wfyr0000gn/T/ipykernel_18590/1836072002.py:1: SettingWithCopyWarning: \n",
      "A value is trying to be set on a copy of a slice from a DataFrame.\n",
      "Try using .loc[row_indexer,col_indexer] = value instead\n",
      "\n",
      "See the caveats in the documentation: https://pandas.pydata.org/pandas-docs/stable/user_guide/indexing.html#returning-a-view-versus-a-copy\n",
      "  income[\"NAME\"] = income[\"NAME\"].str[6:11]\n"
     ]
    }
   ],
   "source": [
    "income[\"NAME\"] = income[\"NAME\"].str[6:11]"
   ]
  },
  {
   "cell_type": "code",
   "execution_count": 31,
   "id": "1cc495ea",
   "metadata": {},
   "outputs": [
    {
     "data": {
      "text/html": [
       "<div>\n",
       "<style scoped>\n",
       "    .dataframe tbody tr th:only-of-type {\n",
       "        vertical-align: middle;\n",
       "    }\n",
       "\n",
       "    .dataframe tbody tr th {\n",
       "        vertical-align: top;\n",
       "    }\n",
       "\n",
       "    .dataframe thead th {\n",
       "        text-align: right;\n",
       "    }\n",
       "</style>\n",
       "<table border=\"1\" class=\"dataframe\">\n",
       "  <thead>\n",
       "    <tr style=\"text-align: right;\">\n",
       "      <th></th>\n",
       "      <th>NAME</th>\n",
       "      <th>S1903_C03_015E</th>\n",
       "    </tr>\n",
       "  </thead>\n",
       "  <tbody>\n",
       "    <tr>\n",
       "      <th>1</th>\n",
       "      <td>00601</td>\n",
       "      <td>15721</td>\n",
       "    </tr>\n",
       "    <tr>\n",
       "      <th>2</th>\n",
       "      <td>00602</td>\n",
       "      <td>21060</td>\n",
       "    </tr>\n",
       "    <tr>\n",
       "      <th>3</th>\n",
       "      <td>00603</td>\n",
       "      <td>19340</td>\n",
       "    </tr>\n",
       "    <tr>\n",
       "      <th>4</th>\n",
       "      <td>00606</td>\n",
       "      <td>16176</td>\n",
       "    </tr>\n",
       "    <tr>\n",
       "      <th>5</th>\n",
       "      <td>00610</td>\n",
       "      <td>23968</td>\n",
       "    </tr>\n",
       "    <tr>\n",
       "      <th>...</th>\n",
       "      <td>...</td>\n",
       "      <td>...</td>\n",
       "    </tr>\n",
       "    <tr>\n",
       "      <th>33116</th>\n",
       "      <td>99923</td>\n",
       "      <td>-</td>\n",
       "    </tr>\n",
       "    <tr>\n",
       "      <th>33117</th>\n",
       "      <td>99925</td>\n",
       "      <td>80139</td>\n",
       "    </tr>\n",
       "    <tr>\n",
       "      <th>33118</th>\n",
       "      <td>99926</td>\n",
       "      <td>70147</td>\n",
       "    </tr>\n",
       "    <tr>\n",
       "      <th>33119</th>\n",
       "      <td>99927</td>\n",
       "      <td>-</td>\n",
       "    </tr>\n",
       "    <tr>\n",
       "      <th>33120</th>\n",
       "      <td>99929</td>\n",
       "      <td>67976</td>\n",
       "    </tr>\n",
       "  </tbody>\n",
       "</table>\n",
       "<p>33120 rows × 2 columns</p>\n",
       "</div>"
      ],
      "text/plain": [
       "        NAME S1903_C03_015E\n",
       "1      00601          15721\n",
       "2      00602          21060\n",
       "3      00603          19340\n",
       "4      00606          16176\n",
       "5      00610          23968\n",
       "...      ...            ...\n",
       "33116  99923              -\n",
       "33117  99925          80139\n",
       "33118  99926          70147\n",
       "33119  99927              -\n",
       "33120  99929          67976\n",
       "\n",
       "[33120 rows x 2 columns]"
      ]
     },
     "execution_count": 31,
     "metadata": {},
     "output_type": "execute_result"
    }
   ],
   "source": [
    "income"
   ]
  },
  {
   "cell_type": "code",
   "execution_count": 32,
   "id": "456de59b",
   "metadata": {},
   "outputs": [
    {
     "name": "stdout",
     "output_type": "stream",
     "text": [
      "1        00601\n",
      "2        00602\n",
      "3        00603\n",
      "4        00606\n",
      "5        00610\n",
      "         ...  \n",
      "33116    99923\n",
      "33117    99925\n",
      "33118    99926\n",
      "33119    99927\n",
      "33120    99929\n",
      "Name: NAME, Length: 33120, dtype: object\n"
     ]
    }
   ],
   "source": [
    "print(income.NAME)"
   ]
  },
  {
   "cell_type": "code",
   "execution_count": 33,
   "id": "a1525ef3",
   "metadata": {},
   "outputs": [
    {
     "name": "stderr",
     "output_type": "stream",
     "text": [
      "/var/folders/h4/r6tpj_q56gb11bpc5pv3wfyr0000gn/T/ipykernel_18590/826097255.py:1: SettingWithCopyWarning: \n",
      "A value is trying to be set on a copy of a slice from a DataFrame\n",
      "\n",
      "See the caveats in the documentation: https://pandas.pydata.org/pandas-docs/stable/user_guide/indexing.html#returning-a-view-versus-a-copy\n",
      "  income.rename(columns = {'S1903_C03_015E': 'MEDINCOME'}, inplace = True)\n"
     ]
    }
   ],
   "source": [
    "income.rename(columns = {'S1903_C03_015E': 'MEDINCOME'}, inplace = True)"
   ]
  },
  {
   "cell_type": "code",
   "execution_count": 34,
   "id": "32abf6ec",
   "metadata": {},
   "outputs": [
    {
     "name": "stderr",
     "output_type": "stream",
     "text": [
      "/var/folders/h4/r6tpj_q56gb11bpc5pv3wfyr0000gn/T/ipykernel_18590/3609746190.py:1: SettingWithCopyWarning: \n",
      "A value is trying to be set on a copy of a slice from a DataFrame\n",
      "\n",
      "See the caveats in the documentation: https://pandas.pydata.org/pandas-docs/stable/user_guide/indexing.html#returning-a-view-versus-a-copy\n",
      "  income.rename(columns = {'NAME' : 'zipcode'}, inplace = True)\n"
     ]
    }
   ],
   "source": [
    "income.rename(columns = {'NAME' : 'zipcode'}, inplace = True)"
   ]
  },
  {
   "cell_type": "code",
   "execution_count": 35,
   "id": "0e2308e8",
   "metadata": {},
   "outputs": [],
   "source": [
    "#def filter_CAcode(row):\n",
    "    #if int(row[\"zipcode\"]) >= 90001 and int(row[\"zipcode\"]) <= 96162:\n",
    "        #return True\n",
    "    #else:\n",
    "        #return False"
   ]
  },
  {
   "cell_type": "code",
   "execution_count": null,
   "id": "ac271859",
   "metadata": {},
   "outputs": [],
   "source": []
  },
  {
   "cell_type": "code",
   "execution_count": 36,
   "id": "f5d9d9e9",
   "metadata": {},
   "outputs": [
    {
     "name": "stderr",
     "output_type": "stream",
     "text": [
      "/var/folders/h4/r6tpj_q56gb11bpc5pv3wfyr0000gn/T/ipykernel_18590/1178273241.py:1: SettingWithCopyWarning: \n",
      "A value is trying to be set on a copy of a slice from a DataFrame\n",
      "\n",
      "See the caveats in the documentation: https://pandas.pydata.org/pandas-docs/stable/user_guide/indexing.html#returning-a-view-versus-a-copy\n",
      "  income.dropna(inplace=True)\n"
     ]
    }
   ],
   "source": [
    "income.dropna(inplace=True)"
   ]
  },
  {
   "cell_type": "code",
   "execution_count": null,
   "id": "a4c497fe",
   "metadata": {},
   "outputs": [],
   "source": []
  },
  {
   "cell_type": "code",
   "execution_count": null,
   "id": "6fc9e28a",
   "metadata": {},
   "outputs": [],
   "source": []
  },
  {
   "cell_type": "code",
   "execution_count": null,
   "id": "b89e2efd",
   "metadata": {},
   "outputs": [],
   "source": []
  },
  {
   "cell_type": "code",
   "execution_count": 37,
   "id": "a24d5bae",
   "metadata": {},
   "outputs": [],
   "source": [
    "df_joined=df.set_index(\"zipcode\").join(income.set_index(\"zipcode\"))"
   ]
  },
  {
   "cell_type": "code",
   "execution_count": 38,
   "id": "74dedaae",
   "metadata": {},
   "outputs": [],
   "source": [
    "df_joined.dropna(inplace= True)"
   ]
  },
  {
   "cell_type": "code",
   "execution_count": 39,
   "id": "4610027d",
   "metadata": {},
   "outputs": [
    {
     "data": {
      "text/html": [
       "<div>\n",
       "<style scoped>\n",
       "    .dataframe tbody tr th:only-of-type {\n",
       "        vertical-align: middle;\n",
       "    }\n",
       "\n",
       "    .dataframe tbody tr th {\n",
       "        vertical-align: top;\n",
       "    }\n",
       "\n",
       "    .dataframe thead th {\n",
       "        text-align: right;\n",
       "    }\n",
       "</style>\n",
       "<table border=\"1\" class=\"dataframe\">\n",
       "  <thead>\n",
       "    <tr style=\"text-align: right;\">\n",
       "      <th></th>\n",
       "      <th>year</th>\n",
       "      <th>county</th>\n",
       "      <th>rate</th>\n",
       "      <th>MEDINCOME</th>\n",
       "    </tr>\n",
       "    <tr>\n",
       "      <th>zipcode</th>\n",
       "      <th></th>\n",
       "      <th></th>\n",
       "      <th></th>\n",
       "      <th></th>\n",
       "    </tr>\n",
       "  </thead>\n",
       "  <tbody>\n",
       "    <tr>\n",
       "      <th>90001</th>\n",
       "      <td>2021</td>\n",
       "      <td>Los Angeles</td>\n",
       "      <td>22.673220</td>\n",
       "      <td>50344</td>\n",
       "    </tr>\n",
       "    <tr>\n",
       "      <th>90002</th>\n",
       "      <td>2021</td>\n",
       "      <td>Los Angeles</td>\n",
       "      <td>12.645372</td>\n",
       "      <td>45417</td>\n",
       "    </tr>\n",
       "    <tr>\n",
       "      <th>90003</th>\n",
       "      <td>2021</td>\n",
       "      <td>Los Angeles</td>\n",
       "      <td>19.915432</td>\n",
       "      <td>44595</td>\n",
       "    </tr>\n",
       "    <tr>\n",
       "      <th>90004</th>\n",
       "      <td>2021</td>\n",
       "      <td>Los Angeles</td>\n",
       "      <td>20.862092</td>\n",
       "      <td>58073</td>\n",
       "    </tr>\n",
       "    <tr>\n",
       "      <th>90005</th>\n",
       "      <td>2021</td>\n",
       "      <td>Los Angeles</td>\n",
       "      <td>8.283913</td>\n",
       "      <td>49552</td>\n",
       "    </tr>\n",
       "    <tr>\n",
       "      <th>...</th>\n",
       "      <td>...</td>\n",
       "      <td>...</td>\n",
       "      <td>...</td>\n",
       "      <td>...</td>\n",
       "    </tr>\n",
       "    <tr>\n",
       "      <th>96145</th>\n",
       "      <td>2021</td>\n",
       "      <td>Placer</td>\n",
       "      <td>18.069974</td>\n",
       "      <td>110101</td>\n",
       "    </tr>\n",
       "    <tr>\n",
       "      <th>96146</th>\n",
       "      <td>2021</td>\n",
       "      <td>Placer</td>\n",
       "      <td>0.000000</td>\n",
       "      <td>148438</td>\n",
       "    </tr>\n",
       "    <tr>\n",
       "      <th>96148</th>\n",
       "      <td>2021</td>\n",
       "      <td>Placer</td>\n",
       "      <td>0.000000</td>\n",
       "      <td>105729</td>\n",
       "    </tr>\n",
       "    <tr>\n",
       "      <th>96150</th>\n",
       "      <td>2021</td>\n",
       "      <td>El Dorado</td>\n",
       "      <td>28.845367</td>\n",
       "      <td>82407</td>\n",
       "    </tr>\n",
       "    <tr>\n",
       "      <th>96161</th>\n",
       "      <td>2021</td>\n",
       "      <td>Neveda</td>\n",
       "      <td>22.739356</td>\n",
       "      <td>115436</td>\n",
       "    </tr>\n",
       "  </tbody>\n",
       "</table>\n",
       "<p>1641 rows × 4 columns</p>\n",
       "</div>"
      ],
      "text/plain": [
       "         year       county       rate MEDINCOME\n",
       "zipcode                                        \n",
       "90001    2021  Los Angeles  22.673220     50344\n",
       "90002    2021  Los Angeles  12.645372     45417\n",
       "90003    2021  Los Angeles  19.915432     44595\n",
       "90004    2021  Los Angeles  20.862092     58073\n",
       "90005    2021  Los Angeles   8.283913     49552\n",
       "...       ...          ...        ...       ...\n",
       "96145    2021       Placer  18.069974    110101\n",
       "96146    2021       Placer   0.000000    148438\n",
       "96148    2021       Placer   0.000000    105729\n",
       "96150    2021    El Dorado  28.845367     82407\n",
       "96161    2021       Neveda  22.739356    115436\n",
       "\n",
       "[1641 rows x 4 columns]"
      ]
     },
     "execution_count": 39,
     "metadata": {},
     "output_type": "execute_result"
    }
   ],
   "source": [
    "df_joined"
   ]
  },
  {
   "cell_type": "code",
   "execution_count": 40,
   "id": "c412b59a",
   "metadata": {},
   "outputs": [
    {
     "data": {
      "text/html": [
       "<div>\n",
       "<style scoped>\n",
       "    .dataframe tbody tr th:only-of-type {\n",
       "        vertical-align: middle;\n",
       "    }\n",
       "\n",
       "    .dataframe tbody tr th {\n",
       "        vertical-align: top;\n",
       "    }\n",
       "\n",
       "    .dataframe thead th {\n",
       "        text-align: right;\n",
       "    }\n",
       "</style>\n",
       "<table border=\"1\" class=\"dataframe\">\n",
       "  <thead>\n",
       "    <tr style=\"text-align: right;\">\n",
       "      <th></th>\n",
       "      <th>year</th>\n",
       "      <th>county</th>\n",
       "      <th>rate</th>\n",
       "      <th>MEDINCOME</th>\n",
       "    </tr>\n",
       "    <tr>\n",
       "      <th>zipcode</th>\n",
       "      <th></th>\n",
       "      <th></th>\n",
       "      <th></th>\n",
       "      <th></th>\n",
       "    </tr>\n",
       "  </thead>\n",
       "  <tbody>\n",
       "    <tr>\n",
       "      <th>90001</th>\n",
       "      <td>2021</td>\n",
       "      <td>Los Angeles</td>\n",
       "      <td>22.673220</td>\n",
       "      <td>50344</td>\n",
       "    </tr>\n",
       "    <tr>\n",
       "      <th>90002</th>\n",
       "      <td>2021</td>\n",
       "      <td>Los Angeles</td>\n",
       "      <td>12.645372</td>\n",
       "      <td>45417</td>\n",
       "    </tr>\n",
       "    <tr>\n",
       "      <th>90003</th>\n",
       "      <td>2021</td>\n",
       "      <td>Los Angeles</td>\n",
       "      <td>19.915432</td>\n",
       "      <td>44595</td>\n",
       "    </tr>\n",
       "    <tr>\n",
       "      <th>90004</th>\n",
       "      <td>2021</td>\n",
       "      <td>Los Angeles</td>\n",
       "      <td>20.862092</td>\n",
       "      <td>58073</td>\n",
       "    </tr>\n",
       "    <tr>\n",
       "      <th>90005</th>\n",
       "      <td>2021</td>\n",
       "      <td>Los Angeles</td>\n",
       "      <td>8.283913</td>\n",
       "      <td>49552</td>\n",
       "    </tr>\n",
       "    <tr>\n",
       "      <th>...</th>\n",
       "      <td>...</td>\n",
       "      <td>...</td>\n",
       "      <td>...</td>\n",
       "      <td>...</td>\n",
       "    </tr>\n",
       "    <tr>\n",
       "      <th>96145</th>\n",
       "      <td>2021</td>\n",
       "      <td>Placer</td>\n",
       "      <td>18.069974</td>\n",
       "      <td>110101</td>\n",
       "    </tr>\n",
       "    <tr>\n",
       "      <th>96146</th>\n",
       "      <td>2021</td>\n",
       "      <td>Placer</td>\n",
       "      <td>0.000000</td>\n",
       "      <td>148438</td>\n",
       "    </tr>\n",
       "    <tr>\n",
       "      <th>96148</th>\n",
       "      <td>2021</td>\n",
       "      <td>Placer</td>\n",
       "      <td>0.000000</td>\n",
       "      <td>105729</td>\n",
       "    </tr>\n",
       "    <tr>\n",
       "      <th>96150</th>\n",
       "      <td>2021</td>\n",
       "      <td>El Dorado</td>\n",
       "      <td>28.845367</td>\n",
       "      <td>82407</td>\n",
       "    </tr>\n",
       "    <tr>\n",
       "      <th>96161</th>\n",
       "      <td>2021</td>\n",
       "      <td>Neveda</td>\n",
       "      <td>22.739356</td>\n",
       "      <td>115436</td>\n",
       "    </tr>\n",
       "  </tbody>\n",
       "</table>\n",
       "<p>1641 rows × 4 columns</p>\n",
       "</div>"
      ],
      "text/plain": [
       "         year       county       rate MEDINCOME\n",
       "zipcode                                        \n",
       "90001    2021  Los Angeles  22.673220     50344\n",
       "90002    2021  Los Angeles  12.645372     45417\n",
       "90003    2021  Los Angeles  19.915432     44595\n",
       "90004    2021  Los Angeles  20.862092     58073\n",
       "90005    2021  Los Angeles   8.283913     49552\n",
       "...       ...          ...        ...       ...\n",
       "96145    2021       Placer  18.069974    110101\n",
       "96146    2021       Placer   0.000000    148438\n",
       "96148    2021       Placer   0.000000    105729\n",
       "96150    2021    El Dorado  28.845367     82407\n",
       "96161    2021       Neveda  22.739356    115436\n",
       "\n",
       "[1641 rows x 4 columns]"
      ]
     },
     "execution_count": 40,
     "metadata": {},
     "output_type": "execute_result"
    }
   ],
   "source": [
    "df_joined"
   ]
  },
  {
   "cell_type": "code",
   "execution_count": 41,
   "id": "0671c692",
   "metadata": {},
   "outputs": [
    {
     "data": {
      "text/plain": [
       "pandas.core.frame.DataFrame"
      ]
     },
     "execution_count": 41,
     "metadata": {},
     "output_type": "execute_result"
    }
   ],
   "source": [
    "type(df_joined)"
   ]
  },
  {
   "cell_type": "code",
   "execution_count": 42,
   "id": "6cbcfdfd",
   "metadata": {},
   "outputs": [
    {
     "data": {
      "text/plain": [
       "zipcode\n",
       "90001    22.673220\n",
       "90002    12.645372\n",
       "90003    19.915432\n",
       "90004    20.862092\n",
       "90005     8.283913\n",
       "           ...    \n",
       "96145    18.069974\n",
       "96146     0.000000\n",
       "96148     0.000000\n",
       "96150    28.845367\n",
       "96161    22.739356\n",
       "Name: rate, Length: 1641, dtype: float64"
      ]
     },
     "execution_count": 42,
     "metadata": {},
     "output_type": "execute_result"
    }
   ],
   "source": [
    "df_joined.rate"
   ]
  },
  {
   "cell_type": "code",
   "execution_count": 43,
   "id": "65798d8e",
   "metadata": {},
   "outputs": [
    {
     "data": {
      "text/plain": [
       "zipcode\n",
       "90001     50344\n",
       "90002     45417\n",
       "90003     44595\n",
       "90004     58073\n",
       "90005     49552\n",
       "          ...  \n",
       "96145    110101\n",
       "96146    148438\n",
       "96148    105729\n",
       "96150     82407\n",
       "96161    115436\n",
       "Name: MEDINCOME, Length: 1641, dtype: object"
      ]
     },
     "execution_count": 43,
     "metadata": {},
     "output_type": "execute_result"
    }
   ],
   "source": [
    "df_joined.MEDINCOME"
   ]
  },
  {
   "cell_type": "code",
   "execution_count": null,
   "id": "4031814e",
   "metadata": {},
   "outputs": [],
   "source": []
  },
  {
   "cell_type": "code",
   "execution_count": 44,
   "id": "1ceb38ec",
   "metadata": {},
   "outputs": [
    {
     "data": {
      "text/html": [
       "<div>\n",
       "<style scoped>\n",
       "    .dataframe tbody tr th:only-of-type {\n",
       "        vertical-align: middle;\n",
       "    }\n",
       "\n",
       "    .dataframe tbody tr th {\n",
       "        vertical-align: top;\n",
       "    }\n",
       "\n",
       "    .dataframe thead th {\n",
       "        text-align: right;\n",
       "    }\n",
       "</style>\n",
       "<table border=\"1\" class=\"dataframe\">\n",
       "  <thead>\n",
       "    <tr style=\"text-align: right;\">\n",
       "      <th></th>\n",
       "      <th>year</th>\n",
       "      <th>county</th>\n",
       "      <th>rate</th>\n",
       "      <th>MEDINCOME</th>\n",
       "    </tr>\n",
       "    <tr>\n",
       "      <th>zipcode</th>\n",
       "      <th></th>\n",
       "      <th></th>\n",
       "      <th></th>\n",
       "      <th></th>\n",
       "    </tr>\n",
       "  </thead>\n",
       "  <tbody>\n",
       "    <tr>\n",
       "      <th>90001</th>\n",
       "      <td>2021</td>\n",
       "      <td>Los Angeles</td>\n",
       "      <td>22.673220</td>\n",
       "      <td>50344</td>\n",
       "    </tr>\n",
       "    <tr>\n",
       "      <th>90002</th>\n",
       "      <td>2021</td>\n",
       "      <td>Los Angeles</td>\n",
       "      <td>12.645372</td>\n",
       "      <td>45417</td>\n",
       "    </tr>\n",
       "    <tr>\n",
       "      <th>90003</th>\n",
       "      <td>2021</td>\n",
       "      <td>Los Angeles</td>\n",
       "      <td>19.915432</td>\n",
       "      <td>44595</td>\n",
       "    </tr>\n",
       "    <tr>\n",
       "      <th>90004</th>\n",
       "      <td>2021</td>\n",
       "      <td>Los Angeles</td>\n",
       "      <td>20.862092</td>\n",
       "      <td>58073</td>\n",
       "    </tr>\n",
       "    <tr>\n",
       "      <th>90005</th>\n",
       "      <td>2021</td>\n",
       "      <td>Los Angeles</td>\n",
       "      <td>8.283913</td>\n",
       "      <td>49552</td>\n",
       "    </tr>\n",
       "    <tr>\n",
       "      <th>...</th>\n",
       "      <td>...</td>\n",
       "      <td>...</td>\n",
       "      <td>...</td>\n",
       "      <td>...</td>\n",
       "    </tr>\n",
       "    <tr>\n",
       "      <th>96145</th>\n",
       "      <td>2021</td>\n",
       "      <td>Placer</td>\n",
       "      <td>18.069974</td>\n",
       "      <td>110101</td>\n",
       "    </tr>\n",
       "    <tr>\n",
       "      <th>96146</th>\n",
       "      <td>2021</td>\n",
       "      <td>Placer</td>\n",
       "      <td>0.000000</td>\n",
       "      <td>148438</td>\n",
       "    </tr>\n",
       "    <tr>\n",
       "      <th>96148</th>\n",
       "      <td>2021</td>\n",
       "      <td>Placer</td>\n",
       "      <td>0.000000</td>\n",
       "      <td>105729</td>\n",
       "    </tr>\n",
       "    <tr>\n",
       "      <th>96150</th>\n",
       "      <td>2021</td>\n",
       "      <td>El Dorado</td>\n",
       "      <td>28.845367</td>\n",
       "      <td>82407</td>\n",
       "    </tr>\n",
       "    <tr>\n",
       "      <th>96161</th>\n",
       "      <td>2021</td>\n",
       "      <td>Neveda</td>\n",
       "      <td>22.739356</td>\n",
       "      <td>115436</td>\n",
       "    </tr>\n",
       "  </tbody>\n",
       "</table>\n",
       "<p>1641 rows × 4 columns</p>\n",
       "</div>"
      ],
      "text/plain": [
       "         year       county       rate MEDINCOME\n",
       "zipcode                                        \n",
       "90001    2021  Los Angeles  22.673220     50344\n",
       "90002    2021  Los Angeles  12.645372     45417\n",
       "90003    2021  Los Angeles  19.915432     44595\n",
       "90004    2021  Los Angeles  20.862092     58073\n",
       "90005    2021  Los Angeles   8.283913     49552\n",
       "...       ...          ...        ...       ...\n",
       "96145    2021       Placer  18.069974    110101\n",
       "96146    2021       Placer   0.000000    148438\n",
       "96148    2021       Placer   0.000000    105729\n",
       "96150    2021    El Dorado  28.845367     82407\n",
       "96161    2021       Neveda  22.739356    115436\n",
       "\n",
       "[1641 rows x 4 columns]"
      ]
     },
     "execution_count": 44,
     "metadata": {},
     "output_type": "execute_result"
    }
   ],
   "source": [
    "df_joined"
   ]
  },
  {
   "cell_type": "code",
   "execution_count": 45,
   "id": "9d2e6a7c",
   "metadata": {},
   "outputs": [],
   "source": [
    "def tofloat(row):\n",
    "    return float(row[\"rate\"])"
   ]
  },
  {
   "cell_type": "code",
   "execution_count": 46,
   "id": "b18dca54",
   "metadata": {},
   "outputs": [],
   "source": [
    "df_joined['rate1'] = df_joined.apply(tofloat, axis=1)"
   ]
  },
  {
   "cell_type": "code",
   "execution_count": 47,
   "id": "4785b37c",
   "metadata": {},
   "outputs": [
    {
     "data": {
      "text/plain": [
       "zipcode\n",
       "90001    22.673220\n",
       "90002    12.645372\n",
       "90003    19.915432\n",
       "90004    20.862092\n",
       "90005     8.283913\n",
       "           ...    \n",
       "96145    18.069974\n",
       "96146     0.000000\n",
       "96148     0.000000\n",
       "96150    28.845367\n",
       "96161    22.739356\n",
       "Length: 1641, dtype: float64"
      ]
     },
     "execution_count": 47,
     "metadata": {},
     "output_type": "execute_result"
    }
   ],
   "source": [
    "df_joined.apply(lambda row:float(row[\"rate\"]), axis=1)"
   ]
  },
  {
   "cell_type": "code",
   "execution_count": 48,
   "id": "4c2ebeb4",
   "metadata": {},
   "outputs": [
    {
     "data": {
      "text/html": [
       "<div>\n",
       "<style scoped>\n",
       "    .dataframe tbody tr th:only-of-type {\n",
       "        vertical-align: middle;\n",
       "    }\n",
       "\n",
       "    .dataframe tbody tr th {\n",
       "        vertical-align: top;\n",
       "    }\n",
       "\n",
       "    .dataframe thead th {\n",
       "        text-align: right;\n",
       "    }\n",
       "</style>\n",
       "<table border=\"1\" class=\"dataframe\">\n",
       "  <thead>\n",
       "    <tr style=\"text-align: right;\">\n",
       "      <th></th>\n",
       "      <th>year</th>\n",
       "      <th>county</th>\n",
       "      <th>rate</th>\n",
       "      <th>MEDINCOME</th>\n",
       "      <th>rate1</th>\n",
       "    </tr>\n",
       "    <tr>\n",
       "      <th>zipcode</th>\n",
       "      <th></th>\n",
       "      <th></th>\n",
       "      <th></th>\n",
       "      <th></th>\n",
       "      <th></th>\n",
       "    </tr>\n",
       "  </thead>\n",
       "  <tbody>\n",
       "    <tr>\n",
       "      <th>90001</th>\n",
       "      <td>2021</td>\n",
       "      <td>Los Angeles</td>\n",
       "      <td>22.673220</td>\n",
       "      <td>50344</td>\n",
       "      <td>22.673220</td>\n",
       "    </tr>\n",
       "    <tr>\n",
       "      <th>90002</th>\n",
       "      <td>2021</td>\n",
       "      <td>Los Angeles</td>\n",
       "      <td>12.645372</td>\n",
       "      <td>45417</td>\n",
       "      <td>12.645372</td>\n",
       "    </tr>\n",
       "    <tr>\n",
       "      <th>90003</th>\n",
       "      <td>2021</td>\n",
       "      <td>Los Angeles</td>\n",
       "      <td>19.915432</td>\n",
       "      <td>44595</td>\n",
       "      <td>19.915432</td>\n",
       "    </tr>\n",
       "    <tr>\n",
       "      <th>90004</th>\n",
       "      <td>2021</td>\n",
       "      <td>Los Angeles</td>\n",
       "      <td>20.862092</td>\n",
       "      <td>58073</td>\n",
       "      <td>20.862092</td>\n",
       "    </tr>\n",
       "    <tr>\n",
       "      <th>90005</th>\n",
       "      <td>2021</td>\n",
       "      <td>Los Angeles</td>\n",
       "      <td>8.283913</td>\n",
       "      <td>49552</td>\n",
       "      <td>8.283913</td>\n",
       "    </tr>\n",
       "    <tr>\n",
       "      <th>90006</th>\n",
       "      <td>2021</td>\n",
       "      <td>Los Angeles</td>\n",
       "      <td>13.954837</td>\n",
       "      <td>37185</td>\n",
       "      <td>13.954837</td>\n",
       "    </tr>\n",
       "    <tr>\n",
       "      <th>90007</th>\n",
       "      <td>2021</td>\n",
       "      <td>Los Angeles</td>\n",
       "      <td>5.490788</td>\n",
       "      <td>41172</td>\n",
       "      <td>5.490788</td>\n",
       "    </tr>\n",
       "    <tr>\n",
       "      <th>90008</th>\n",
       "      <td>2021</td>\n",
       "      <td>Los Angeles</td>\n",
       "      <td>33.826045</td>\n",
       "      <td>72036</td>\n",
       "      <td>33.826045</td>\n",
       "    </tr>\n",
       "    <tr>\n",
       "      <th>90010</th>\n",
       "      <td>2021</td>\n",
       "      <td>Los Angeles</td>\n",
       "      <td>13.523931</td>\n",
       "      <td>68973</td>\n",
       "      <td>13.523931</td>\n",
       "    </tr>\n",
       "    <tr>\n",
       "      <th>90011</th>\n",
       "      <td>2021</td>\n",
       "      <td>Los Angeles</td>\n",
       "      <td>15.420765</td>\n",
       "      <td>43691</td>\n",
       "      <td>15.420765</td>\n",
       "    </tr>\n",
       "  </tbody>\n",
       "</table>\n",
       "</div>"
      ],
      "text/plain": [
       "         year       county       rate MEDINCOME      rate1\n",
       "zipcode                                                   \n",
       "90001    2021  Los Angeles  22.673220     50344  22.673220\n",
       "90002    2021  Los Angeles  12.645372     45417  12.645372\n",
       "90003    2021  Los Angeles  19.915432     44595  19.915432\n",
       "90004    2021  Los Angeles  20.862092     58073  20.862092\n",
       "90005    2021  Los Angeles   8.283913     49552   8.283913\n",
       "90006    2021  Los Angeles  13.954837     37185  13.954837\n",
       "90007    2021  Los Angeles   5.490788     41172   5.490788\n",
       "90008    2021  Los Angeles  33.826045     72036  33.826045\n",
       "90010    2021  Los Angeles  13.523931     68973  13.523931\n",
       "90011    2021  Los Angeles  15.420765     43691  15.420765"
      ]
     },
     "execution_count": 48,
     "metadata": {},
     "output_type": "execute_result"
    }
   ],
   "source": [
    "df_joined.head(10)"
   ]
  },
  {
   "cell_type": "code",
   "execution_count": 49,
   "id": "9a54365e",
   "metadata": {},
   "outputs": [
    {
     "data": {
      "text/plain": [
       "year           int64\n",
       "county        object\n",
       "rate         float64\n",
       "MEDINCOME     object\n",
       "rate1        float64\n",
       "dtype: object"
      ]
     },
     "execution_count": 49,
     "metadata": {},
     "output_type": "execute_result"
    }
   ],
   "source": [
    "df_joined.dtypes"
   ]
  },
  {
   "cell_type": "code",
   "execution_count": null,
   "id": "13d4c415",
   "metadata": {},
   "outputs": [],
   "source": []
  },
  {
   "cell_type": "code",
   "execution_count": null,
   "id": "e7048749",
   "metadata": {},
   "outputs": [],
   "source": []
  },
  {
   "cell_type": "code",
   "execution_count": 50,
   "id": "0663a81e",
   "metadata": {},
   "outputs": [
    {
     "data": {
      "text/html": [
       "<div>\n",
       "<style scoped>\n",
       "    .dataframe tbody tr th:only-of-type {\n",
       "        vertical-align: middle;\n",
       "    }\n",
       "\n",
       "    .dataframe tbody tr th {\n",
       "        vertical-align: top;\n",
       "    }\n",
       "\n",
       "    .dataframe thead th {\n",
       "        text-align: right;\n",
       "    }\n",
       "</style>\n",
       "<table border=\"1\" class=\"dataframe\">\n",
       "  <thead>\n",
       "    <tr style=\"text-align: right;\">\n",
       "      <th></th>\n",
       "      <th>year</th>\n",
       "      <th>county</th>\n",
       "      <th>rate</th>\n",
       "      <th>MEDINCOME</th>\n",
       "      <th>rate1</th>\n",
       "    </tr>\n",
       "    <tr>\n",
       "      <th>zipcode</th>\n",
       "      <th></th>\n",
       "      <th></th>\n",
       "      <th></th>\n",
       "      <th></th>\n",
       "      <th></th>\n",
       "    </tr>\n",
       "  </thead>\n",
       "  <tbody>\n",
       "    <tr>\n",
       "      <th>90001</th>\n",
       "      <td>2021</td>\n",
       "      <td>Los Angeles</td>\n",
       "      <td>22.673220</td>\n",
       "      <td>50344</td>\n",
       "      <td>22.673220</td>\n",
       "    </tr>\n",
       "    <tr>\n",
       "      <th>90002</th>\n",
       "      <td>2021</td>\n",
       "      <td>Los Angeles</td>\n",
       "      <td>12.645372</td>\n",
       "      <td>45417</td>\n",
       "      <td>12.645372</td>\n",
       "    </tr>\n",
       "    <tr>\n",
       "      <th>90003</th>\n",
       "      <td>2021</td>\n",
       "      <td>Los Angeles</td>\n",
       "      <td>19.915432</td>\n",
       "      <td>44595</td>\n",
       "      <td>19.915432</td>\n",
       "    </tr>\n",
       "    <tr>\n",
       "      <th>90004</th>\n",
       "      <td>2021</td>\n",
       "      <td>Los Angeles</td>\n",
       "      <td>20.862092</td>\n",
       "      <td>58073</td>\n",
       "      <td>20.862092</td>\n",
       "    </tr>\n",
       "    <tr>\n",
       "      <th>90005</th>\n",
       "      <td>2021</td>\n",
       "      <td>Los Angeles</td>\n",
       "      <td>8.283913</td>\n",
       "      <td>49552</td>\n",
       "      <td>8.283913</td>\n",
       "    </tr>\n",
       "    <tr>\n",
       "      <th>...</th>\n",
       "      <td>...</td>\n",
       "      <td>...</td>\n",
       "      <td>...</td>\n",
       "      <td>...</td>\n",
       "      <td>...</td>\n",
       "    </tr>\n",
       "    <tr>\n",
       "      <th>96145</th>\n",
       "      <td>2021</td>\n",
       "      <td>Placer</td>\n",
       "      <td>18.069974</td>\n",
       "      <td>110101</td>\n",
       "      <td>18.069974</td>\n",
       "    </tr>\n",
       "    <tr>\n",
       "      <th>96146</th>\n",
       "      <td>2021</td>\n",
       "      <td>Placer</td>\n",
       "      <td>0.000000</td>\n",
       "      <td>148438</td>\n",
       "      <td>0.000000</td>\n",
       "    </tr>\n",
       "    <tr>\n",
       "      <th>96148</th>\n",
       "      <td>2021</td>\n",
       "      <td>Placer</td>\n",
       "      <td>0.000000</td>\n",
       "      <td>105729</td>\n",
       "      <td>0.000000</td>\n",
       "    </tr>\n",
       "    <tr>\n",
       "      <th>96150</th>\n",
       "      <td>2021</td>\n",
       "      <td>El Dorado</td>\n",
       "      <td>28.845367</td>\n",
       "      <td>82407</td>\n",
       "      <td>28.845367</td>\n",
       "    </tr>\n",
       "    <tr>\n",
       "      <th>96161</th>\n",
       "      <td>2021</td>\n",
       "      <td>Neveda</td>\n",
       "      <td>22.739356</td>\n",
       "      <td>115436</td>\n",
       "      <td>22.739356</td>\n",
       "    </tr>\n",
       "  </tbody>\n",
       "</table>\n",
       "<p>1641 rows × 5 columns</p>\n",
       "</div>"
      ],
      "text/plain": [
       "         year       county       rate MEDINCOME      rate1\n",
       "zipcode                                                   \n",
       "90001    2021  Los Angeles  22.673220     50344  22.673220\n",
       "90002    2021  Los Angeles  12.645372     45417  12.645372\n",
       "90003    2021  Los Angeles  19.915432     44595  19.915432\n",
       "90004    2021  Los Angeles  20.862092     58073  20.862092\n",
       "90005    2021  Los Angeles   8.283913     49552   8.283913\n",
       "...       ...          ...        ...       ...        ...\n",
       "96145    2021       Placer  18.069974    110101  18.069974\n",
       "96146    2021       Placer   0.000000    148438   0.000000\n",
       "96148    2021       Placer   0.000000    105729   0.000000\n",
       "96150    2021    El Dorado  28.845367     82407  28.845367\n",
       "96161    2021       Neveda  22.739356    115436  22.739356\n",
       "\n",
       "[1641 rows x 5 columns]"
      ]
     },
     "execution_count": 50,
     "metadata": {},
     "output_type": "execute_result"
    }
   ],
   "source": [
    "df_joined"
   ]
  },
  {
   "cell_type": "code",
   "execution_count": null,
   "id": "46a3a02d",
   "metadata": {},
   "outputs": [],
   "source": []
  },
  {
   "cell_type": "code",
   "execution_count": null,
   "id": "aff07b9f",
   "metadata": {},
   "outputs": [],
   "source": []
  },
  {
   "cell_type": "code",
   "execution_count": null,
   "id": "07f058c8",
   "metadata": {},
   "outputs": [],
   "source": [
    "\n"
   ]
  },
  {
   "cell_type": "code",
   "execution_count": 51,
   "id": "5e75adbb",
   "metadata": {},
   "outputs": [],
   "source": [
    "def numericincome(row):\n",
    "    if isinstance(row[\"MEDINCOME\"], int):\n",
    "        return False;\n",
    "    if isinstance(row[\"MEDINCOME\"], str) & (not (row[\"MEDINCOME\"].isdigit()) ):\n",
    "        return True\n",
    "    else:\n",
    "        return False"
   ]
  },
  {
   "cell_type": "code",
   "execution_count": 52,
   "id": "e0c7f30b",
   "metadata": {
    "scrolled": false
   },
   "outputs": [
    {
     "data": {
      "text/html": [
       "<div>\n",
       "<style scoped>\n",
       "    .dataframe tbody tr th:only-of-type {\n",
       "        vertical-align: middle;\n",
       "    }\n",
       "\n",
       "    .dataframe tbody tr th {\n",
       "        vertical-align: top;\n",
       "    }\n",
       "\n",
       "    .dataframe thead th {\n",
       "        text-align: right;\n",
       "    }\n",
       "</style>\n",
       "<table border=\"1\" class=\"dataframe\">\n",
       "  <thead>\n",
       "    <tr style=\"text-align: right;\">\n",
       "      <th></th>\n",
       "      <th>year</th>\n",
       "      <th>county</th>\n",
       "      <th>rate</th>\n",
       "      <th>MEDINCOME</th>\n",
       "      <th>rate1</th>\n",
       "    </tr>\n",
       "    <tr>\n",
       "      <th>zipcode</th>\n",
       "      <th></th>\n",
       "      <th></th>\n",
       "      <th></th>\n",
       "      <th></th>\n",
       "      <th></th>\n",
       "    </tr>\n",
       "  </thead>\n",
       "  <tbody>\n",
       "    <tr>\n",
       "      <th>90071</th>\n",
       "      <td>2021</td>\n",
       "      <td>Los Angeles</td>\n",
       "      <td>2582.316984</td>\n",
       "      <td>-</td>\n",
       "      <td>2582.316984</td>\n",
       "    </tr>\n",
       "    <tr>\n",
       "      <th>90073</th>\n",
       "      <td>2021</td>\n",
       "      <td>Los Angeles</td>\n",
       "      <td>0.000000</td>\n",
       "      <td>-</td>\n",
       "      <td>0.000000</td>\n",
       "    </tr>\n",
       "    <tr>\n",
       "      <th>90077</th>\n",
       "      <td>2021</td>\n",
       "      <td>Los Angeles</td>\n",
       "      <td>0.000000</td>\n",
       "      <td>250,000+</td>\n",
       "      <td>0.000000</td>\n",
       "    </tr>\n",
       "    <tr>\n",
       "      <th>90089</th>\n",
       "      <td>2021</td>\n",
       "      <td>Los Angeles</td>\n",
       "      <td>0.000000</td>\n",
       "      <td>-</td>\n",
       "      <td>0.000000</td>\n",
       "    </tr>\n",
       "    <tr>\n",
       "      <th>90095</th>\n",
       "      <td>2021</td>\n",
       "      <td>Los Angeles</td>\n",
       "      <td>0.000000</td>\n",
       "      <td>-</td>\n",
       "      <td>0.000000</td>\n",
       "    </tr>\n",
       "    <tr>\n",
       "      <th>...</th>\n",
       "      <td>...</td>\n",
       "      <td>...</td>\n",
       "      <td>...</td>\n",
       "      <td>...</td>\n",
       "      <td>...</td>\n",
       "    </tr>\n",
       "    <tr>\n",
       "      <th>96125</th>\n",
       "      <td>2021</td>\n",
       "      <td>Sierra</td>\n",
       "      <td>0.000000</td>\n",
       "      <td>-</td>\n",
       "      <td>0.000000</td>\n",
       "    </tr>\n",
       "    <tr>\n",
       "      <th>96129</th>\n",
       "      <td>2021</td>\n",
       "      <td>Plumas</td>\n",
       "      <td>0.000000</td>\n",
       "      <td>-</td>\n",
       "      <td>0.000000</td>\n",
       "    </tr>\n",
       "    <tr>\n",
       "      <th>96133</th>\n",
       "      <td>2021</td>\n",
       "      <td>Mono</td>\n",
       "      <td>0.000000</td>\n",
       "      <td>-</td>\n",
       "      <td>0.000000</td>\n",
       "    </tr>\n",
       "    <tr>\n",
       "      <th>96135</th>\n",
       "      <td>2021</td>\n",
       "      <td>Plumas</td>\n",
       "      <td>0.000000</td>\n",
       "      <td>-</td>\n",
       "      <td>0.000000</td>\n",
       "    </tr>\n",
       "    <tr>\n",
       "      <th>96136</th>\n",
       "      <td>2021</td>\n",
       "      <td>Lassen</td>\n",
       "      <td>0.000000</td>\n",
       "      <td>-</td>\n",
       "      <td>0.000000</td>\n",
       "    </tr>\n",
       "  </tbody>\n",
       "</table>\n",
       "<p>140 rows × 5 columns</p>\n",
       "</div>"
      ],
      "text/plain": [
       "         year       county         rate MEDINCOME        rate1\n",
       "zipcode                                                       \n",
       "90071    2021  Los Angeles  2582.316984         -  2582.316984\n",
       "90073    2021  Los Angeles     0.000000         -     0.000000\n",
       "90077    2021  Los Angeles     0.000000  250,000+     0.000000\n",
       "90089    2021  Los Angeles     0.000000         -     0.000000\n",
       "90095    2021  Los Angeles     0.000000         -     0.000000\n",
       "...       ...          ...          ...       ...          ...\n",
       "96125    2021       Sierra     0.000000         -     0.000000\n",
       "96129    2021       Plumas     0.000000         -     0.000000\n",
       "96133    2021         Mono     0.000000         -     0.000000\n",
       "96135    2021       Plumas     0.000000         -     0.000000\n",
       "96136    2021       Lassen     0.000000         -     0.000000\n",
       "\n",
       "[140 rows x 5 columns]"
      ]
     },
     "execution_count": 52,
     "metadata": {},
     "output_type": "execute_result"
    }
   ],
   "source": [
    "df_joined[df_joined.apply(lambda row: numericincome(row), axis=1)]"
   ]
  },
  {
   "cell_type": "code",
   "execution_count": null,
   "id": "cdea5d36",
   "metadata": {},
   "outputs": [],
   "source": []
  },
  {
   "cell_type": "code",
   "execution_count": 77,
   "id": "8585863f",
   "metadata": {},
   "outputs": [
    {
     "data": {
      "text/html": [
       "<div>\n",
       "<style scoped>\n",
       "    .dataframe tbody tr th:only-of-type {\n",
       "        vertical-align: middle;\n",
       "    }\n",
       "\n",
       "    .dataframe tbody tr th {\n",
       "        vertical-align: top;\n",
       "    }\n",
       "\n",
       "    .dataframe thead th {\n",
       "        text-align: right;\n",
       "    }\n",
       "</style>\n",
       "<table border=\"1\" class=\"dataframe\">\n",
       "  <thead>\n",
       "    <tr style=\"text-align: right;\">\n",
       "      <th></th>\n",
       "      <th>year</th>\n",
       "      <th>rate</th>\n",
       "      <th>rate1</th>\n",
       "      <th>medianincome</th>\n",
       "    </tr>\n",
       "  </thead>\n",
       "  <tbody>\n",
       "    <tr>\n",
       "      <th>count</th>\n",
       "      <td>1513.0</td>\n",
       "      <td>1513.000000</td>\n",
       "      <td>1513.000000</td>\n",
       "      <td>1513.000000</td>\n",
       "    </tr>\n",
       "    <tr>\n",
       "      <th>mean</th>\n",
       "      <td>2021.0</td>\n",
       "      <td>22.975445</td>\n",
       "      <td>22.975445</td>\n",
       "      <td>96423.332452</td>\n",
       "    </tr>\n",
       "    <tr>\n",
       "      <th>std</th>\n",
       "      <td>0.0</td>\n",
       "      <td>116.956349</td>\n",
       "      <td>116.956349</td>\n",
       "      <td>44555.049254</td>\n",
       "    </tr>\n",
       "    <tr>\n",
       "      <th>min</th>\n",
       "      <td>2021.0</td>\n",
       "      <td>0.000000</td>\n",
       "      <td>0.000000</td>\n",
       "      <td>23900.000000</td>\n",
       "    </tr>\n",
       "    <tr>\n",
       "      <th>25%</th>\n",
       "      <td>2021.0</td>\n",
       "      <td>1.935001</td>\n",
       "      <td>1.935001</td>\n",
       "      <td>63679.000000</td>\n",
       "    </tr>\n",
       "    <tr>\n",
       "      <th>50%</th>\n",
       "      <td>2021.0</td>\n",
       "      <td>12.395132</td>\n",
       "      <td>12.395132</td>\n",
       "      <td>85640.000000</td>\n",
       "    </tr>\n",
       "    <tr>\n",
       "      <th>75%</th>\n",
       "      <td>2021.0</td>\n",
       "      <td>22.804217</td>\n",
       "      <td>22.804217</td>\n",
       "      <td>118461.000000</td>\n",
       "    </tr>\n",
       "    <tr>\n",
       "      <th>max</th>\n",
       "      <td>2021.0</td>\n",
       "      <td>4318.962689</td>\n",
       "      <td>4318.962689</td>\n",
       "      <td>260000.000000</td>\n",
       "    </tr>\n",
       "  </tbody>\n",
       "</table>\n",
       "</div>"
      ],
      "text/plain": [
       "         year         rate        rate1   medianincome\n",
       "count  1513.0  1513.000000  1513.000000    1513.000000\n",
       "mean   2021.0    22.975445    22.975445   96423.332452\n",
       "std       0.0   116.956349   116.956349   44555.049254\n",
       "min    2021.0     0.000000     0.000000   23900.000000\n",
       "25%    2021.0     1.935001     1.935001   63679.000000\n",
       "50%    2021.0    12.395132    12.395132   85640.000000\n",
       "75%    2021.0    22.804217    22.804217  118461.000000\n",
       "max    2021.0  4318.962689  4318.962689  260000.000000"
      ]
     },
     "execution_count": 77,
     "metadata": {},
     "output_type": "execute_result"
    }
   ],
   "source": [
    "df_joined2.describe()"
   ]
  },
  {
   "cell_type": "code",
   "execution_count": 53,
   "id": "dc6f9134",
   "metadata": {},
   "outputs": [
    {
     "data": {
      "text/plain": [
       "zipcode\n",
       "90001     50344\n",
       "90002     45417\n",
       "90003     44595\n",
       "90004     58073\n",
       "90005     49552\n",
       "          ...  \n",
       "96145    110101\n",
       "96146    148438\n",
       "96148    105729\n",
       "96150     82407\n",
       "96161    115436\n",
       "Name: MEDINCOME, Length: 1641, dtype: object"
      ]
     },
     "execution_count": 53,
     "metadata": {},
     "output_type": "execute_result"
    }
   ],
   "source": [
    "df_joined['MEDINCOME']"
   ]
  },
  {
   "cell_type": "code",
   "execution_count": 54,
   "id": "b4c3e510",
   "metadata": {},
   "outputs": [],
   "source": [
    "def numover250K(row):\n",
    "    if row[\"MEDINCOME\"] == \"250,000+\":\n",
    "        return \"260000\"\n",
    "    else:\n",
    "        return row[\"MEDINCOME\"]"
   ]
  },
  {
   "cell_type": "code",
   "execution_count": 55,
   "id": "159ccc04",
   "metadata": {},
   "outputs": [],
   "source": [
    "df_joined[\"MEDINCOME\"] = df_joined.apply(numover250K, axis = 1)"
   ]
  },
  {
   "cell_type": "code",
   "execution_count": 56,
   "id": "258519f7",
   "metadata": {},
   "outputs": [
    {
     "data": {
      "text/html": [
       "<div>\n",
       "<style scoped>\n",
       "    .dataframe tbody tr th:only-of-type {\n",
       "        vertical-align: middle;\n",
       "    }\n",
       "\n",
       "    .dataframe tbody tr th {\n",
       "        vertical-align: top;\n",
       "    }\n",
       "\n",
       "    .dataframe thead th {\n",
       "        text-align: right;\n",
       "    }\n",
       "</style>\n",
       "<table border=\"1\" class=\"dataframe\">\n",
       "  <thead>\n",
       "    <tr style=\"text-align: right;\">\n",
       "      <th></th>\n",
       "      <th>year</th>\n",
       "      <th>county</th>\n",
       "      <th>rate</th>\n",
       "      <th>MEDINCOME</th>\n",
       "      <th>rate1</th>\n",
       "    </tr>\n",
       "    <tr>\n",
       "      <th>zipcode</th>\n",
       "      <th></th>\n",
       "      <th></th>\n",
       "      <th></th>\n",
       "      <th></th>\n",
       "      <th></th>\n",
       "    </tr>\n",
       "  </thead>\n",
       "  <tbody>\n",
       "    <tr>\n",
       "      <th>90001</th>\n",
       "      <td>2021</td>\n",
       "      <td>Los Angeles</td>\n",
       "      <td>22.673220</td>\n",
       "      <td>50344</td>\n",
       "      <td>22.673220</td>\n",
       "    </tr>\n",
       "    <tr>\n",
       "      <th>90002</th>\n",
       "      <td>2021</td>\n",
       "      <td>Los Angeles</td>\n",
       "      <td>12.645372</td>\n",
       "      <td>45417</td>\n",
       "      <td>12.645372</td>\n",
       "    </tr>\n",
       "    <tr>\n",
       "      <th>90003</th>\n",
       "      <td>2021</td>\n",
       "      <td>Los Angeles</td>\n",
       "      <td>19.915432</td>\n",
       "      <td>44595</td>\n",
       "      <td>19.915432</td>\n",
       "    </tr>\n",
       "    <tr>\n",
       "      <th>90004</th>\n",
       "      <td>2021</td>\n",
       "      <td>Los Angeles</td>\n",
       "      <td>20.862092</td>\n",
       "      <td>58073</td>\n",
       "      <td>20.862092</td>\n",
       "    </tr>\n",
       "    <tr>\n",
       "      <th>90005</th>\n",
       "      <td>2021</td>\n",
       "      <td>Los Angeles</td>\n",
       "      <td>8.283913</td>\n",
       "      <td>49552</td>\n",
       "      <td>8.283913</td>\n",
       "    </tr>\n",
       "    <tr>\n",
       "      <th>...</th>\n",
       "      <td>...</td>\n",
       "      <td>...</td>\n",
       "      <td>...</td>\n",
       "      <td>...</td>\n",
       "      <td>...</td>\n",
       "    </tr>\n",
       "    <tr>\n",
       "      <th>96145</th>\n",
       "      <td>2021</td>\n",
       "      <td>Placer</td>\n",
       "      <td>18.069974</td>\n",
       "      <td>110101</td>\n",
       "      <td>18.069974</td>\n",
       "    </tr>\n",
       "    <tr>\n",
       "      <th>96146</th>\n",
       "      <td>2021</td>\n",
       "      <td>Placer</td>\n",
       "      <td>0.000000</td>\n",
       "      <td>148438</td>\n",
       "      <td>0.000000</td>\n",
       "    </tr>\n",
       "    <tr>\n",
       "      <th>96148</th>\n",
       "      <td>2021</td>\n",
       "      <td>Placer</td>\n",
       "      <td>0.000000</td>\n",
       "      <td>105729</td>\n",
       "      <td>0.000000</td>\n",
       "    </tr>\n",
       "    <tr>\n",
       "      <th>96150</th>\n",
       "      <td>2021</td>\n",
       "      <td>El Dorado</td>\n",
       "      <td>28.845367</td>\n",
       "      <td>82407</td>\n",
       "      <td>28.845367</td>\n",
       "    </tr>\n",
       "    <tr>\n",
       "      <th>96161</th>\n",
       "      <td>2021</td>\n",
       "      <td>Neveda</td>\n",
       "      <td>22.739356</td>\n",
       "      <td>115436</td>\n",
       "      <td>22.739356</td>\n",
       "    </tr>\n",
       "  </tbody>\n",
       "</table>\n",
       "<p>1641 rows × 5 columns</p>\n",
       "</div>"
      ],
      "text/plain": [
       "         year       county       rate MEDINCOME      rate1\n",
       "zipcode                                                   \n",
       "90001    2021  Los Angeles  22.673220     50344  22.673220\n",
       "90002    2021  Los Angeles  12.645372     45417  12.645372\n",
       "90003    2021  Los Angeles  19.915432     44595  19.915432\n",
       "90004    2021  Los Angeles  20.862092     58073  20.862092\n",
       "90005    2021  Los Angeles   8.283913     49552   8.283913\n",
       "...       ...          ...        ...       ...        ...\n",
       "96145    2021       Placer  18.069974    110101  18.069974\n",
       "96146    2021       Placer   0.000000    148438   0.000000\n",
       "96148    2021       Placer   0.000000    105729   0.000000\n",
       "96150    2021    El Dorado  28.845367     82407  28.845367\n",
       "96161    2021       Neveda  22.739356    115436  22.739356\n",
       "\n",
       "[1641 rows x 5 columns]"
      ]
     },
     "execution_count": 56,
     "metadata": {},
     "output_type": "execute_result"
    }
   ],
   "source": [
    "df_joined"
   ]
  },
  {
   "cell_type": "code",
   "execution_count": 57,
   "id": "590d02ab",
   "metadata": {},
   "outputs": [],
   "source": [
    "def hyphen(row):\n",
    "    if row[\"MEDINCOME\"] == \"-\":\n",
    "        return False\n",
    "    else:\n",
    "        return True"
   ]
  },
  {
   "cell_type": "code",
   "execution_count": 58,
   "id": "158d23a2",
   "metadata": {},
   "outputs": [],
   "source": [
    "df_joined2=df_joined[df_joined.apply(hyphen,axis=1)]"
   ]
  },
  {
   "cell_type": "code",
   "execution_count": 65,
   "id": "084573f0",
   "metadata": {},
   "outputs": [
    {
     "data": {
      "text/html": [
       "<div>\n",
       "<style scoped>\n",
       "    .dataframe tbody tr th:only-of-type {\n",
       "        vertical-align: middle;\n",
       "    }\n",
       "\n",
       "    .dataframe tbody tr th {\n",
       "        vertical-align: top;\n",
       "    }\n",
       "\n",
       "    .dataframe thead th {\n",
       "        text-align: right;\n",
       "    }\n",
       "</style>\n",
       "<table border=\"1\" class=\"dataframe\">\n",
       "  <thead>\n",
       "    <tr style=\"text-align: right;\">\n",
       "      <th></th>\n",
       "      <th>year</th>\n",
       "      <th>county</th>\n",
       "      <th>rate</th>\n",
       "      <th>MEDINCOME</th>\n",
       "      <th>rate1</th>\n",
       "    </tr>\n",
       "    <tr>\n",
       "      <th>zipcode</th>\n",
       "      <th></th>\n",
       "      <th></th>\n",
       "      <th></th>\n",
       "      <th></th>\n",
       "      <th></th>\n",
       "    </tr>\n",
       "  </thead>\n",
       "  <tbody>\n",
       "    <tr>\n",
       "      <th>90001</th>\n",
       "      <td>2021</td>\n",
       "      <td>Los Angeles</td>\n",
       "      <td>22.673220</td>\n",
       "      <td>50344</td>\n",
       "      <td>22.673220</td>\n",
       "    </tr>\n",
       "    <tr>\n",
       "      <th>90002</th>\n",
       "      <td>2021</td>\n",
       "      <td>Los Angeles</td>\n",
       "      <td>12.645372</td>\n",
       "      <td>45417</td>\n",
       "      <td>12.645372</td>\n",
       "    </tr>\n",
       "    <tr>\n",
       "      <th>90003</th>\n",
       "      <td>2021</td>\n",
       "      <td>Los Angeles</td>\n",
       "      <td>19.915432</td>\n",
       "      <td>44595</td>\n",
       "      <td>19.915432</td>\n",
       "    </tr>\n",
       "    <tr>\n",
       "      <th>90004</th>\n",
       "      <td>2021</td>\n",
       "      <td>Los Angeles</td>\n",
       "      <td>20.862092</td>\n",
       "      <td>58073</td>\n",
       "      <td>20.862092</td>\n",
       "    </tr>\n",
       "    <tr>\n",
       "      <th>90005</th>\n",
       "      <td>2021</td>\n",
       "      <td>Los Angeles</td>\n",
       "      <td>8.283913</td>\n",
       "      <td>49552</td>\n",
       "      <td>8.283913</td>\n",
       "    </tr>\n",
       "    <tr>\n",
       "      <th>...</th>\n",
       "      <td>...</td>\n",
       "      <td>...</td>\n",
       "      <td>...</td>\n",
       "      <td>...</td>\n",
       "      <td>...</td>\n",
       "    </tr>\n",
       "    <tr>\n",
       "      <th>96145</th>\n",
       "      <td>2021</td>\n",
       "      <td>Placer</td>\n",
       "      <td>18.069974</td>\n",
       "      <td>110101</td>\n",
       "      <td>18.069974</td>\n",
       "    </tr>\n",
       "    <tr>\n",
       "      <th>96146</th>\n",
       "      <td>2021</td>\n",
       "      <td>Placer</td>\n",
       "      <td>0.000000</td>\n",
       "      <td>148438</td>\n",
       "      <td>0.000000</td>\n",
       "    </tr>\n",
       "    <tr>\n",
       "      <th>96148</th>\n",
       "      <td>2021</td>\n",
       "      <td>Placer</td>\n",
       "      <td>0.000000</td>\n",
       "      <td>105729</td>\n",
       "      <td>0.000000</td>\n",
       "    </tr>\n",
       "    <tr>\n",
       "      <th>96150</th>\n",
       "      <td>2021</td>\n",
       "      <td>El Dorado</td>\n",
       "      <td>28.845367</td>\n",
       "      <td>82407</td>\n",
       "      <td>28.845367</td>\n",
       "    </tr>\n",
       "    <tr>\n",
       "      <th>96161</th>\n",
       "      <td>2021</td>\n",
       "      <td>Neveda</td>\n",
       "      <td>22.739356</td>\n",
       "      <td>115436</td>\n",
       "      <td>22.739356</td>\n",
       "    </tr>\n",
       "  </tbody>\n",
       "</table>\n",
       "<p>1513 rows × 5 columns</p>\n",
       "</div>"
      ],
      "text/plain": [
       "         year       county       rate MEDINCOME      rate1\n",
       "zipcode                                                   \n",
       "90001    2021  Los Angeles  22.673220     50344  22.673220\n",
       "90002    2021  Los Angeles  12.645372     45417  12.645372\n",
       "90003    2021  Los Angeles  19.915432     44595  19.915432\n",
       "90004    2021  Los Angeles  20.862092     58073  20.862092\n",
       "90005    2021  Los Angeles   8.283913     49552   8.283913\n",
       "...       ...          ...        ...       ...        ...\n",
       "96145    2021       Placer  18.069974    110101  18.069974\n",
       "96146    2021       Placer   0.000000    148438   0.000000\n",
       "96148    2021       Placer   0.000000    105729   0.000000\n",
       "96150    2021    El Dorado  28.845367     82407  28.845367\n",
       "96161    2021       Neveda  22.739356    115436  22.739356\n",
       "\n",
       "[1513 rows x 5 columns]"
      ]
     },
     "execution_count": 65,
     "metadata": {},
     "output_type": "execute_result"
    }
   ],
   "source": [
    "df_joined2"
   ]
  },
  {
   "cell_type": "code",
   "execution_count": 71,
   "id": "e7587b1d",
   "metadata": {},
   "outputs": [],
   "source": [
    "def inctofloat(row):\n",
    "    return float(row[\"MEDINCOME\"])"
   ]
  },
  {
   "cell_type": "code",
   "execution_count": 72,
   "id": "0ce18c0b",
   "metadata": {},
   "outputs": [
    {
     "name": "stderr",
     "output_type": "stream",
     "text": [
      "/var/folders/h4/r6tpj_q56gb11bpc5pv3wfyr0000gn/T/ipykernel_18590/3449419857.py:1: SettingWithCopyWarning: \n",
      "A value is trying to be set on a copy of a slice from a DataFrame.\n",
      "Try using .loc[row_indexer,col_indexer] = value instead\n",
      "\n",
      "See the caveats in the documentation: https://pandas.pydata.org/pandas-docs/stable/user_guide/indexing.html#returning-a-view-versus-a-copy\n",
      "  df_joined2['medianincome'] = df_joined2.apply(inctofloat, axis=1)\n"
     ]
    }
   ],
   "source": [
    "df_joined2['medianincome'] = df_joined2.apply(inctofloat, axis=1)"
   ]
  },
  {
   "cell_type": "code",
   "execution_count": 84,
   "id": "711b93b5",
   "metadata": {},
   "outputs": [],
   "source": [
    "def rateoutlier(row):\n",
    "    if row['rate1'] >= 54.10804:\n",
    "        return False\n",
    "    else:\n",
    "        return True "
   ]
  },
  {
   "cell_type": "code",
   "execution_count": 85,
   "id": "3789d23f",
   "metadata": {},
   "outputs": [],
   "source": [
    "df_joinednooutlier = df_joined2[df_joined2.apply(rateoutlier, axis = 1)]"
   ]
  },
  {
   "cell_type": "code",
   "execution_count": 86,
   "id": "255990b0",
   "metadata": {},
   "outputs": [
    {
     "data": {
      "text/html": [
       "<div>\n",
       "<style scoped>\n",
       "    .dataframe tbody tr th:only-of-type {\n",
       "        vertical-align: middle;\n",
       "    }\n",
       "\n",
       "    .dataframe tbody tr th {\n",
       "        vertical-align: top;\n",
       "    }\n",
       "\n",
       "    .dataframe thead th {\n",
       "        text-align: right;\n",
       "    }\n",
       "</style>\n",
       "<table border=\"1\" class=\"dataframe\">\n",
       "  <thead>\n",
       "    <tr style=\"text-align: right;\">\n",
       "      <th></th>\n",
       "      <th>year</th>\n",
       "      <th>county</th>\n",
       "      <th>rate</th>\n",
       "      <th>MEDINCOME</th>\n",
       "      <th>rate1</th>\n",
       "      <th>medianincome</th>\n",
       "    </tr>\n",
       "    <tr>\n",
       "      <th>zipcode</th>\n",
       "      <th></th>\n",
       "      <th></th>\n",
       "      <th></th>\n",
       "      <th></th>\n",
       "      <th></th>\n",
       "      <th></th>\n",
       "    </tr>\n",
       "  </thead>\n",
       "  <tbody>\n",
       "    <tr>\n",
       "      <th>90001</th>\n",
       "      <td>2021</td>\n",
       "      <td>Los Angeles</td>\n",
       "      <td>22.673220</td>\n",
       "      <td>50344</td>\n",
       "      <td>22.673220</td>\n",
       "      <td>50344.0</td>\n",
       "    </tr>\n",
       "    <tr>\n",
       "      <th>90002</th>\n",
       "      <td>2021</td>\n",
       "      <td>Los Angeles</td>\n",
       "      <td>12.645372</td>\n",
       "      <td>45417</td>\n",
       "      <td>12.645372</td>\n",
       "      <td>45417.0</td>\n",
       "    </tr>\n",
       "    <tr>\n",
       "      <th>90003</th>\n",
       "      <td>2021</td>\n",
       "      <td>Los Angeles</td>\n",
       "      <td>19.915432</td>\n",
       "      <td>44595</td>\n",
       "      <td>19.915432</td>\n",
       "      <td>44595.0</td>\n",
       "    </tr>\n",
       "    <tr>\n",
       "      <th>90004</th>\n",
       "      <td>2021</td>\n",
       "      <td>Los Angeles</td>\n",
       "      <td>20.862092</td>\n",
       "      <td>58073</td>\n",
       "      <td>20.862092</td>\n",
       "      <td>58073.0</td>\n",
       "    </tr>\n",
       "    <tr>\n",
       "      <th>90005</th>\n",
       "      <td>2021</td>\n",
       "      <td>Los Angeles</td>\n",
       "      <td>8.283913</td>\n",
       "      <td>49552</td>\n",
       "      <td>8.283913</td>\n",
       "      <td>49552.0</td>\n",
       "    </tr>\n",
       "    <tr>\n",
       "      <th>...</th>\n",
       "      <td>...</td>\n",
       "      <td>...</td>\n",
       "      <td>...</td>\n",
       "      <td>...</td>\n",
       "      <td>...</td>\n",
       "      <td>...</td>\n",
       "    </tr>\n",
       "    <tr>\n",
       "      <th>96145</th>\n",
       "      <td>2021</td>\n",
       "      <td>Placer</td>\n",
       "      <td>18.069974</td>\n",
       "      <td>110101</td>\n",
       "      <td>18.069974</td>\n",
       "      <td>110101.0</td>\n",
       "    </tr>\n",
       "    <tr>\n",
       "      <th>96146</th>\n",
       "      <td>2021</td>\n",
       "      <td>Placer</td>\n",
       "      <td>0.000000</td>\n",
       "      <td>148438</td>\n",
       "      <td>0.000000</td>\n",
       "      <td>148438.0</td>\n",
       "    </tr>\n",
       "    <tr>\n",
       "      <th>96148</th>\n",
       "      <td>2021</td>\n",
       "      <td>Placer</td>\n",
       "      <td>0.000000</td>\n",
       "      <td>105729</td>\n",
       "      <td>0.000000</td>\n",
       "      <td>105729.0</td>\n",
       "    </tr>\n",
       "    <tr>\n",
       "      <th>96150</th>\n",
       "      <td>2021</td>\n",
       "      <td>El Dorado</td>\n",
       "      <td>28.845367</td>\n",
       "      <td>82407</td>\n",
       "      <td>28.845367</td>\n",
       "      <td>82407.0</td>\n",
       "    </tr>\n",
       "    <tr>\n",
       "      <th>96161</th>\n",
       "      <td>2021</td>\n",
       "      <td>Neveda</td>\n",
       "      <td>22.739356</td>\n",
       "      <td>115436</td>\n",
       "      <td>22.739356</td>\n",
       "      <td>115436.0</td>\n",
       "    </tr>\n",
       "  </tbody>\n",
       "</table>\n",
       "<p>1418 rows × 6 columns</p>\n",
       "</div>"
      ],
      "text/plain": [
       "         year       county       rate MEDINCOME      rate1  medianincome\n",
       "zipcode                                                                 \n",
       "90001    2021  Los Angeles  22.673220     50344  22.673220       50344.0\n",
       "90002    2021  Los Angeles  12.645372     45417  12.645372       45417.0\n",
       "90003    2021  Los Angeles  19.915432     44595  19.915432       44595.0\n",
       "90004    2021  Los Angeles  20.862092     58073  20.862092       58073.0\n",
       "90005    2021  Los Angeles   8.283913     49552   8.283913       49552.0\n",
       "...       ...          ...        ...       ...        ...           ...\n",
       "96145    2021       Placer  18.069974    110101  18.069974      110101.0\n",
       "96146    2021       Placer   0.000000    148438   0.000000      148438.0\n",
       "96148    2021       Placer   0.000000    105729   0.000000      105729.0\n",
       "96150    2021    El Dorado  28.845367     82407  28.845367       82407.0\n",
       "96161    2021       Neveda  22.739356    115436  22.739356      115436.0\n",
       "\n",
       "[1418 rows x 6 columns]"
      ]
     },
     "execution_count": 86,
     "metadata": {},
     "output_type": "execute_result"
    }
   ],
   "source": [
    "df_joinednooutlier"
   ]
  },
  {
   "cell_type": "code",
   "execution_count": 88,
   "id": "10de305e",
   "metadata": {},
   "outputs": [],
   "source": [
    "def ratelier(row):\n",
    "    if row['rate1'] >= 54.10804:\n",
    "        return True\n",
    "    else:\n",
    "        return False"
   ]
  },
  {
   "cell_type": "code",
   "execution_count": 90,
   "id": "e37947e3",
   "metadata": {},
   "outputs": [],
   "source": [
    "df_joinedoutlier = df_joined2[df_joined2.apply(ratelier, axis = 1)]"
   ]
  },
  {
   "cell_type": "code",
   "execution_count": 91,
   "id": "5f0e8b67",
   "metadata": {},
   "outputs": [
    {
     "data": {
      "text/html": [
       "<div>\n",
       "<style scoped>\n",
       "    .dataframe tbody tr th:only-of-type {\n",
       "        vertical-align: middle;\n",
       "    }\n",
       "\n",
       "    .dataframe tbody tr th {\n",
       "        vertical-align: top;\n",
       "    }\n",
       "\n",
       "    .dataframe thead th {\n",
       "        text-align: right;\n",
       "    }\n",
       "</style>\n",
       "<table border=\"1\" class=\"dataframe\">\n",
       "  <thead>\n",
       "    <tr style=\"text-align: right;\">\n",
       "      <th></th>\n",
       "      <th>year</th>\n",
       "      <th>county</th>\n",
       "      <th>rate</th>\n",
       "      <th>MEDINCOME</th>\n",
       "      <th>rate1</th>\n",
       "      <th>medianincome</th>\n",
       "    </tr>\n",
       "    <tr>\n",
       "      <th>zipcode</th>\n",
       "      <th></th>\n",
       "      <th></th>\n",
       "      <th></th>\n",
       "      <th></th>\n",
       "      <th></th>\n",
       "      <th></th>\n",
       "    </tr>\n",
       "  </thead>\n",
       "  <tbody>\n",
       "    <tr>\n",
       "      <th>90013</th>\n",
       "      <td>2021</td>\n",
       "      <td>Los Angeles</td>\n",
       "      <td>565.621220</td>\n",
       "      <td>116094</td>\n",
       "      <td>565.621220</td>\n",
       "      <td>116094.0</td>\n",
       "    </tr>\n",
       "    <tr>\n",
       "      <th>90014</th>\n",
       "      <td>2021</td>\n",
       "      <td>Los Angeles</td>\n",
       "      <td>574.052358</td>\n",
       "      <td>98056</td>\n",
       "      <td>574.052358</td>\n",
       "      <td>98056.0</td>\n",
       "    </tr>\n",
       "    <tr>\n",
       "      <th>90021</th>\n",
       "      <td>2021</td>\n",
       "      <td>Los Angeles</td>\n",
       "      <td>322.642848</td>\n",
       "      <td>56300</td>\n",
       "      <td>322.642848</td>\n",
       "      <td>56300.0</td>\n",
       "    </tr>\n",
       "    <tr>\n",
       "      <th>91020</th>\n",
       "      <td>2021</td>\n",
       "      <td>Los Angeles</td>\n",
       "      <td>75.637271</td>\n",
       "      <td>99040</td>\n",
       "      <td>75.637271</td>\n",
       "      <td>99040.0</td>\n",
       "    </tr>\n",
       "    <tr>\n",
       "      <th>92059</th>\n",
       "      <td>2021</td>\n",
       "      <td>San DIego</td>\n",
       "      <td>152.935206</td>\n",
       "      <td>95101</td>\n",
       "      <td>152.935206</td>\n",
       "      <td>95101.0</td>\n",
       "    </tr>\n",
       "    <tr>\n",
       "      <th>...</th>\n",
       "      <td>...</td>\n",
       "      <td>...</td>\n",
       "      <td>...</td>\n",
       "      <td>...</td>\n",
       "      <td>...</td>\n",
       "      <td>...</td>\n",
       "    </tr>\n",
       "    <tr>\n",
       "      <th>96057</th>\n",
       "      <td>2021</td>\n",
       "      <td>Siskiyou</td>\n",
       "      <td>65.463939</td>\n",
       "      <td>54464</td>\n",
       "      <td>65.463939</td>\n",
       "      <td>54464.0</td>\n",
       "    </tr>\n",
       "    <tr>\n",
       "      <th>96088</th>\n",
       "      <td>2021</td>\n",
       "      <td>Shasta</td>\n",
       "      <td>150.815423</td>\n",
       "      <td>77637</td>\n",
       "      <td>150.815423</td>\n",
       "      <td>77637.0</td>\n",
       "    </tr>\n",
       "    <tr>\n",
       "      <th>96109</th>\n",
       "      <td>2021</td>\n",
       "      <td>Lassen</td>\n",
       "      <td>131.428548</td>\n",
       "      <td>61118</td>\n",
       "      <td>131.428548</td>\n",
       "      <td>61118.0</td>\n",
       "    </tr>\n",
       "    <tr>\n",
       "      <th>96113</th>\n",
       "      <td>2021</td>\n",
       "      <td>Lassen</td>\n",
       "      <td>100.199906</td>\n",
       "      <td>49861</td>\n",
       "      <td>100.199906</td>\n",
       "      <td>49861.0</td>\n",
       "    </tr>\n",
       "    <tr>\n",
       "      <th>96141</th>\n",
       "      <td>2021</td>\n",
       "      <td>Placer</td>\n",
       "      <td>4318.962689</td>\n",
       "      <td>104904</td>\n",
       "      <td>4318.962689</td>\n",
       "      <td>104904.0</td>\n",
       "    </tr>\n",
       "  </tbody>\n",
       "</table>\n",
       "<p>95 rows × 6 columns</p>\n",
       "</div>"
      ],
      "text/plain": [
       "         year       county         rate MEDINCOME        rate1  medianincome\n",
       "zipcode                                                                     \n",
       "90013    2021  Los Angeles   565.621220    116094   565.621220      116094.0\n",
       "90014    2021  Los Angeles   574.052358     98056   574.052358       98056.0\n",
       "90021    2021  Los Angeles   322.642848     56300   322.642848       56300.0\n",
       "91020    2021  Los Angeles    75.637271     99040    75.637271       99040.0\n",
       "92059    2021    San DIego   152.935206     95101   152.935206       95101.0\n",
       "...       ...          ...          ...       ...          ...           ...\n",
       "96057    2021     Siskiyou    65.463939     54464    65.463939       54464.0\n",
       "96088    2021       Shasta   150.815423     77637   150.815423       77637.0\n",
       "96109    2021       Lassen   131.428548     61118   131.428548       61118.0\n",
       "96113    2021       Lassen   100.199906     49861   100.199906       49861.0\n",
       "96141    2021       Placer  4318.962689    104904  4318.962689      104904.0\n",
       "\n",
       "[95 rows x 6 columns]"
      ]
     },
     "execution_count": 91,
     "metadata": {},
     "output_type": "execute_result"
    }
   ],
   "source": [
    "df_joinedoutlier"
   ]
  },
  {
   "cell_type": "code",
   "execution_count": 164,
   "id": "9bc932b6",
   "metadata": {},
   "outputs": [
    {
     "data": {
      "text/plain": [
       "Text(0, 0.5, 'Age-Adjusted Rate of Overdose Per 100000')"
      ]
     },
     "execution_count": 164,
     "metadata": {},
     "output_type": "execute_result"
    },
    {
     "data": {
      "image/png": "[encoded data removed]",
      "text/plain": [
       "<Figure size 432x288 with 1 Axes>"
      ]
     },
     "metadata": {
      "needs_background": "light"
     },
     "output_type": "display_data"
    }
   ],
   "source": [
    "plt.scatter(df_joinednooutlier.medianincome, df_joinednooutlier.rate1)\n",
    "plt.title(\"Distribution of Age Adjusted Rates of Opiod Rate Overdoses in Zip Codes with Avg. Income Less than 150K\")\n",
    "plt.xlabel(\"Average Median Income of Zipcode\")\n",
    "plt.ylabel(\"Age-Adjusted Rate of Overdose Per 100000\")"
   ]
  },
  {
   "cell_type": "code",
   "execution_count": 95,
   "id": "175839e4",
   "metadata": {},
   "outputs": [],
   "source": [
    "def inclessthan50000(row):\n",
    "    if row['medianincome'] <= 50000:\n",
    "        return True\n",
    "    else:\n",
    "        return False"
   ]
  },
  {
   "cell_type": "code",
   "execution_count": 122,
   "id": "710a6611",
   "metadata": {},
   "outputs": [],
   "source": [
    "df_joinedlessthan50k = df_joinednooutlier[df_joinednooutlier.apply(inclessthan50000, axis = 1)]"
   ]
  },
  {
   "cell_type": "code",
   "execution_count": 123,
   "id": "6da9cd47",
   "metadata": {},
   "outputs": [
    {
     "data": {
      "text/html": [
       "<div>\n",
       "<style scoped>\n",
       "    .dataframe tbody tr th:only-of-type {\n",
       "        vertical-align: middle;\n",
       "    }\n",
       "\n",
       "    .dataframe tbody tr th {\n",
       "        vertical-align: top;\n",
       "    }\n",
       "\n",
       "    .dataframe thead th {\n",
       "        text-align: right;\n",
       "    }\n",
       "</style>\n",
       "<table border=\"1\" class=\"dataframe\">\n",
       "  <thead>\n",
       "    <tr style=\"text-align: right;\">\n",
       "      <th></th>\n",
       "      <th>year</th>\n",
       "      <th>county</th>\n",
       "      <th>rate</th>\n",
       "      <th>MEDINCOME</th>\n",
       "      <th>rate1</th>\n",
       "      <th>medianincome</th>\n",
       "    </tr>\n",
       "    <tr>\n",
       "      <th>zipcode</th>\n",
       "      <th></th>\n",
       "      <th></th>\n",
       "      <th></th>\n",
       "      <th></th>\n",
       "      <th></th>\n",
       "      <th></th>\n",
       "    </tr>\n",
       "  </thead>\n",
       "  <tbody>\n",
       "    <tr>\n",
       "      <th>90002</th>\n",
       "      <td>2021</td>\n",
       "      <td>Los Angeles</td>\n",
       "      <td>12.645372</td>\n",
       "      <td>45417</td>\n",
       "      <td>12.645372</td>\n",
       "      <td>45417.0</td>\n",
       "    </tr>\n",
       "    <tr>\n",
       "      <th>90003</th>\n",
       "      <td>2021</td>\n",
       "      <td>Los Angeles</td>\n",
       "      <td>19.915432</td>\n",
       "      <td>44595</td>\n",
       "      <td>19.915432</td>\n",
       "      <td>44595.0</td>\n",
       "    </tr>\n",
       "    <tr>\n",
       "      <th>90005</th>\n",
       "      <td>2021</td>\n",
       "      <td>Los Angeles</td>\n",
       "      <td>8.283913</td>\n",
       "      <td>49552</td>\n",
       "      <td>8.283913</td>\n",
       "      <td>49552.0</td>\n",
       "    </tr>\n",
       "    <tr>\n",
       "      <th>90006</th>\n",
       "      <td>2021</td>\n",
       "      <td>Los Angeles</td>\n",
       "      <td>13.954837</td>\n",
       "      <td>37185</td>\n",
       "      <td>13.954837</td>\n",
       "      <td>37185.0</td>\n",
       "    </tr>\n",
       "    <tr>\n",
       "      <th>90007</th>\n",
       "      <td>2021</td>\n",
       "      <td>Los Angeles</td>\n",
       "      <td>5.490788</td>\n",
       "      <td>41172</td>\n",
       "      <td>5.490788</td>\n",
       "      <td>41172.0</td>\n",
       "    </tr>\n",
       "    <tr>\n",
       "      <th>...</th>\n",
       "      <td>...</td>\n",
       "      <td>...</td>\n",
       "      <td>...</td>\n",
       "      <td>...</td>\n",
       "      <td>...</td>\n",
       "      <td>...</td>\n",
       "    </tr>\n",
       "    <tr>\n",
       "      <th>96076</th>\n",
       "      <td>2021</td>\n",
       "      <td>Trinity</td>\n",
       "      <td>0.000000</td>\n",
       "      <td>28512</td>\n",
       "      <td>0.000000</td>\n",
       "      <td>28512.0</td>\n",
       "    </tr>\n",
       "    <tr>\n",
       "      <th>96093</th>\n",
       "      <td>2021</td>\n",
       "      <td>Trinity</td>\n",
       "      <td>18.157413</td>\n",
       "      <td>46741</td>\n",
       "      <td>18.157413</td>\n",
       "      <td>46741.0</td>\n",
       "    </tr>\n",
       "    <tr>\n",
       "      <th>96132</th>\n",
       "      <td>2021</td>\n",
       "      <td>Lassen</td>\n",
       "      <td>0.000000</td>\n",
       "      <td>28750</td>\n",
       "      <td>0.000000</td>\n",
       "      <td>28750.0</td>\n",
       "    </tr>\n",
       "    <tr>\n",
       "      <th>96134</th>\n",
       "      <td>2021</td>\n",
       "      <td>Siskiyou</td>\n",
       "      <td>0.000000</td>\n",
       "      <td>44688</td>\n",
       "      <td>0.000000</td>\n",
       "      <td>44688.0</td>\n",
       "    </tr>\n",
       "    <tr>\n",
       "      <th>96143</th>\n",
       "      <td>2021</td>\n",
       "      <td>Placer</td>\n",
       "      <td>22.915096</td>\n",
       "      <td>47344</td>\n",
       "      <td>22.915096</td>\n",
       "      <td>47344.0</td>\n",
       "    </tr>\n",
       "  </tbody>\n",
       "</table>\n",
       "<p>133 rows × 6 columns</p>\n",
       "</div>"
      ],
      "text/plain": [
       "         year       county       rate MEDINCOME      rate1  medianincome\n",
       "zipcode                                                                 \n",
       "90002    2021  Los Angeles  12.645372     45417  12.645372       45417.0\n",
       "90003    2021  Los Angeles  19.915432     44595  19.915432       44595.0\n",
       "90005    2021  Los Angeles   8.283913     49552   8.283913       49552.0\n",
       "90006    2021  Los Angeles  13.954837     37185  13.954837       37185.0\n",
       "90007    2021  Los Angeles   5.490788     41172   5.490788       41172.0\n",
       "...       ...          ...        ...       ...        ...           ...\n",
       "96076    2021      Trinity   0.000000     28512   0.000000       28512.0\n",
       "96093    2021      Trinity  18.157413     46741  18.157413       46741.0\n",
       "96132    2021       Lassen   0.000000     28750   0.000000       28750.0\n",
       "96134    2021     Siskiyou   0.000000     44688   0.000000       44688.0\n",
       "96143    2021       Placer  22.915096     47344  22.915096       47344.0\n",
       "\n",
       "[133 rows x 6 columns]"
      ]
     },
     "execution_count": 123,
     "metadata": {},
     "output_type": "execute_result"
    }
   ],
   "source": [
    "df_joinedlessthan50k"
   ]
  },
  {
   "cell_type": "code",
   "execution_count": 161,
   "id": "35271457",
   "metadata": {},
   "outputs": [
    {
     "data": {
      "text/plain": [
       "Text(0, 0.5, 'Number of zipcodes')"
      ]
     },
     "execution_count": 161,
     "metadata": {},
     "output_type": "execute_result"
    },
    {
     "data": {
      "image/png": "[encoded data removed]",
      "text/plain": [
       "<Figure size 432x288 with 1 Axes>"
      ]
     },
     "metadata": {
      "needs_background": "light"
     },
     "output_type": "display_data"
    }
   ],
   "source": [
    "df_joinedlessthan50k['rate'].hist(bins=10)\n",
    "plt.title(\"Distribution of Age Adjusted Rates of Opiod Rate Overdoses in Zip Codes with Avg. Income Less than 50K\")\n",
    "plt.xlabel(\"Age-Adjusted Rate\")\n",
    "plt.ylabel(\"Number of zipcodes\")"
   ]
  },
  {
   "cell_type": "code",
   "execution_count": 142,
   "id": "40e19339",
   "metadata": {},
   "outputs": [
    {
     "data": {
      "text/html": [
       "<div>\n",
       "<style scoped>\n",
       "    .dataframe tbody tr th:only-of-type {\n",
       "        vertical-align: middle;\n",
       "    }\n",
       "\n",
       "    .dataframe tbody tr th {\n",
       "        vertical-align: top;\n",
       "    }\n",
       "\n",
       "    .dataframe thead th {\n",
       "        text-align: right;\n",
       "    }\n",
       "</style>\n",
       "<table border=\"1\" class=\"dataframe\">\n",
       "  <thead>\n",
       "    <tr style=\"text-align: right;\">\n",
       "      <th></th>\n",
       "      <th>year</th>\n",
       "      <th>rate</th>\n",
       "      <th>rate1</th>\n",
       "      <th>medianincome</th>\n",
       "    </tr>\n",
       "  </thead>\n",
       "  <tbody>\n",
       "    <tr>\n",
       "      <th>count</th>\n",
       "      <td>133.0</td>\n",
       "      <td>133.000000</td>\n",
       "      <td>133.000000</td>\n",
       "      <td>133.000000</td>\n",
       "    </tr>\n",
       "    <tr>\n",
       "      <th>mean</th>\n",
       "      <td>2021.0</td>\n",
       "      <td>13.084575</td>\n",
       "      <td>13.084575</td>\n",
       "      <td>42297.834586</td>\n",
       "    </tr>\n",
       "    <tr>\n",
       "      <th>std</th>\n",
       "      <td>0.0</td>\n",
       "      <td>15.143603</td>\n",
       "      <td>15.143603</td>\n",
       "      <td>5845.226182</td>\n",
       "    </tr>\n",
       "    <tr>\n",
       "      <th>min</th>\n",
       "      <td>2021.0</td>\n",
       "      <td>0.000000</td>\n",
       "      <td>0.000000</td>\n",
       "      <td>23900.000000</td>\n",
       "    </tr>\n",
       "    <tr>\n",
       "      <th>25%</th>\n",
       "      <td>2021.0</td>\n",
       "      <td>0.000000</td>\n",
       "      <td>0.000000</td>\n",
       "      <td>39089.000000</td>\n",
       "    </tr>\n",
       "    <tr>\n",
       "      <th>50%</th>\n",
       "      <td>2021.0</td>\n",
       "      <td>8.283913</td>\n",
       "      <td>8.283913</td>\n",
       "      <td>43750.000000</td>\n",
       "    </tr>\n",
       "    <tr>\n",
       "      <th>75%</th>\n",
       "      <td>2021.0</td>\n",
       "      <td>21.566914</td>\n",
       "      <td>21.566914</td>\n",
       "      <td>46741.000000</td>\n",
       "    </tr>\n",
       "    <tr>\n",
       "      <th>max</th>\n",
       "      <td>2021.0</td>\n",
       "      <td>52.084256</td>\n",
       "      <td>52.084256</td>\n",
       "      <td>50000.000000</td>\n",
       "    </tr>\n",
       "  </tbody>\n",
       "</table>\n",
       "</div>"
      ],
      "text/plain": [
       "         year        rate       rate1  medianincome\n",
       "count   133.0  133.000000  133.000000    133.000000\n",
       "mean   2021.0   13.084575   13.084575  42297.834586\n",
       "std       0.0   15.143603   15.143603   5845.226182\n",
       "min    2021.0    0.000000    0.000000  23900.000000\n",
       "25%    2021.0    0.000000    0.000000  39089.000000\n",
       "50%    2021.0    8.283913    8.283913  43750.000000\n",
       "75%    2021.0   21.566914   21.566914  46741.000000\n",
       "max    2021.0   52.084256   52.084256  50000.000000"
      ]
     },
     "execution_count": 142,
     "metadata": {},
     "output_type": "execute_result"
    }
   ],
   "source": [
    "df_joinedlessthan50k.describe()"
   ]
  },
  {
   "cell_type": "code",
   "execution_count": 143,
   "id": "f00bef83",
   "metadata": {},
   "outputs": [
    {
     "data": {
      "text/html": [
       "<div>\n",
       "<style scoped>\n",
       "    .dataframe tbody tr th:only-of-type {\n",
       "        vertical-align: middle;\n",
       "    }\n",
       "\n",
       "    .dataframe tbody tr th {\n",
       "        vertical-align: top;\n",
       "    }\n",
       "\n",
       "    .dataframe thead th {\n",
       "        text-align: right;\n",
       "    }\n",
       "</style>\n",
       "<table border=\"1\" class=\"dataframe\">\n",
       "  <thead>\n",
       "    <tr style=\"text-align: right;\">\n",
       "      <th></th>\n",
       "      <th>year</th>\n",
       "      <th>rate</th>\n",
       "      <th>rate1</th>\n",
       "      <th>medianincome</th>\n",
       "    </tr>\n",
       "  </thead>\n",
       "  <tbody>\n",
       "    <tr>\n",
       "      <th>count</th>\n",
       "      <td>719.0</td>\n",
       "      <td>719.000000</td>\n",
       "      <td>719.000000</td>\n",
       "      <td>719.000000</td>\n",
       "    </tr>\n",
       "    <tr>\n",
       "      <th>mean</th>\n",
       "      <td>2021.0</td>\n",
       "      <td>13.858600</td>\n",
       "      <td>13.858600</td>\n",
       "      <td>73736.454798</td>\n",
       "    </tr>\n",
       "    <tr>\n",
       "      <th>std</th>\n",
       "      <td>0.0</td>\n",
       "      <td>12.558539</td>\n",
       "      <td>12.558539</td>\n",
       "      <td>13920.443667</td>\n",
       "    </tr>\n",
       "    <tr>\n",
       "      <th>min</th>\n",
       "      <td>2021.0</td>\n",
       "      <td>0.000000</td>\n",
       "      <td>0.000000</td>\n",
       "      <td>50179.000000</td>\n",
       "    </tr>\n",
       "    <tr>\n",
       "      <th>25%</th>\n",
       "      <td>2021.0</td>\n",
       "      <td>0.000000</td>\n",
       "      <td>0.000000</td>\n",
       "      <td>62866.000000</td>\n",
       "    </tr>\n",
       "    <tr>\n",
       "      <th>50%</th>\n",
       "      <td>2021.0</td>\n",
       "      <td>12.425539</td>\n",
       "      <td>12.425539</td>\n",
       "      <td>73154.000000</td>\n",
       "    </tr>\n",
       "    <tr>\n",
       "      <th>75%</th>\n",
       "      <td>2021.0</td>\n",
       "      <td>21.254408</td>\n",
       "      <td>21.254408</td>\n",
       "      <td>84836.500000</td>\n",
       "    </tr>\n",
       "    <tr>\n",
       "      <th>max</th>\n",
       "      <td>2021.0</td>\n",
       "      <td>53.943732</td>\n",
       "      <td>53.943732</td>\n",
       "      <td>100000.000000</td>\n",
       "    </tr>\n",
       "  </tbody>\n",
       "</table>\n",
       "</div>"
      ],
      "text/plain": [
       "         year        rate       rate1   medianincome\n",
       "count   719.0  719.000000  719.000000     719.000000\n",
       "mean   2021.0   13.858600   13.858600   73736.454798\n",
       "std       0.0   12.558539   12.558539   13920.443667\n",
       "min    2021.0    0.000000    0.000000   50179.000000\n",
       "25%    2021.0    0.000000    0.000000   62866.000000\n",
       "50%    2021.0   12.425539   12.425539   73154.000000\n",
       "75%    2021.0   21.254408   21.254408   84836.500000\n",
       "max    2021.0   53.943732   53.943732  100000.000000"
      ]
     },
     "execution_count": 143,
     "metadata": {},
     "output_type": "execute_result"
    }
   ],
   "source": [
    "df_joinedlessthan100k.describe()"
   ]
  },
  {
   "cell_type": "code",
   "execution_count": 163,
   "id": "2b06639c",
   "metadata": {},
   "outputs": [
    {
     "data": {
      "text/html": [
       "<div>\n",
       "<style scoped>\n",
       "    .dataframe tbody tr th:only-of-type {\n",
       "        vertical-align: middle;\n",
       "    }\n",
       "\n",
       "    .dataframe tbody tr th {\n",
       "        vertical-align: top;\n",
       "    }\n",
       "\n",
       "    .dataframe thead th {\n",
       "        text-align: right;\n",
       "    }\n",
       "</style>\n",
       "<table border=\"1\" class=\"dataframe\">\n",
       "  <thead>\n",
       "    <tr style=\"text-align: right;\">\n",
       "      <th></th>\n",
       "      <th>year</th>\n",
       "      <th>rate</th>\n",
       "      <th>rate1</th>\n",
       "      <th>medianincome</th>\n",
       "    </tr>\n",
       "  </thead>\n",
       "  <tbody>\n",
       "    <tr>\n",
       "      <th>count</th>\n",
       "      <td>1513.0</td>\n",
       "      <td>1513.000000</td>\n",
       "      <td>1513.000000</td>\n",
       "      <td>1513.000000</td>\n",
       "    </tr>\n",
       "    <tr>\n",
       "      <th>mean</th>\n",
       "      <td>2021.0</td>\n",
       "      <td>22.975445</td>\n",
       "      <td>22.975445</td>\n",
       "      <td>96423.332452</td>\n",
       "    </tr>\n",
       "    <tr>\n",
       "      <th>std</th>\n",
       "      <td>0.0</td>\n",
       "      <td>116.956349</td>\n",
       "      <td>116.956349</td>\n",
       "      <td>44555.049254</td>\n",
       "    </tr>\n",
       "    <tr>\n",
       "      <th>min</th>\n",
       "      <td>2021.0</td>\n",
       "      <td>0.000000</td>\n",
       "      <td>0.000000</td>\n",
       "      <td>23900.000000</td>\n",
       "    </tr>\n",
       "    <tr>\n",
       "      <th>25%</th>\n",
       "      <td>2021.0</td>\n",
       "      <td>1.935001</td>\n",
       "      <td>1.935001</td>\n",
       "      <td>63679.000000</td>\n",
       "    </tr>\n",
       "    <tr>\n",
       "      <th>50%</th>\n",
       "      <td>2021.0</td>\n",
       "      <td>12.395132</td>\n",
       "      <td>12.395132</td>\n",
       "      <td>85640.000000</td>\n",
       "    </tr>\n",
       "    <tr>\n",
       "      <th>75%</th>\n",
       "      <td>2021.0</td>\n",
       "      <td>22.804217</td>\n",
       "      <td>22.804217</td>\n",
       "      <td>118461.000000</td>\n",
       "    </tr>\n",
       "    <tr>\n",
       "      <th>max</th>\n",
       "      <td>2021.0</td>\n",
       "      <td>4318.962689</td>\n",
       "      <td>4318.962689</td>\n",
       "      <td>260000.000000</td>\n",
       "    </tr>\n",
       "  </tbody>\n",
       "</table>\n",
       "</div>"
      ],
      "text/plain": [
       "         year         rate        rate1   medianincome\n",
       "count  1513.0  1513.000000  1513.000000    1513.000000\n",
       "mean   2021.0    22.975445    22.975445   96423.332452\n",
       "std       0.0   116.956349   116.956349   44555.049254\n",
       "min    2021.0     0.000000     0.000000   23900.000000\n",
       "25%    2021.0     1.935001     1.935001   63679.000000\n",
       "50%    2021.0    12.395132    12.395132   85640.000000\n",
       "75%    2021.0    22.804217    22.804217  118461.000000\n",
       "max    2021.0  4318.962689  4318.962689  260000.000000"
      ]
     },
     "execution_count": 163,
     "metadata": {},
     "output_type": "execute_result"
    }
   ],
   "source": [
    "df_joined2.describe()"
   ]
  },
  {
   "cell_type": "code",
   "execution_count": 103,
   "id": "ff3c936a",
   "metadata": {},
   "outputs": [],
   "source": [
    "def inclessthan100000(row):\n",
    "    if row['medianincome'] <= 100000 and row['medianincome'] > 50000:\n",
    "        return True\n",
    "    else:\n",
    "        return False"
   ]
  },
  {
   "cell_type": "code",
   "execution_count": 125,
   "id": "920f90e5",
   "metadata": {},
   "outputs": [],
   "source": [
    "df_joinedlessthan100k = df_joinednooutlier[df_joinednooutlier.apply(inclessthan100000, axis = 1)]"
   ]
  },
  {
   "cell_type": "code",
   "execution_count": 126,
   "id": "f1a429ed",
   "metadata": {},
   "outputs": [
    {
     "data": {
      "text/html": [
       "<div>\n",
       "<style scoped>\n",
       "    .dataframe tbody tr th:only-of-type {\n",
       "        vertical-align: middle;\n",
       "    }\n",
       "\n",
       "    .dataframe tbody tr th {\n",
       "        vertical-align: top;\n",
       "    }\n",
       "\n",
       "    .dataframe thead th {\n",
       "        text-align: right;\n",
       "    }\n",
       "</style>\n",
       "<table border=\"1\" class=\"dataframe\">\n",
       "  <thead>\n",
       "    <tr style=\"text-align: right;\">\n",
       "      <th></th>\n",
       "      <th>year</th>\n",
       "      <th>county</th>\n",
       "      <th>rate</th>\n",
       "      <th>MEDINCOME</th>\n",
       "      <th>rate1</th>\n",
       "      <th>medianincome</th>\n",
       "    </tr>\n",
       "    <tr>\n",
       "      <th>zipcode</th>\n",
       "      <th></th>\n",
       "      <th></th>\n",
       "      <th></th>\n",
       "      <th></th>\n",
       "      <th></th>\n",
       "      <th></th>\n",
       "    </tr>\n",
       "  </thead>\n",
       "  <tbody>\n",
       "    <tr>\n",
       "      <th>90001</th>\n",
       "      <td>2021</td>\n",
       "      <td>Los Angeles</td>\n",
       "      <td>22.673220</td>\n",
       "      <td>50344</td>\n",
       "      <td>22.673220</td>\n",
       "      <td>50344.0</td>\n",
       "    </tr>\n",
       "    <tr>\n",
       "      <th>90004</th>\n",
       "      <td>2021</td>\n",
       "      <td>Los Angeles</td>\n",
       "      <td>20.862092</td>\n",
       "      <td>58073</td>\n",
       "      <td>20.862092</td>\n",
       "      <td>58073.0</td>\n",
       "    </tr>\n",
       "    <tr>\n",
       "      <th>90008</th>\n",
       "      <td>2021</td>\n",
       "      <td>Los Angeles</td>\n",
       "      <td>33.826045</td>\n",
       "      <td>72036</td>\n",
       "      <td>33.826045</td>\n",
       "      <td>72036.0</td>\n",
       "    </tr>\n",
       "    <tr>\n",
       "      <th>90010</th>\n",
       "      <td>2021</td>\n",
       "      <td>Los Angeles</td>\n",
       "      <td>13.523931</td>\n",
       "      <td>68973</td>\n",
       "      <td>13.523931</td>\n",
       "      <td>68973.0</td>\n",
       "    </tr>\n",
       "    <tr>\n",
       "      <th>90016</th>\n",
       "      <td>2021</td>\n",
       "      <td>Los Angeles</td>\n",
       "      <td>13.923085</td>\n",
       "      <td>57602</td>\n",
       "      <td>13.923085</td>\n",
       "      <td>57602.0</td>\n",
       "    </tr>\n",
       "    <tr>\n",
       "      <th>...</th>\n",
       "      <td>...</td>\n",
       "      <td>...</td>\n",
       "      <td>...</td>\n",
       "      <td>...</td>\n",
       "      <td>...</td>\n",
       "      <td>...</td>\n",
       "    </tr>\n",
       "    <tr>\n",
       "      <th>96128</th>\n",
       "      <td>2021</td>\n",
       "      <td>Lassen</td>\n",
       "      <td>0.000000</td>\n",
       "      <td>81071</td>\n",
       "      <td>0.000000</td>\n",
       "      <td>81071.0</td>\n",
       "    </tr>\n",
       "    <tr>\n",
       "      <th>96130</th>\n",
       "      <td>2021</td>\n",
       "      <td>Lassen</td>\n",
       "      <td>9.753582</td>\n",
       "      <td>66922</td>\n",
       "      <td>9.753582</td>\n",
       "      <td>66922.0</td>\n",
       "    </tr>\n",
       "    <tr>\n",
       "      <th>96137</th>\n",
       "      <td>2021</td>\n",
       "      <td>Plumas</td>\n",
       "      <td>0.000000</td>\n",
       "      <td>63277</td>\n",
       "      <td>0.000000</td>\n",
       "      <td>63277.0</td>\n",
       "    </tr>\n",
       "    <tr>\n",
       "      <th>96142</th>\n",
       "      <td>2021</td>\n",
       "      <td>Placer</td>\n",
       "      <td>0.000000</td>\n",
       "      <td>79531</td>\n",
       "      <td>0.000000</td>\n",
       "      <td>79531.0</td>\n",
       "    </tr>\n",
       "    <tr>\n",
       "      <th>96150</th>\n",
       "      <td>2021</td>\n",
       "      <td>El Dorado</td>\n",
       "      <td>28.845367</td>\n",
       "      <td>82407</td>\n",
       "      <td>28.845367</td>\n",
       "      <td>82407.0</td>\n",
       "    </tr>\n",
       "  </tbody>\n",
       "</table>\n",
       "<p>719 rows × 6 columns</p>\n",
       "</div>"
      ],
      "text/plain": [
       "         year       county       rate MEDINCOME      rate1  medianincome\n",
       "zipcode                                                                 \n",
       "90001    2021  Los Angeles  22.673220     50344  22.673220       50344.0\n",
       "90004    2021  Los Angeles  20.862092     58073  20.862092       58073.0\n",
       "90008    2021  Los Angeles  33.826045     72036  33.826045       72036.0\n",
       "90010    2021  Los Angeles  13.523931     68973  13.523931       68973.0\n",
       "90016    2021  Los Angeles  13.923085     57602  13.923085       57602.0\n",
       "...       ...          ...        ...       ...        ...           ...\n",
       "96128    2021       Lassen   0.000000     81071   0.000000       81071.0\n",
       "96130    2021       Lassen   9.753582     66922   9.753582       66922.0\n",
       "96137    2021       Plumas   0.000000     63277   0.000000       63277.0\n",
       "96142    2021       Placer   0.000000     79531   0.000000       79531.0\n",
       "96150    2021    El Dorado  28.845367     82407  28.845367       82407.0\n",
       "\n",
       "[719 rows x 6 columns]"
      ]
     },
     "execution_count": 126,
     "metadata": {},
     "output_type": "execute_result"
    }
   ],
   "source": [
    "df_joinedlessthan100k"
   ]
  },
  {
   "cell_type": "code",
   "execution_count": 160,
   "id": "47ddcab7",
   "metadata": {
    "scrolled": true
   },
   "outputs": [
    {
     "data": {
      "text/plain": [
       "Text(0, 0.5, 'Number of zipcodes')"
      ]
     },
     "execution_count": 160,
     "metadata": {},
     "output_type": "execute_result"
    },
    {
     "data": {
      "image/png": "[encoded data removed]",
      "text/plain": [
       "<Figure size 432x288 with 1 Axes>"
      ]
     },
     "metadata": {
      "needs_background": "light"
     },
     "output_type": "display_data"
    }
   ],
   "source": [
    "df_joinedlessthan100k['rate'].hist(bins=10)\n",
    "plt.title(\"Distribution of Age Adjusted Rates of Opiod Rate Overdoses in Zip Codes with Avg. Income Less than 100K\")\n",
    "plt.xlabel(\"Age-Adjusted Rate\")\n",
    "plt.ylabel(\"Number of zipcodes\")"
   ]
  },
  {
   "cell_type": "code",
   "execution_count": 128,
   "id": "0c898a3a",
   "metadata": {},
   "outputs": [],
   "source": [
    "def inclessthan150000(row):\n",
    "    if row['medianincome'] <= 150000 and row['medianincome'] > 100000:\n",
    "        return True\n",
    "    else:\n",
    "        return False"
   ]
  },
  {
   "cell_type": "code",
   "execution_count": 129,
   "id": "d904d858",
   "metadata": {},
   "outputs": [],
   "source": [
    "def inclessthan200000(row):\n",
    "    if row['medianincome'] <= 200000 and row['medianincome'] > 150000:\n",
    "        return True\n",
    "    else:\n",
    "        return False"
   ]
  },
  {
   "cell_type": "code",
   "execution_count": 130,
   "id": "61e3e3d2",
   "metadata": {},
   "outputs": [],
   "source": [
    "def inclessthan250000(row):\n",
    "    if row['medianincome'] <= 250000 and row['medianincome'] > 200000:\n",
    "        return True\n",
    "    else:\n",
    "        return False"
   ]
  },
  {
   "cell_type": "code",
   "execution_count": 131,
   "id": "fa820f9d",
   "metadata": {},
   "outputs": [],
   "source": [
    "def incgreaterthan250000(row):\n",
    "    if row['medianincome'] >250000:\n",
    "        return True\n",
    "    else:\n",
    "        return False"
   ]
  },
  {
   "cell_type": "code",
   "execution_count": 134,
   "id": "575bd1bf",
   "metadata": {},
   "outputs": [],
   "source": [
    "df_joinedlessthan150k = df_joinednooutlier[df_joinednooutlier.apply(inclessthan150000, axis = 1)]"
   ]
  },
  {
   "cell_type": "code",
   "execution_count": 135,
   "id": "12d93253",
   "metadata": {},
   "outputs": [],
   "source": [
    "df_joinedlessthan200k = df_joinednooutlier[df_joinednooutlier.apply(inclessthan200000, axis = 1)]"
   ]
  },
  {
   "cell_type": "code",
   "execution_count": 136,
   "id": "475b3bf9",
   "metadata": {},
   "outputs": [],
   "source": [
    "df_joinedlessthan250k = df_joinednooutlier[df_joinednooutlier.apply(inclessthan250000, axis = 1)]"
   ]
  },
  {
   "cell_type": "code",
   "execution_count": 137,
   "id": "4af44993",
   "metadata": {},
   "outputs": [],
   "source": [
    "df_joinedgreaterthan250k = df_joinednooutlier[df_joinednooutlier.apply(incgreaterthan250000, axis = 1)]"
   ]
  },
  {
   "cell_type": "code",
   "execution_count": 155,
   "id": "d1b25a67",
   "metadata": {},
   "outputs": [
    {
     "data": {
      "text/plain": [
       "Text(0, 0.5, 'Number of zipcodes')"
      ]
     },
     "execution_count": 155,
     "metadata": {},
     "output_type": "execute_result"
    },
    {
     "data": {
      "image/png": "[encoded data removed]",
      "text/plain": [
       "<Figure size 432x288 with 1 Axes>"
      ]
     },
     "metadata": {
      "needs_background": "light"
     },
     "output_type": "display_data"
    }
   ],
   "source": [
    "df_joinedlessthan150k['rate'].hist(bins=10)\n",
    "plt.title(\"Distribution of Age Adjusted Rates of Opiod Rate Overdoses in Zip Codes with Avg. Income Less than 150K\")\n",
    "plt.xlabel(\"Age-Adjusted Rate\")\n",
    "plt.ylabel(\"Number of zipcodes\")"
   ]
  },
  {
   "cell_type": "code",
   "execution_count": null,
   "id": "2db31340",
   "metadata": {},
   "outputs": [],
   "source": []
  },
  {
   "cell_type": "code",
   "execution_count": 144,
   "id": "f1501797",
   "metadata": {},
   "outputs": [
    {
     "data": {
      "text/html": [
       "<div>\n",
       "<style scoped>\n",
       "    .dataframe tbody tr th:only-of-type {\n",
       "        vertical-align: middle;\n",
       "    }\n",
       "\n",
       "    .dataframe tbody tr th {\n",
       "        vertical-align: top;\n",
       "    }\n",
       "\n",
       "    .dataframe thead th {\n",
       "        text-align: right;\n",
       "    }\n",
       "</style>\n",
       "<table border=\"1\" class=\"dataframe\">\n",
       "  <thead>\n",
       "    <tr style=\"text-align: right;\">\n",
       "      <th></th>\n",
       "      <th>year</th>\n",
       "      <th>rate</th>\n",
       "      <th>rate1</th>\n",
       "      <th>medianincome</th>\n",
       "    </tr>\n",
       "  </thead>\n",
       "  <tbody>\n",
       "    <tr>\n",
       "      <th>count</th>\n",
       "      <td>401.0</td>\n",
       "      <td>401.000000</td>\n",
       "      <td>401.000000</td>\n",
       "      <td>401.000000</td>\n",
       "    </tr>\n",
       "    <tr>\n",
       "      <th>mean</th>\n",
       "      <td>2021.0</td>\n",
       "      <td>12.659947</td>\n",
       "      <td>12.659947</td>\n",
       "      <td>120928.129676</td>\n",
       "    </tr>\n",
       "    <tr>\n",
       "      <th>std</th>\n",
       "      <td>0.0</td>\n",
       "      <td>10.599558</td>\n",
       "      <td>10.599558</td>\n",
       "      <td>13407.349434</td>\n",
       "    </tr>\n",
       "    <tr>\n",
       "      <th>min</th>\n",
       "      <td>2021.0</td>\n",
       "      <td>0.000000</td>\n",
       "      <td>0.000000</td>\n",
       "      <td>100156.000000</td>\n",
       "    </tr>\n",
       "    <tr>\n",
       "      <th>25%</th>\n",
       "      <td>2021.0</td>\n",
       "      <td>4.726844</td>\n",
       "      <td>4.726844</td>\n",
       "      <td>109583.000000</td>\n",
       "    </tr>\n",
       "    <tr>\n",
       "      <th>50%</th>\n",
       "      <td>2021.0</td>\n",
       "      <td>10.447139</td>\n",
       "      <td>10.447139</td>\n",
       "      <td>119205.000000</td>\n",
       "    </tr>\n",
       "    <tr>\n",
       "      <th>75%</th>\n",
       "      <td>2021.0</td>\n",
       "      <td>18.888111</td>\n",
       "      <td>18.888111</td>\n",
       "      <td>131579.000000</td>\n",
       "    </tr>\n",
       "    <tr>\n",
       "      <th>max</th>\n",
       "      <td>2021.0</td>\n",
       "      <td>49.586069</td>\n",
       "      <td>49.586069</td>\n",
       "      <td>150000.000000</td>\n",
       "    </tr>\n",
       "  </tbody>\n",
       "</table>\n",
       "</div>"
      ],
      "text/plain": [
       "         year        rate       rate1   medianincome\n",
       "count   401.0  401.000000  401.000000     401.000000\n",
       "mean   2021.0   12.659947   12.659947  120928.129676\n",
       "std       0.0   10.599558   10.599558   13407.349434\n",
       "min    2021.0    0.000000    0.000000  100156.000000\n",
       "25%    2021.0    4.726844    4.726844  109583.000000\n",
       "50%    2021.0   10.447139   10.447139  119205.000000\n",
       "75%    2021.0   18.888111   18.888111  131579.000000\n",
       "max    2021.0   49.586069   49.586069  150000.000000"
      ]
     },
     "execution_count": 144,
     "metadata": {},
     "output_type": "execute_result"
    }
   ],
   "source": [
    "df_joinedlessthan150k.describe()"
   ]
  },
  {
   "cell_type": "code",
   "execution_count": 156,
   "id": "a85a0548",
   "metadata": {},
   "outputs": [
    {
     "data": {
      "text/plain": [
       "Text(0, 0.5, 'Number of zipcodes')"
      ]
     },
     "execution_count": 156,
     "metadata": {},
     "output_type": "execute_result"
    },
    {
     "data": {
      "image/png": "[encoded data removed]",
      "text/plain": [
       "<Figure size 432x288 with 1 Axes>"
      ]
     },
     "metadata": {
      "needs_background": "light"
     },
     "output_type": "display_data"
    }
   ],
   "source": [
    "df_joinedlessthan200k['rate'].hist(bins=10)\n",
    "plt.title(\"Distribution of Age Adjusted Rates of Opiod Rate Overdoses in Zip Codes with Avg. Income Less than 200K\")\n",
    "plt.xlabel(\"Age-Adjusted Rate\")\n",
    "plt.ylabel(\"Number of zipcodes\")"
   ]
  },
  {
   "cell_type": "code",
   "execution_count": 157,
   "id": "79e3228f",
   "metadata": {},
   "outputs": [
    {
     "data": {
      "text/plain": [
       "Text(0, 0.5, 'Number of zipcodes')"
      ]
     },
     "execution_count": 157,
     "metadata": {},
     "output_type": "execute_result"
    },
    {
     "data": {
      "image/png": "[encoded data removed]",
      "text/plain": [
       "<Figure size 432x288 with 1 Axes>"
      ]
     },
     "metadata": {
      "needs_background": "light"
     },
     "output_type": "display_data"
    }
   ],
   "source": [
    "df_joinedlessthan250k['rate'].hist(bins=10)\n",
    "plt.title(\"Distribution of Age Adjusted Rates of Opiod Rate Overdoses in Zip Codes with Avg. Income Less than 250K\")\n",
    "plt.xlabel(\"Age-Adjusted Rate\")\n",
    "plt.ylabel(\"Number of zipcodes\")"
   ]
  },
  {
   "cell_type": "code",
   "execution_count": 158,
   "id": "ef7d1a94",
   "metadata": {},
   "outputs": [
    {
     "data": {
      "text/plain": [
       "Text(0, 0.5, 'Number of zipcodes')"
      ]
     },
     "execution_count": 158,
     "metadata": {},
     "output_type": "execute_result"
    },
    {
     "data": {
      "image/png": "[encoded data removed]",
      "text/plain": [
       "<Figure size 432x288 with 1 Axes>"
      ]
     },
     "metadata": {
      "needs_background": "light"
     },
     "output_type": "display_data"
    }
   ],
   "source": [
    "df_joinedgreaterthan250k['rate'].hist(bins=10)\n",
    "plt.title(\"Distribution of Age Adjusted Rates of Opiod Rate Overdoses in Zip Codes with Avg. Income Greater than 250K\")\n",
    "plt.xlabel(\"Age-Adjusted Rate\")\n",
    "plt.ylabel(\"Number of zipcodes\")"
   ]
  },
  {
   "cell_type": "code",
   "execution_count": 148,
   "id": "6552f988",
   "metadata": {},
   "outputs": [
    {
     "data": {
      "text/plain": [
       "<matplotlib.collections.PathCollection at 0x12b118790>"
      ]
     },
     "execution_count": 148,
     "metadata": {},
     "output_type": "execute_result"
    },
    {
     "data": {
      "image/png": "[encoded data removed]",
      "text/plain": [
       "<Figure size 432x288 with 1 Axes>"
      ]
     },
     "metadata": {
      "needs_background": "light"
     },
     "output_type": "display_data"
    }
   ],
   "source": [
    "plt.scatter(df_joinedlessthan50k.medianincome, df_joinedlessthan50k.rate1)"
   ]
  },
  {
   "cell_type": "code",
   "execution_count": 149,
   "id": "85168cf2",
   "metadata": {},
   "outputs": [
    {
     "data": {
      "text/plain": [
       "<matplotlib.collections.PathCollection at 0x12b157760>"
      ]
     },
     "execution_count": 149,
     "metadata": {},
     "output_type": "execute_result"
    },
    {
     "data": {
      "image/png": "[encoded data removed]",
      "text/plain": [
       "<Figure size 432x288 with 1 Axes>"
      ]
     },
     "metadata": {
      "needs_background": "light"
     },
     "output_type": "display_data"
    }
   ],
   "source": [
    "plt.scatter(df_joinedlessthan100k.medianincome, df_joinedlessthan100k.rate1)"
   ]
  },
  {
   "cell_type": "code",
   "execution_count": 151,
   "id": "10d0a930",
   "metadata": {},
   "outputs": [
    {
     "data": {
      "text/plain": [
       "<matplotlib.collections.PathCollection at 0x12e8ac4f0>"
      ]
     },
     "execution_count": 151,
     "metadata": {},
     "output_type": "execute_result"
    },
    {
     "data": {
      "image/png": "[encoded data removed]",
      "text/plain": [
       "<Figure size 432x288 with 1 Axes>"
      ]
     },
     "metadata": {
      "needs_background": "light"
     },
     "output_type": "display_data"
    }
   ],
   "source": [
    "plt.scatter(df_joinedlessthan150k.medianincome, df_joinedlessthan150k.rate1)"
   ]
  },
  {
   "cell_type": "code",
   "execution_count": 152,
   "id": "22a52b07",
   "metadata": {},
   "outputs": [
    {
     "data": {
      "text/plain": [
       "<matplotlib.collections.PathCollection at 0x12e8eec20>"
      ]
     },
     "execution_count": 152,
     "metadata": {},
     "output_type": "execute_result"
    },
    {
     "data": {
      "image/png": "[encoded data removed]",
      "text/plain": [
       "<Figure size 432x288 with 1 Axes>"
      ]
     },
     "metadata": {
      "needs_background": "light"
     },
     "output_type": "display_data"
    }
   ],
   "source": [
    "plt.scatter(df_joinedlessthan200k.medianincome, df_joinedlessthan200k.rate1)"
   ]
  },
  {
   "cell_type": "code",
   "execution_count": 154,
   "id": "8b5dfb02",
   "metadata": {},
   "outputs": [
    {
     "data": {
      "text/plain": [
       "<matplotlib.collections.PathCollection at 0x12e9c7eb0>"
      ]
     },
     "execution_count": 154,
     "metadata": {},
     "output_type": "execute_result"
    },
    {
     "data": {
      "image/png": "[encoded data removed]",
      "text/plain": [
       "<Figure size 432x288 with 1 Axes>"
      ]
     },
     "metadata": {
      "needs_background": "light"
     },
     "output_type": "display_data"
    }
   ],
   "source": [
    "plt.scatter(df_joinedlessthan250k.medianincome, df_joinedlessthan250k.rate1)"
   ]
  },
  {
   "cell_type": "code",
   "execution_count": null,
   "id": "26f5714e",
   "metadata": {},
   "outputs": [],
   "source": []
  }
 ],
 "metadata": {
  "kernelspec": {
   "display_name": "Python 3 (ipykernel)",
   "language": "python",
   "name": "python3"
  },
  "language_info": {
   "codemirror_mode": {
    "name": "ipython",
    "version": 3
   },
   "file_extension": ".py",
   "mimetype": "text/x-python",
   "name": "python",
   "nbconvert_exporter": "python",
   "pygments_lexer": "ipython3",
   "version": "3.10.4"
  }
 },
 "nbformat": 4,
 "nbformat_minor": 5
}
