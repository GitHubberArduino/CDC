{
 "cells": [
  {
   "cell_type": "code",
   "execution_count": 7,
   "id": "fe7bb2be",
   "metadata": {},
   "outputs": [],
   "source": [
    "def conversion(input_file, output_file):\n",
    "    with open(input_file, 'r') as f_in, open(output_file, 'w') as f_out:\n",
    "        for line in f_in:\n",
    "            modified_line = line.replace(',', '').replace('\t', ',')\n",
    "            f_out.write(modified_line)\n"
   ]
  },
  {
   "cell_type": "code",
   "execution_count": 10,
   "id": "4c544462",
   "metadata": {},
   "outputs": [],
   "source": [
    "conversion(\"2018CAPopulation.txt\", \"2018CAPopulation .csv\")"
   ]
  },
  {
   "cell_type": "code",
   "execution_count": null,
   "id": "1b3465e0",
   "metadata": {},
   "outputs": [],
   "source": []
  }
 ],
 "metadata": {
  "kernelspec": {
   "display_name": "Python 3 (ipykernel)",
   "language": "python",
   "name": "python3"
  },
  "language_info": {
   "codemirror_mode": {
    "name": "ipython",
    "version": 3
   },
   "file_extension": ".py",
   "mimetype": "text/x-python",
   "name": "python",
   "nbconvert_exporter": "python",
   "pygments_lexer": "ipython3",
   "version": "3.10.4"
  }
 },
 "nbformat": 4,
 "nbformat_minor": 5
}
