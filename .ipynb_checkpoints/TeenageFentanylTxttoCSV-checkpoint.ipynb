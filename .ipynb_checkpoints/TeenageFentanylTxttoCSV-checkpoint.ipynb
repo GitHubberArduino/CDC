{
 "cells": [
  {
   "cell_type": "code",
   "execution_count": 43,
   "id": "49f14ef3",
   "metadata": {},
   "outputs": [],
   "source": [
    "import json\n",
    "import pandas as pd\n",
    "data = {\n",
    "        'county': [],\n",
    "        'rate': [],\n",
    "        'num1': [],\n",
    "        'num2': [],\n",
    "        'num3': []\n",
    "        }\n",
    "\n",
    "\n",
    "        \n",
    "        "
   ]
  },
  {
   "cell_type": "code",
   "execution_count": 44,
   "id": "69c00df8",
   "metadata": {},
   "outputs": [],
   "source": [
    "df = pd.DataFrame(data)\n",
    "year = 2019"
   ]
  },
  {
   "cell_type": "code",
   "execution_count": 45,
   "id": "3bc2396e",
   "metadata": {},
   "outputs": [],
   "source": [
    "def print_df():\n",
    "    # Use a breakpoint in the code line below to debug your script.\n",
    "    print(len(df))\n",
    "    #for d in df.iloc:\n",
    "    #    print(d)\n",
    "    df.to_csv('/Users/danielwang/projects/cdc/AllDrugsTeenager2021.csv', index=False)"
   ]
  },
  {
   "cell_type": "code",
   "execution_count": 46,
   "id": "be26bd0e",
   "metadata": {},
   "outputs": [],
   "source": [
    "def parseData(sjson):\n",
    "    y = json.loads(sjson)\n",
    "    for r in y[\"data\"]:\n",
    "        newrecno = len(df.index)\n",
    "        df.loc[newrecno] = [ r[0], r[1], r[2], r[3], r[4]]"
   ]
  },
  {
   "cell_type": "code",
   "execution_count": 47,
   "id": "4327240d",
   "metadata": {},
   "outputs": [],
   "source": [
    "def parseFile():\n",
    "    # opening file in reading mode\n",
    "    #lastLine = \"\"\n",
    "    with open('/Users/danielwang/projects/cdc/AllDrugsTeenager2021.txt', 'r') as fileobj:\n",
    "        while (True):\n",
    "            line = fileobj.readline()\n",
    "            if not line:\n",
    "                break;\n",
    "            if line.startswith(\"{\") :\n",
    "                parseData(line)\n",
    "            #lastLine = line\n",
    "        "
   ]
  },
  {
   "cell_type": "code",
   "execution_count": 48,
   "id": "ea17fe77",
   "metadata": {},
   "outputs": [
    {
     "name": "stdout",
     "output_type": "stream",
     "text": [
      "60\n"
     ]
    }
   ],
   "source": [
    "parseFile()\n",
    "print_df()\n",
    "\n"
   ]
  },
  {
   "cell_type": "code",
   "execution_count": null,
   "id": "f9baa541",
   "metadata": {},
   "outputs": [],
   "source": []
  },
  {
   "cell_type": "code",
   "execution_count": null,
   "id": "03598a2e",
   "metadata": {},
   "outputs": [],
   "source": []
  }
 ],
 "metadata": {
  "kernelspec": {
   "display_name": "Python 3 (ipykernel)",
   "language": "python",
   "name": "python3"
  },
  "language_info": {
   "codemirror_mode": {
    "name": "ipython",
    "version": 3
   },
   "file_extension": ".py",
   "mimetype": "text/x-python",
   "name": "python",
   "nbconvert_exporter": "python",
   "pygments_lexer": "ipython3",
   "version": "3.10.4"
  }
 },
 "nbformat": 4,
 "nbformat_minor": 5
}
