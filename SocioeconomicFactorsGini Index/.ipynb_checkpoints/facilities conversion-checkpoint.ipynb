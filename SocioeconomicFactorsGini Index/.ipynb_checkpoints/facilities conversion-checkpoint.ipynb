{
 "cells": [
  {
   "cell_type": "code",
   "execution_count": 3,
   "id": "90461681",
   "metadata": {},
   "outputs": [],
   "source": [
    "def count_integers(filename):\n",
    "    # Create an empty dictionary to store the counts of integers\n",
    "    integer_counts = {}\n",
    "\n",
    "    # Open the file and read the integers line by line\n",
    "    with open(filename, 'r') as file:\n",
    "        for line in file:\n",
    "            try:\n",
    "                integer = int(line.strip())  # Convert the line to an integer\n",
    "                # Update the count for the integer in the dictionary\n",
    "                integer_counts[integer] = integer_counts.get(integer, 0) + 1\n",
    "            except ValueError:\n",
    "                print(f\"Warning: Invalid integer found in the file: {line}\")\n",
    "\n",
    "    return integer_counts\n",
    "\n",
    "# Provide the filename of the text file containing the list of integers\n",
    "\n"
   ]
  },
  {
   "cell_type": "code",
   "execution_count": 4,
   "id": "852a553f",
   "metadata": {},
   "outputs": [
    {
     "name": "stdout",
     "output_type": "stream",
     "text": [
      "1: 32\n",
      "4: 9\n",
      "3: 1\n",
      "5: 4\n",
      "7: 18\n",
      "9: 7\n",
      "10: 31\n",
      "12: 5\n",
      "11: 1\n",
      "13: 3\n",
      "15: 16\n",
      "14: 2\n",
      "16: 7\n",
      "17: 5\n",
      "19: 545\n",
      "21: 26\n",
      "22: 1\n",
      "23: 6\n",
      "24: 5\n",
      "27: 13\n",
      "28: 3\n",
      "29: 4\n",
      "30: 345\n",
      "31: 18\n",
      "33: 109\n",
      "34: 47\n",
      "35: 4\n",
      "36: 52\n",
      "37: 148\n",
      "38: 29\n",
      "39: 13\n",
      "40: 9\n",
      "41: 21\n",
      "42: 29\n",
      "43: 32\n",
      "44: 18\n",
      "45: 8\n",
      "47: 2\n",
      "48: 11\n",
      "49: 23\n",
      "50: 13\n",
      "51: 3\n",
      "53: 1\n",
      "54: 15\n",
      "52: 1\n",
      "55: 1\n",
      "56: 50\n",
      "57: 3\n",
      "58: 3\n"
     ]
    }
   ],
   "source": [
    "filename = \"treatmentfacilities.txt\"\n",
    "result = count_integers(filename)\n",
    "\n",
    "# Display the counts of each integer\n",
    "for integer, count in result.items():\n",
    "    print(f\"{integer}: {count}\")"
   ]
  },
  {
   "cell_type": "code",
   "execution_count": null,
   "id": "14c769a3",
   "metadata": {},
   "outputs": [],
   "source": []
  }
 ],
 "metadata": {
  "kernelspec": {
   "display_name": "Python 3 (ipykernel)",
   "language": "python",
   "name": "python3"
  },
  "language_info": {
   "codemirror_mode": {
    "name": "ipython",
    "version": 3
   },
   "file_extension": ".py",
   "mimetype": "text/x-python",
   "name": "python",
   "nbconvert_exporter": "python",
   "pygments_lexer": "ipython3",
   "version": "3.10.4"
  }
 },
 "nbformat": 4,
 "nbformat_minor": 5
}
