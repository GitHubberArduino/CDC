{
 "cells": [
  {
   "cell_type": "code",
   "execution_count": 165,
   "id": "2055167f",
   "metadata": {},
   "outputs": [],
   "source": [
    "import pandas as pd"
   ]
  },
  {
   "cell_type": "code",
   "execution_count": 166,
   "id": "2bb311bb",
   "metadata": {},
   "outputs": [],
   "source": [
    "df = pd.read_csv('2019_ca.csv')"
   ]
  },
  {
   "cell_type": "code",
   "execution_count": 167,
   "id": "115ae2a2",
   "metadata": {},
   "outputs": [
    {
     "name": "stdout",
     "output_type": "stream",
     "text": [
      "      year    county zipcode       rate      num1       num2       num3\n",
      "0     2019  Alameda:   94610  21.527439  6.131795  63.405669  10.482914\n",
      "1     2019  Alameda:   94621  20.812367  7.281984  54.473677   8.817164\n",
      "2     2019  Alameda:   94608  16.525211  5.824393  54.587357   6.962202\n",
      "3     2019  Alameda:   94606  14.899429  5.286077  36.639740   6.245729\n",
      "4     2019  Alameda:   94605  14.599118  5.727314  32.643685   5.638403\n",
      "...    ...       ...     ...        ...       ...        ...        ...\n",
      "1794  2019     Yuba:   95919   0.000000  0.000000   0.000000   0.000000\n",
      "1795  2019     Yuba:   95925   0.000000  0.000000   0.000000   0.000000\n",
      "1796  2019     Yuba:   95935   0.000000  0.000000   0.000000   0.000000\n",
      "1797  2019     Yuba:   95962   0.000000  0.000000   0.000000   0.000000\n",
      "1798  2019     Yuba:   95972   0.000000       NaN        NaN        NaN\n",
      "\n",
      "[1799 rows x 7 columns]\n"
     ]
    }
   ],
   "source": [
    "print(df)"
   ]
  },
  {
   "cell_type": "code",
   "execution_count": 168,
   "id": "9a31be41",
   "metadata": {},
   "outputs": [],
   "source": [
    "def filter_zipcode(row):\n",
    "    if row[\"zipcode\"].isdigit():\n",
    "        return True\n",
    "    else:\n",
    "        return False\n",
    "        "
   ]
  },
  {
   "cell_type": "code",
   "execution_count": 169,
   "id": "abef826c",
   "metadata": {},
   "outputs": [
    {
     "data": {
      "text/plain": [
       "0       True\n",
       "1       True\n",
       "2       True\n",
       "3       True\n",
       "4       True\n",
       "        ... \n",
       "1794    True\n",
       "1795    True\n",
       "1796    True\n",
       "1797    True\n",
       "1798    True\n",
       "Length: 1799, dtype: bool"
      ]
     },
     "execution_count": 169,
     "metadata": {},
     "output_type": "execute_result"
    }
   ],
   "source": [
    "df.apply(filter_zipcode,axis=1)#axis=1 is row, axis=0 is column"
   ]
  },
  {
   "cell_type": "code",
   "execution_count": 170,
   "id": "e7599aeb",
   "metadata": {},
   "outputs": [
    {
     "name": "stdout",
     "output_type": "stream",
     "text": [
      "      year    county zipcode       rate      num1       num2       num3\n",
      "0     2019  Alameda:   94610  21.527439  6.131795  63.405669  10.482914\n",
      "1     2019  Alameda:   94621  20.812367  7.281984  54.473677   8.817164\n",
      "2     2019  Alameda:   94608  16.525211  5.824393  54.587357   6.962202\n",
      "3     2019  Alameda:   94606  14.899429  5.286077  36.639740   6.245729\n",
      "4     2019  Alameda:   94605  14.599118  5.727314  32.643685   5.638403\n",
      "...    ...       ...     ...        ...       ...        ...        ...\n",
      "1794  2019     Yuba:   95919   0.000000  0.000000   0.000000   0.000000\n",
      "1795  2019     Yuba:   95925   0.000000  0.000000   0.000000   0.000000\n",
      "1796  2019     Yuba:   95935   0.000000  0.000000   0.000000   0.000000\n",
      "1797  2019     Yuba:   95962   0.000000  0.000000   0.000000   0.000000\n",
      "1798  2019     Yuba:   95972   0.000000       NaN        NaN        NaN\n",
      "\n",
      "[1689 rows x 7 columns]\n"
     ]
    }
   ],
   "source": [
    "df = df[df.apply(filter_zipcode,axis=1)]#filter\n",
    "print(df)"
   ]
  },
  {
   "cell_type": "code",
   "execution_count": 171,
   "id": "aaa6fdc0",
   "metadata": {},
   "outputs": [],
   "source": [
    "df=df.drop(\"num1\",axis=1)"
   ]
  },
  {
   "cell_type": "code",
   "execution_count": 172,
   "id": "d03f7046",
   "metadata": {},
   "outputs": [],
   "source": [
    "df=df.drop(\"num2\",axis=1)"
   ]
  },
  {
   "cell_type": "code",
   "execution_count": 173,
   "id": "135958af",
   "metadata": {},
   "outputs": [],
   "source": [
    "df=df.drop(\"num3\",axis=1)"
   ]
  },
  {
   "cell_type": "code",
   "execution_count": null,
   "id": "3258e8a8",
   "metadata": {},
   "outputs": [],
   "source": []
  },
  {
   "cell_type": "code",
   "execution_count": 174,
   "id": "1eb160e9",
   "metadata": {},
   "outputs": [],
   "source": [
    "ranges = {\"0-10\":0, \"10-20\":0,\"20-30\":0,\"30+\":0}\n",
    "for index,row in df.iterrows():\n",
    "    if row.rate <10:\n",
    "        ranges[\"0-10\"] = ranges[\"0-10\"] + 1\n",
    "    if row.rate < 20 and row.rate>10:\n",
    "        ranges[\"10-20\"] = ranges[\"20-30\"] + 1\n",
    "    if row.rate < 30 and row.rate>20:\n",
    "        ranges[\"20-30\"] = ranges[\"20-30\"] + 1\n",
    "    else:\n",
    "        ranges[\"30+\"] = ranges[\"30+\"] + 1"
   ]
  },
  {
   "cell_type": "code",
   "execution_count": 175,
   "id": "87e51714",
   "metadata": {},
   "outputs": [
    {
     "name": "stdout",
     "output_type": "stream",
     "text": [
      "{'0-10': 1298, '10-20': 61, '20-30': 62, '30+': 1627}\n"
     ]
    }
   ],
   "source": [
    "print(ranges)"
   ]
  },
  {
   "cell_type": "code",
   "execution_count": 176,
   "id": "304d9e4b",
   "metadata": {},
   "outputs": [
    {
     "data": {
      "text/plain": [
       "<AxesSubplot:>"
      ]
     },
     "execution_count": 176,
     "metadata": {},
     "output_type": "execute_result"
    },
    {
     "data": {
      "image/png": "[encoded data removed]",
      "text/plain": [
       "<Figure size 432x288 with 1 Axes>"
      ]
     },
     "metadata": {
      "needs_background": "light"
     },
     "output_type": "display_data"
    }
   ],
   "source": [
    "df[\"rate\"].hist(bins=10)"
   ]
  },
  {
   "cell_type": "code",
   "execution_count": 177,
   "id": "6e4a6475",
   "metadata": {
    "scrolled": true
   },
   "outputs": [
    {
     "data": {
      "text/html": [
       "<div>\n",
       "<style scoped>\n",
       "    .dataframe tbody tr th:only-of-type {\n",
       "        vertical-align: middle;\n",
       "    }\n",
       "\n",
       "    .dataframe tbody tr th {\n",
       "        vertical-align: top;\n",
       "    }\n",
       "\n",
       "    .dataframe thead th {\n",
       "        text-align: right;\n",
       "    }\n",
       "</style>\n",
       "<table border=\"1\" class=\"dataframe\">\n",
       "  <thead>\n",
       "    <tr style=\"text-align: right;\">\n",
       "      <th></th>\n",
       "      <th>year</th>\n",
       "      <th>rate</th>\n",
       "    </tr>\n",
       "  </thead>\n",
       "  <tbody>\n",
       "    <tr>\n",
       "      <th>count</th>\n",
       "      <td>1689.0</td>\n",
       "      <td>1689.000000</td>\n",
       "    </tr>\n",
       "    <tr>\n",
       "      <th>mean</th>\n",
       "      <td>2019.0</td>\n",
       "      <td>7.501563</td>\n",
       "    </tr>\n",
       "    <tr>\n",
       "      <th>std</th>\n",
       "      <td>0.0</td>\n",
       "      <td>15.595298</td>\n",
       "    </tr>\n",
       "    <tr>\n",
       "      <th>min</th>\n",
       "      <td>2019.0</td>\n",
       "      <td>0.000000</td>\n",
       "    </tr>\n",
       "    <tr>\n",
       "      <th>25%</th>\n",
       "      <td>2019.0</td>\n",
       "      <td>0.000000</td>\n",
       "    </tr>\n",
       "    <tr>\n",
       "      <th>50%</th>\n",
       "      <td>2019.0</td>\n",
       "      <td>3.507389</td>\n",
       "    </tr>\n",
       "    <tr>\n",
       "      <th>75%</th>\n",
       "      <td>2019.0</td>\n",
       "      <td>9.323450</td>\n",
       "    </tr>\n",
       "    <tr>\n",
       "      <th>max</th>\n",
       "      <td>2019.0</td>\n",
       "      <td>236.668796</td>\n",
       "    </tr>\n",
       "  </tbody>\n",
       "</table>\n",
       "</div>"
      ],
      "text/plain": [
       "         year         rate\n",
       "count  1689.0  1689.000000\n",
       "mean   2019.0     7.501563\n",
       "std       0.0    15.595298\n",
       "min    2019.0     0.000000\n",
       "25%    2019.0     0.000000\n",
       "50%    2019.0     3.507389\n",
       "75%    2019.0     9.323450\n",
       "max    2019.0   236.668796"
      ]
     },
     "execution_count": 177,
     "metadata": {},
     "output_type": "execute_result"
    }
   ],
   "source": [
    "df.describe()"
   ]
  },
  {
   "cell_type": "code",
   "execution_count": 178,
   "id": "d4088390",
   "metadata": {},
   "outputs": [],
   "source": [
    "from matplotlib import pyplot as plt"
   ]
  },
  {
   "cell_type": "code",
   "execution_count": 179,
   "id": "accff3b1",
   "metadata": {},
   "outputs": [
    {
     "data": {
      "text/plain": [
       "<AxesSubplot:>"
      ]
     },
     "execution_count": 179,
     "metadata": {},
     "output_type": "execute_result"
    },
    {
     "data": {
      "image/png": "[encoded data removed]",
      "text/plain": [
       "<Figure size 432x288 with 1 Axes>"
      ]
     },
     "metadata": {
      "needs_background": "light"
     },
     "output_type": "display_data"
    }
   ],
   "source": [
    "df[(df[\"rate\"]<200) & (df['rate']>0) ]['rate'].hist(bins=50)"
   ]
  },
  {
   "cell_type": "code",
   "execution_count": 180,
   "id": "a63913fd",
   "metadata": {},
   "outputs": [
    {
     "data": {
      "text/plain": [
       "<Figure size 1600x480 with 0 Axes>"
      ]
     },
     "execution_count": 180,
     "metadata": {},
     "output_type": "execute_result"
    },
    {
     "data": {
      "text/plain": [
       "<Figure size 1600x480 with 0 Axes>"
      ]
     },
     "metadata": {},
     "output_type": "display_data"
    }
   ],
   "source": [
    "from matplotlib.pyplot import figure\n",
    "figure(figsize=(20, 6), dpi=80)"
   ]
  },
  {
   "cell_type": "code",
   "execution_count": 181,
   "id": "0a8699b3",
   "metadata": {},
   "outputs": [],
   "source": [
    "income = pd.read_excel(\"median_income.xlsx\")"
   ]
  },
  {
   "cell_type": "code",
   "execution_count": null,
   "id": "f003472a",
   "metadata": {},
   "outputs": [],
   "source": []
  },
  {
   "cell_type": "code",
   "execution_count": null,
   "id": "2499ec24",
   "metadata": {},
   "outputs": [],
   "source": []
  },
  {
   "cell_type": "code",
   "execution_count": 182,
   "id": "f5f97d6d",
   "metadata": {},
   "outputs": [
    {
     "data": {
      "text/html": [
       "<div>\n",
       "<style scoped>\n",
       "    .dataframe tbody tr th:only-of-type {\n",
       "        vertical-align: middle;\n",
       "    }\n",
       "\n",
       "    .dataframe tbody tr th {\n",
       "        vertical-align: top;\n",
       "    }\n",
       "\n",
       "    .dataframe thead th {\n",
       "        text-align: right;\n",
       "    }\n",
       "</style>\n",
       "<table border=\"1\" class=\"dataframe\">\n",
       "  <thead>\n",
       "    <tr style=\"text-align: right;\">\n",
       "      <th></th>\n",
       "      <th>Unnamed: 0</th>\n",
       "      <th>Unnamed: 1</th>\n",
       "      <th>Unnamed: 2</th>\n",
       "      <th>GEO_ID</th>\n",
       "      <th>NAME</th>\n",
       "      <th>S1903_C03_015E</th>\n",
       "    </tr>\n",
       "  </thead>\n",
       "  <tbody>\n",
       "    <tr>\n",
       "      <th>0</th>\n",
       "      <td>NaN</td>\n",
       "      <td>NaN</td>\n",
       "      <td>NaN</td>\n",
       "      <td>id</td>\n",
       "      <td>Geographic Area Name</td>\n",
       "      <td>Estimate!!Median income (dollars)!!FAMILIES!!F...</td>\n",
       "    </tr>\n",
       "    <tr>\n",
       "      <th>1</th>\n",
       "      <td>NaN</td>\n",
       "      <td>NaN</td>\n",
       "      <td>NaN</td>\n",
       "      <td>8600000US00601</td>\n",
       "      <td>ZCTA5 00601</td>\n",
       "      <td>15721</td>\n",
       "    </tr>\n",
       "    <tr>\n",
       "      <th>2</th>\n",
       "      <td>NaN</td>\n",
       "      <td>NaN</td>\n",
       "      <td>NaN</td>\n",
       "      <td>8600000US00602</td>\n",
       "      <td>ZCTA5 00602</td>\n",
       "      <td>21060</td>\n",
       "    </tr>\n",
       "    <tr>\n",
       "      <th>3</th>\n",
       "      <td>NaN</td>\n",
       "      <td>NaN</td>\n",
       "      <td>NaN</td>\n",
       "      <td>8600000US00603</td>\n",
       "      <td>ZCTA5 00603</td>\n",
       "      <td>19340</td>\n",
       "    </tr>\n",
       "    <tr>\n",
       "      <th>4</th>\n",
       "      <td>NaN</td>\n",
       "      <td>NaN</td>\n",
       "      <td>NaN</td>\n",
       "      <td>8600000US00606</td>\n",
       "      <td>ZCTA5 00606</td>\n",
       "      <td>16176</td>\n",
       "    </tr>\n",
       "    <tr>\n",
       "      <th>...</th>\n",
       "      <td>...</td>\n",
       "      <td>...</td>\n",
       "      <td>...</td>\n",
       "      <td>...</td>\n",
       "      <td>...</td>\n",
       "      <td>...</td>\n",
       "    </tr>\n",
       "    <tr>\n",
       "      <th>33116</th>\n",
       "      <td>NaN</td>\n",
       "      <td>NaN</td>\n",
       "      <td>NaN</td>\n",
       "      <td>8600000US99923</td>\n",
       "      <td>ZCTA5 99923</td>\n",
       "      <td>-</td>\n",
       "    </tr>\n",
       "    <tr>\n",
       "      <th>33117</th>\n",
       "      <td>NaN</td>\n",
       "      <td>NaN</td>\n",
       "      <td>NaN</td>\n",
       "      <td>8600000US99925</td>\n",
       "      <td>ZCTA5 99925</td>\n",
       "      <td>80139</td>\n",
       "    </tr>\n",
       "    <tr>\n",
       "      <th>33118</th>\n",
       "      <td>NaN</td>\n",
       "      <td>NaN</td>\n",
       "      <td>NaN</td>\n",
       "      <td>8600000US99926</td>\n",
       "      <td>ZCTA5 99926</td>\n",
       "      <td>70147</td>\n",
       "    </tr>\n",
       "    <tr>\n",
       "      <th>33119</th>\n",
       "      <td>NaN</td>\n",
       "      <td>NaN</td>\n",
       "      <td>NaN</td>\n",
       "      <td>8600000US99927</td>\n",
       "      <td>ZCTA5 99927</td>\n",
       "      <td>-</td>\n",
       "    </tr>\n",
       "    <tr>\n",
       "      <th>33120</th>\n",
       "      <td>NaN</td>\n",
       "      <td>NaN</td>\n",
       "      <td>NaN</td>\n",
       "      <td>8600000US99929</td>\n",
       "      <td>ZCTA5 99929</td>\n",
       "      <td>67976</td>\n",
       "    </tr>\n",
       "  </tbody>\n",
       "</table>\n",
       "<p>33121 rows × 6 columns</p>\n",
       "</div>"
      ],
      "text/plain": [
       "       Unnamed: 0  Unnamed: 1  Unnamed: 2          GEO_ID  \\\n",
       "0             NaN         NaN         NaN              id   \n",
       "1             NaN         NaN         NaN  8600000US00601   \n",
       "2             NaN         NaN         NaN  8600000US00602   \n",
       "3             NaN         NaN         NaN  8600000US00603   \n",
       "4             NaN         NaN         NaN  8600000US00606   \n",
       "...           ...         ...         ...             ...   \n",
       "33116         NaN         NaN         NaN  8600000US99923   \n",
       "33117         NaN         NaN         NaN  8600000US99925   \n",
       "33118         NaN         NaN         NaN  8600000US99926   \n",
       "33119         NaN         NaN         NaN  8600000US99927   \n",
       "33120         NaN         NaN         NaN  8600000US99929   \n",
       "\n",
       "                       NAME                                     S1903_C03_015E  \n",
       "0      Geographic Area Name  Estimate!!Median income (dollars)!!FAMILIES!!F...  \n",
       "1               ZCTA5 00601                                              15721  \n",
       "2               ZCTA5 00602                                              21060  \n",
       "3               ZCTA5 00603                                              19340  \n",
       "4               ZCTA5 00606                                              16176  \n",
       "...                     ...                                                ...  \n",
       "33116           ZCTA5 99923                                                  -  \n",
       "33117           ZCTA5 99925                                              80139  \n",
       "33118           ZCTA5 99926                                              70147  \n",
       "33119           ZCTA5 99927                                                  -  \n",
       "33120           ZCTA5 99929                                              67976  \n",
       "\n",
       "[33121 rows x 6 columns]"
      ]
     },
     "execution_count": 182,
     "metadata": {},
     "output_type": "execute_result"
    }
   ],
   "source": [
    "income"
   ]
  },
  {
   "cell_type": "code",
   "execution_count": null,
   "id": "3be6a15b",
   "metadata": {},
   "outputs": [],
   "source": []
  },
  {
   "cell_type": "code",
   "execution_count": 183,
   "id": "44f6ddd7",
   "metadata": {},
   "outputs": [],
   "source": [
    "def filter_income(row):\n",
    "    if row[\"NAME\"].startswith(\"G\"):\n",
    "        return False\n",
    "    else:\n",
    "        return True"
   ]
  },
  {
   "cell_type": "code",
   "execution_count": 184,
   "id": "b926feba",
   "metadata": {},
   "outputs": [],
   "source": [
    "income = income[income.apply(filter_income,axis=1)]"
   ]
  },
  {
   "cell_type": "code",
   "execution_count": 185,
   "id": "4c47bffe",
   "metadata": {},
   "outputs": [
    {
     "data": {
      "text/html": [
       "<div>\n",
       "<style scoped>\n",
       "    .dataframe tbody tr th:only-of-type {\n",
       "        vertical-align: middle;\n",
       "    }\n",
       "\n",
       "    .dataframe tbody tr th {\n",
       "        vertical-align: top;\n",
       "    }\n",
       "\n",
       "    .dataframe thead th {\n",
       "        text-align: right;\n",
       "    }\n",
       "</style>\n",
       "<table border=\"1\" class=\"dataframe\">\n",
       "  <thead>\n",
       "    <tr style=\"text-align: right;\">\n",
       "      <th></th>\n",
       "      <th>Unnamed: 0</th>\n",
       "      <th>Unnamed: 1</th>\n",
       "      <th>Unnamed: 2</th>\n",
       "      <th>GEO_ID</th>\n",
       "      <th>NAME</th>\n",
       "      <th>S1903_C03_015E</th>\n",
       "    </tr>\n",
       "  </thead>\n",
       "  <tbody>\n",
       "    <tr>\n",
       "      <th>1</th>\n",
       "      <td>NaN</td>\n",
       "      <td>NaN</td>\n",
       "      <td>NaN</td>\n",
       "      <td>8600000US00601</td>\n",
       "      <td>ZCTA5 00601</td>\n",
       "      <td>15721</td>\n",
       "    </tr>\n",
       "    <tr>\n",
       "      <th>2</th>\n",
       "      <td>NaN</td>\n",
       "      <td>NaN</td>\n",
       "      <td>NaN</td>\n",
       "      <td>8600000US00602</td>\n",
       "      <td>ZCTA5 00602</td>\n",
       "      <td>21060</td>\n",
       "    </tr>\n",
       "    <tr>\n",
       "      <th>3</th>\n",
       "      <td>NaN</td>\n",
       "      <td>NaN</td>\n",
       "      <td>NaN</td>\n",
       "      <td>8600000US00603</td>\n",
       "      <td>ZCTA5 00603</td>\n",
       "      <td>19340</td>\n",
       "    </tr>\n",
       "    <tr>\n",
       "      <th>4</th>\n",
       "      <td>NaN</td>\n",
       "      <td>NaN</td>\n",
       "      <td>NaN</td>\n",
       "      <td>8600000US00606</td>\n",
       "      <td>ZCTA5 00606</td>\n",
       "      <td>16176</td>\n",
       "    </tr>\n",
       "    <tr>\n",
       "      <th>5</th>\n",
       "      <td>NaN</td>\n",
       "      <td>NaN</td>\n",
       "      <td>NaN</td>\n",
       "      <td>8600000US00610</td>\n",
       "      <td>ZCTA5 00610</td>\n",
       "      <td>23968</td>\n",
       "    </tr>\n",
       "    <tr>\n",
       "      <th>...</th>\n",
       "      <td>...</td>\n",
       "      <td>...</td>\n",
       "      <td>...</td>\n",
       "      <td>...</td>\n",
       "      <td>...</td>\n",
       "      <td>...</td>\n",
       "    </tr>\n",
       "    <tr>\n",
       "      <th>33116</th>\n",
       "      <td>NaN</td>\n",
       "      <td>NaN</td>\n",
       "      <td>NaN</td>\n",
       "      <td>8600000US99923</td>\n",
       "      <td>ZCTA5 99923</td>\n",
       "      <td>-</td>\n",
       "    </tr>\n",
       "    <tr>\n",
       "      <th>33117</th>\n",
       "      <td>NaN</td>\n",
       "      <td>NaN</td>\n",
       "      <td>NaN</td>\n",
       "      <td>8600000US99925</td>\n",
       "      <td>ZCTA5 99925</td>\n",
       "      <td>80139</td>\n",
       "    </tr>\n",
       "    <tr>\n",
       "      <th>33118</th>\n",
       "      <td>NaN</td>\n",
       "      <td>NaN</td>\n",
       "      <td>NaN</td>\n",
       "      <td>8600000US99926</td>\n",
       "      <td>ZCTA5 99926</td>\n",
       "      <td>70147</td>\n",
       "    </tr>\n",
       "    <tr>\n",
       "      <th>33119</th>\n",
       "      <td>NaN</td>\n",
       "      <td>NaN</td>\n",
       "      <td>NaN</td>\n",
       "      <td>8600000US99927</td>\n",
       "      <td>ZCTA5 99927</td>\n",
       "      <td>-</td>\n",
       "    </tr>\n",
       "    <tr>\n",
       "      <th>33120</th>\n",
       "      <td>NaN</td>\n",
       "      <td>NaN</td>\n",
       "      <td>NaN</td>\n",
       "      <td>8600000US99929</td>\n",
       "      <td>ZCTA5 99929</td>\n",
       "      <td>67976</td>\n",
       "    </tr>\n",
       "  </tbody>\n",
       "</table>\n",
       "<p>33120 rows × 6 columns</p>\n",
       "</div>"
      ],
      "text/plain": [
       "       Unnamed: 0  Unnamed: 1  Unnamed: 2          GEO_ID         NAME  \\\n",
       "1             NaN         NaN         NaN  8600000US00601  ZCTA5 00601   \n",
       "2             NaN         NaN         NaN  8600000US00602  ZCTA5 00602   \n",
       "3             NaN         NaN         NaN  8600000US00603  ZCTA5 00603   \n",
       "4             NaN         NaN         NaN  8600000US00606  ZCTA5 00606   \n",
       "5             NaN         NaN         NaN  8600000US00610  ZCTA5 00610   \n",
       "...           ...         ...         ...             ...          ...   \n",
       "33116         NaN         NaN         NaN  8600000US99923  ZCTA5 99923   \n",
       "33117         NaN         NaN         NaN  8600000US99925  ZCTA5 99925   \n",
       "33118         NaN         NaN         NaN  8600000US99926  ZCTA5 99926   \n",
       "33119         NaN         NaN         NaN  8600000US99927  ZCTA5 99927   \n",
       "33120         NaN         NaN         NaN  8600000US99929  ZCTA5 99929   \n",
       "\n",
       "      S1903_C03_015E  \n",
       "1              15721  \n",
       "2              21060  \n",
       "3              19340  \n",
       "4              16176  \n",
       "5              23968  \n",
       "...              ...  \n",
       "33116              -  \n",
       "33117          80139  \n",
       "33118          70147  \n",
       "33119              -  \n",
       "33120          67976  \n",
       "\n",
       "[33120 rows x 6 columns]"
      ]
     },
     "execution_count": 185,
     "metadata": {},
     "output_type": "execute_result"
    }
   ],
   "source": [
    "income"
   ]
  },
  {
   "cell_type": "code",
   "execution_count": 186,
   "id": "b7a422b4",
   "metadata": {},
   "outputs": [],
   "source": [
    "del income[\"Unnamed: 0\"]"
   ]
  },
  {
   "cell_type": "code",
   "execution_count": 187,
   "id": "bf0ba1c4",
   "metadata": {},
   "outputs": [],
   "source": [
    "del income[\"Unnamed: 1\"]"
   ]
  },
  {
   "cell_type": "code",
   "execution_count": 188,
   "id": "ec3949aa",
   "metadata": {},
   "outputs": [],
   "source": [
    "del income[\"Unnamed: 2\"]"
   ]
  },
  {
   "cell_type": "code",
   "execution_count": null,
   "id": "32b615d4",
   "metadata": {},
   "outputs": [],
   "source": []
  },
  {
   "cell_type": "code",
   "execution_count": 189,
   "id": "7e737ec0",
   "metadata": {},
   "outputs": [],
   "source": [
    "del income [\"GEO_ID\"]"
   ]
  },
  {
   "cell_type": "code",
   "execution_count": null,
   "id": "5c2f777a",
   "metadata": {},
   "outputs": [],
   "source": []
  },
  {
   "cell_type": "code",
   "execution_count": 190,
   "id": "38ef58b2",
   "metadata": {},
   "outputs": [
    {
     "name": "stderr",
     "output_type": "stream",
     "text": [
      "/var/folders/h4/r6tpj_q56gb11bpc5pv3wfyr0000gn/T/ipykernel_18590/1836072002.py:1: SettingWithCopyWarning: \n",
      "A value is trying to be set on a copy of a slice from a DataFrame.\n",
      "Try using .loc[row_indexer,col_indexer] = value instead\n",
      "\n",
      "See the caveats in the documentation: https://pandas.pydata.org/pandas-docs/stable/user_guide/indexing.html#returning-a-view-versus-a-copy\n",
      "  income[\"NAME\"] = income[\"NAME\"].str[6:11]\n"
     ]
    }
   ],
   "source": [
    "income[\"NAME\"] = income[\"NAME\"].str[6:11]"
   ]
  },
  {
   "cell_type": "code",
   "execution_count": 191,
   "id": "1cc495ea",
   "metadata": {},
   "outputs": [
    {
     "data": {
      "text/html": [
       "<div>\n",
       "<style scoped>\n",
       "    .dataframe tbody tr th:only-of-type {\n",
       "        vertical-align: middle;\n",
       "    }\n",
       "\n",
       "    .dataframe tbody tr th {\n",
       "        vertical-align: top;\n",
       "    }\n",
       "\n",
       "    .dataframe thead th {\n",
       "        text-align: right;\n",
       "    }\n",
       "</style>\n",
       "<table border=\"1\" class=\"dataframe\">\n",
       "  <thead>\n",
       "    <tr style=\"text-align: right;\">\n",
       "      <th></th>\n",
       "      <th>NAME</th>\n",
       "      <th>S1903_C03_015E</th>\n",
       "    </tr>\n",
       "  </thead>\n",
       "  <tbody>\n",
       "    <tr>\n",
       "      <th>1</th>\n",
       "      <td>00601</td>\n",
       "      <td>15721</td>\n",
       "    </tr>\n",
       "    <tr>\n",
       "      <th>2</th>\n",
       "      <td>00602</td>\n",
       "      <td>21060</td>\n",
       "    </tr>\n",
       "    <tr>\n",
       "      <th>3</th>\n",
       "      <td>00603</td>\n",
       "      <td>19340</td>\n",
       "    </tr>\n",
       "    <tr>\n",
       "      <th>4</th>\n",
       "      <td>00606</td>\n",
       "      <td>16176</td>\n",
       "    </tr>\n",
       "    <tr>\n",
       "      <th>5</th>\n",
       "      <td>00610</td>\n",
       "      <td>23968</td>\n",
       "    </tr>\n",
       "    <tr>\n",
       "      <th>...</th>\n",
       "      <td>...</td>\n",
       "      <td>...</td>\n",
       "    </tr>\n",
       "    <tr>\n",
       "      <th>33116</th>\n",
       "      <td>99923</td>\n",
       "      <td>-</td>\n",
       "    </tr>\n",
       "    <tr>\n",
       "      <th>33117</th>\n",
       "      <td>99925</td>\n",
       "      <td>80139</td>\n",
       "    </tr>\n",
       "    <tr>\n",
       "      <th>33118</th>\n",
       "      <td>99926</td>\n",
       "      <td>70147</td>\n",
       "    </tr>\n",
       "    <tr>\n",
       "      <th>33119</th>\n",
       "      <td>99927</td>\n",
       "      <td>-</td>\n",
       "    </tr>\n",
       "    <tr>\n",
       "      <th>33120</th>\n",
       "      <td>99929</td>\n",
       "      <td>67976</td>\n",
       "    </tr>\n",
       "  </tbody>\n",
       "</table>\n",
       "<p>33120 rows × 2 columns</p>\n",
       "</div>"
      ],
      "text/plain": [
       "        NAME S1903_C03_015E\n",
       "1      00601          15721\n",
       "2      00602          21060\n",
       "3      00603          19340\n",
       "4      00606          16176\n",
       "5      00610          23968\n",
       "...      ...            ...\n",
       "33116  99923              -\n",
       "33117  99925          80139\n",
       "33118  99926          70147\n",
       "33119  99927              -\n",
       "33120  99929          67976\n",
       "\n",
       "[33120 rows x 2 columns]"
      ]
     },
     "execution_count": 191,
     "metadata": {},
     "output_type": "execute_result"
    }
   ],
   "source": [
    "income"
   ]
  },
  {
   "cell_type": "code",
   "execution_count": 192,
   "id": "456de59b",
   "metadata": {},
   "outputs": [
    {
     "name": "stdout",
     "output_type": "stream",
     "text": [
      "1        00601\n",
      "2        00602\n",
      "3        00603\n",
      "4        00606\n",
      "5        00610\n",
      "         ...  \n",
      "33116    99923\n",
      "33117    99925\n",
      "33118    99926\n",
      "33119    99927\n",
      "33120    99929\n",
      "Name: NAME, Length: 33120, dtype: object\n"
     ]
    }
   ],
   "source": [
    "print(income.NAME)"
   ]
  },
  {
   "cell_type": "code",
   "execution_count": 193,
   "id": "a1525ef3",
   "metadata": {},
   "outputs": [
    {
     "name": "stderr",
     "output_type": "stream",
     "text": [
      "/var/folders/h4/r6tpj_q56gb11bpc5pv3wfyr0000gn/T/ipykernel_18590/826097255.py:1: SettingWithCopyWarning: \n",
      "A value is trying to be set on a copy of a slice from a DataFrame\n",
      "\n",
      "See the caveats in the documentation: https://pandas.pydata.org/pandas-docs/stable/user_guide/indexing.html#returning-a-view-versus-a-copy\n",
      "  income.rename(columns = {'S1903_C03_015E': 'MEDINCOME'}, inplace = True)\n"
     ]
    }
   ],
   "source": [
    "income.rename(columns = {'S1903_C03_015E': 'MEDINCOME'}, inplace = True)"
   ]
  },
  {
   "cell_type": "code",
   "execution_count": 194,
   "id": "32abf6ec",
   "metadata": {},
   "outputs": [
    {
     "name": "stderr",
     "output_type": "stream",
     "text": [
      "/var/folders/h4/r6tpj_q56gb11bpc5pv3wfyr0000gn/T/ipykernel_18590/3609746190.py:1: SettingWithCopyWarning: \n",
      "A value is trying to be set on a copy of a slice from a DataFrame\n",
      "\n",
      "See the caveats in the documentation: https://pandas.pydata.org/pandas-docs/stable/user_guide/indexing.html#returning-a-view-versus-a-copy\n",
      "  income.rename(columns = {'NAME' : 'zipcode'}, inplace = True)\n"
     ]
    }
   ],
   "source": [
    "income.rename(columns = {'NAME' : 'zipcode'}, inplace = True)"
   ]
  },
  {
   "cell_type": "code",
   "execution_count": 195,
   "id": "0e2308e8",
   "metadata": {},
   "outputs": [],
   "source": [
    "#def filter_CAcode(row):\n",
    "    #if int(row[\"zipcode\"]) >= 90001 and int(row[\"zipcode\"]) <= 96162:\n",
    "        #return True\n",
    "    #else:\n",
    "        #return False"
   ]
  },
  {
   "cell_type": "code",
   "execution_count": null,
   "id": "ac271859",
   "metadata": {},
   "outputs": [],
   "source": []
  },
  {
   "cell_type": "code",
   "execution_count": 196,
   "id": "f5d9d9e9",
   "metadata": {},
   "outputs": [
    {
     "name": "stderr",
     "output_type": "stream",
     "text": [
      "/var/folders/h4/r6tpj_q56gb11bpc5pv3wfyr0000gn/T/ipykernel_18590/1178273241.py:1: SettingWithCopyWarning: \n",
      "A value is trying to be set on a copy of a slice from a DataFrame\n",
      "\n",
      "See the caveats in the documentation: https://pandas.pydata.org/pandas-docs/stable/user_guide/indexing.html#returning-a-view-versus-a-copy\n",
      "  income.dropna(inplace=True)\n"
     ]
    }
   ],
   "source": [
    "income.dropna(inplace=True)"
   ]
  },
  {
   "cell_type": "code",
   "execution_count": null,
   "id": "a4c497fe",
   "metadata": {},
   "outputs": [],
   "source": []
  },
  {
   "cell_type": "code",
   "execution_count": null,
   "id": "6fc9e28a",
   "metadata": {},
   "outputs": [],
   "source": []
  },
  {
   "cell_type": "code",
   "execution_count": null,
   "id": "b89e2efd",
   "metadata": {},
   "outputs": [],
   "source": []
  },
  {
   "cell_type": "code",
   "execution_count": 197,
   "id": "a24d5bae",
   "metadata": {},
   "outputs": [],
   "source": [
    "df_joined=df.set_index(\"zipcode\").join(income.set_index(\"zipcode\"))"
   ]
  },
  {
   "cell_type": "code",
   "execution_count": 198,
   "id": "74dedaae",
   "metadata": {},
   "outputs": [],
   "source": [
    "df_joined.dropna(inplace= True)"
   ]
  },
  {
   "cell_type": "code",
   "execution_count": 199,
   "id": "4610027d",
   "metadata": {},
   "outputs": [
    {
     "data": {
      "text/html": [
       "<div>\n",
       "<style scoped>\n",
       "    .dataframe tbody tr th:only-of-type {\n",
       "        vertical-align: middle;\n",
       "    }\n",
       "\n",
       "    .dataframe tbody tr th {\n",
       "        vertical-align: top;\n",
       "    }\n",
       "\n",
       "    .dataframe thead th {\n",
       "        text-align: right;\n",
       "    }\n",
       "</style>\n",
       "<table border=\"1\" class=\"dataframe\">\n",
       "  <thead>\n",
       "    <tr style=\"text-align: right;\">\n",
       "      <th></th>\n",
       "      <th>year</th>\n",
       "      <th>county</th>\n",
       "      <th>rate</th>\n",
       "      <th>MEDINCOME</th>\n",
       "    </tr>\n",
       "    <tr>\n",
       "      <th>zipcode</th>\n",
       "      <th></th>\n",
       "      <th></th>\n",
       "      <th></th>\n",
       "      <th></th>\n",
       "    </tr>\n",
       "  </thead>\n",
       "  <tbody>\n",
       "    <tr>\n",
       "      <th>90001</th>\n",
       "      <td>2019</td>\n",
       "      <td>Los Angeles:</td>\n",
       "      <td>2.084256</td>\n",
       "      <td>50344</td>\n",
       "    </tr>\n",
       "    <tr>\n",
       "      <th>90002</th>\n",
       "      <td>2019</td>\n",
       "      <td>Los Angeles:</td>\n",
       "      <td>1.456244</td>\n",
       "      <td>45417</td>\n",
       "    </tr>\n",
       "    <tr>\n",
       "      <th>90003</th>\n",
       "      <td>2019</td>\n",
       "      <td>Los Angeles:</td>\n",
       "      <td>13.269925</td>\n",
       "      <td>44595</td>\n",
       "    </tr>\n",
       "    <tr>\n",
       "      <th>90004</th>\n",
       "      <td>2019</td>\n",
       "      <td>Los Angeles:</td>\n",
       "      <td>5.362783</td>\n",
       "      <td>58073</td>\n",
       "    </tr>\n",
       "    <tr>\n",
       "      <th>90005</th>\n",
       "      <td>2019</td>\n",
       "      <td>Los Angeles:</td>\n",
       "      <td>16.285088</td>\n",
       "      <td>49552</td>\n",
       "    </tr>\n",
       "    <tr>\n",
       "      <th>...</th>\n",
       "      <td>...</td>\n",
       "      <td>...</td>\n",
       "      <td>...</td>\n",
       "      <td>...</td>\n",
       "    </tr>\n",
       "    <tr>\n",
       "      <th>96145</th>\n",
       "      <td>2019</td>\n",
       "      <td>Placer:</td>\n",
       "      <td>0.000000</td>\n",
       "      <td>110101</td>\n",
       "    </tr>\n",
       "    <tr>\n",
       "      <th>96146</th>\n",
       "      <td>2019</td>\n",
       "      <td>Placer:</td>\n",
       "      <td>0.000000</td>\n",
       "      <td>148438</td>\n",
       "    </tr>\n",
       "    <tr>\n",
       "      <th>96148</th>\n",
       "      <td>2019</td>\n",
       "      <td>Placer:</td>\n",
       "      <td>0.000000</td>\n",
       "      <td>105729</td>\n",
       "    </tr>\n",
       "    <tr>\n",
       "      <th>96150</th>\n",
       "      <td>2019</td>\n",
       "      <td>El Dorado:</td>\n",
       "      <td>5.066595</td>\n",
       "      <td>82407</td>\n",
       "    </tr>\n",
       "    <tr>\n",
       "      <th>96161</th>\n",
       "      <td>2019</td>\n",
       "      <td>Nevada:</td>\n",
       "      <td>0.000000</td>\n",
       "      <td>115436</td>\n",
       "    </tr>\n",
       "  </tbody>\n",
       "</table>\n",
       "<p>1629 rows × 4 columns</p>\n",
       "</div>"
      ],
      "text/plain": [
       "         year        county       rate MEDINCOME\n",
       "zipcode                                         \n",
       "90001    2019  Los Angeles:   2.084256     50344\n",
       "90002    2019  Los Angeles:   1.456244     45417\n",
       "90003    2019  Los Angeles:  13.269925     44595\n",
       "90004    2019  Los Angeles:   5.362783     58073\n",
       "90005    2019  Los Angeles:  16.285088     49552\n",
       "...       ...           ...        ...       ...\n",
       "96145    2019       Placer:   0.000000    110101\n",
       "96146    2019       Placer:   0.000000    148438\n",
       "96148    2019       Placer:   0.000000    105729\n",
       "96150    2019    El Dorado:   5.066595     82407\n",
       "96161    2019       Nevada:   0.000000    115436\n",
       "\n",
       "[1629 rows x 4 columns]"
      ]
     },
     "execution_count": 199,
     "metadata": {},
     "output_type": "execute_result"
    }
   ],
   "source": [
    "df_joined"
   ]
  },
  {
   "cell_type": "code",
   "execution_count": 200,
   "id": "c412b59a",
   "metadata": {},
   "outputs": [
    {
     "data": {
      "text/html": [
       "<div>\n",
       "<style scoped>\n",
       "    .dataframe tbody tr th:only-of-type {\n",
       "        vertical-align: middle;\n",
       "    }\n",
       "\n",
       "    .dataframe tbody tr th {\n",
       "        vertical-align: top;\n",
       "    }\n",
       "\n",
       "    .dataframe thead th {\n",
       "        text-align: right;\n",
       "    }\n",
       "</style>\n",
       "<table border=\"1\" class=\"dataframe\">\n",
       "  <thead>\n",
       "    <tr style=\"text-align: right;\">\n",
       "      <th></th>\n",
       "      <th>year</th>\n",
       "      <th>county</th>\n",
       "      <th>rate</th>\n",
       "      <th>MEDINCOME</th>\n",
       "    </tr>\n",
       "    <tr>\n",
       "      <th>zipcode</th>\n",
       "      <th></th>\n",
       "      <th></th>\n",
       "      <th></th>\n",
       "      <th></th>\n",
       "    </tr>\n",
       "  </thead>\n",
       "  <tbody>\n",
       "    <tr>\n",
       "      <th>90001</th>\n",
       "      <td>2019</td>\n",
       "      <td>Los Angeles:</td>\n",
       "      <td>2.084256</td>\n",
       "      <td>50344</td>\n",
       "    </tr>\n",
       "    <tr>\n",
       "      <th>90002</th>\n",
       "      <td>2019</td>\n",
       "      <td>Los Angeles:</td>\n",
       "      <td>1.456244</td>\n",
       "      <td>45417</td>\n",
       "    </tr>\n",
       "    <tr>\n",
       "      <th>90003</th>\n",
       "      <td>2019</td>\n",
       "      <td>Los Angeles:</td>\n",
       "      <td>13.269925</td>\n",
       "      <td>44595</td>\n",
       "    </tr>\n",
       "    <tr>\n",
       "      <th>90004</th>\n",
       "      <td>2019</td>\n",
       "      <td>Los Angeles:</td>\n",
       "      <td>5.362783</td>\n",
       "      <td>58073</td>\n",
       "    </tr>\n",
       "    <tr>\n",
       "      <th>90005</th>\n",
       "      <td>2019</td>\n",
       "      <td>Los Angeles:</td>\n",
       "      <td>16.285088</td>\n",
       "      <td>49552</td>\n",
       "    </tr>\n",
       "    <tr>\n",
       "      <th>...</th>\n",
       "      <td>...</td>\n",
       "      <td>...</td>\n",
       "      <td>...</td>\n",
       "      <td>...</td>\n",
       "    </tr>\n",
       "    <tr>\n",
       "      <th>96145</th>\n",
       "      <td>2019</td>\n",
       "      <td>Placer:</td>\n",
       "      <td>0.000000</td>\n",
       "      <td>110101</td>\n",
       "    </tr>\n",
       "    <tr>\n",
       "      <th>96146</th>\n",
       "      <td>2019</td>\n",
       "      <td>Placer:</td>\n",
       "      <td>0.000000</td>\n",
       "      <td>148438</td>\n",
       "    </tr>\n",
       "    <tr>\n",
       "      <th>96148</th>\n",
       "      <td>2019</td>\n",
       "      <td>Placer:</td>\n",
       "      <td>0.000000</td>\n",
       "      <td>105729</td>\n",
       "    </tr>\n",
       "    <tr>\n",
       "      <th>96150</th>\n",
       "      <td>2019</td>\n",
       "      <td>El Dorado:</td>\n",
       "      <td>5.066595</td>\n",
       "      <td>82407</td>\n",
       "    </tr>\n",
       "    <tr>\n",
       "      <th>96161</th>\n",
       "      <td>2019</td>\n",
       "      <td>Nevada:</td>\n",
       "      <td>0.000000</td>\n",
       "      <td>115436</td>\n",
       "    </tr>\n",
       "  </tbody>\n",
       "</table>\n",
       "<p>1629 rows × 4 columns</p>\n",
       "</div>"
      ],
      "text/plain": [
       "         year        county       rate MEDINCOME\n",
       "zipcode                                         \n",
       "90001    2019  Los Angeles:   2.084256     50344\n",
       "90002    2019  Los Angeles:   1.456244     45417\n",
       "90003    2019  Los Angeles:  13.269925     44595\n",
       "90004    2019  Los Angeles:   5.362783     58073\n",
       "90005    2019  Los Angeles:  16.285088     49552\n",
       "...       ...           ...        ...       ...\n",
       "96145    2019       Placer:   0.000000    110101\n",
       "96146    2019       Placer:   0.000000    148438\n",
       "96148    2019       Placer:   0.000000    105729\n",
       "96150    2019    El Dorado:   5.066595     82407\n",
       "96161    2019       Nevada:   0.000000    115436\n",
       "\n",
       "[1629 rows x 4 columns]"
      ]
     },
     "execution_count": 200,
     "metadata": {},
     "output_type": "execute_result"
    }
   ],
   "source": [
    "df_joined"
   ]
  },
  {
   "cell_type": "code",
   "execution_count": 201,
   "id": "0671c692",
   "metadata": {},
   "outputs": [
    {
     "data": {
      "text/plain": [
       "pandas.core.frame.DataFrame"
      ]
     },
     "execution_count": 201,
     "metadata": {},
     "output_type": "execute_result"
    }
   ],
   "source": [
    "type(df_joined)"
   ]
  },
  {
   "cell_type": "code",
   "execution_count": 202,
   "id": "6cbcfdfd",
   "metadata": {},
   "outputs": [
    {
     "data": {
      "text/plain": [
       "zipcode\n",
       "90001     2.084256\n",
       "90002     1.456244\n",
       "90003    13.269925\n",
       "90004     5.362783\n",
       "90005    16.285088\n",
       "           ...    \n",
       "96145     0.000000\n",
       "96146     0.000000\n",
       "96148     0.000000\n",
       "96150     5.066595\n",
       "96161     0.000000\n",
       "Name: rate, Length: 1629, dtype: float64"
      ]
     },
     "execution_count": 202,
     "metadata": {},
     "output_type": "execute_result"
    }
   ],
   "source": [
    "df_joined.rate"
   ]
  },
  {
   "cell_type": "code",
   "execution_count": 203,
   "id": "65798d8e",
   "metadata": {},
   "outputs": [
    {
     "data": {
      "text/plain": [
       "zipcode\n",
       "90001     50344\n",
       "90002     45417\n",
       "90003     44595\n",
       "90004     58073\n",
       "90005     49552\n",
       "          ...  \n",
       "96145    110101\n",
       "96146    148438\n",
       "96148    105729\n",
       "96150     82407\n",
       "96161    115436\n",
       "Name: MEDINCOME, Length: 1629, dtype: object"
      ]
     },
     "execution_count": 203,
     "metadata": {},
     "output_type": "execute_result"
    }
   ],
   "source": [
    "df_joined.MEDINCOME"
   ]
  },
  {
   "cell_type": "code",
   "execution_count": null,
   "id": "4031814e",
   "metadata": {},
   "outputs": [],
   "source": []
  },
  {
   "cell_type": "code",
   "execution_count": 204,
   "id": "1ceb38ec",
   "metadata": {},
   "outputs": [
    {
     "data": {
      "text/html": [
       "<div>\n",
       "<style scoped>\n",
       "    .dataframe tbody tr th:only-of-type {\n",
       "        vertical-align: middle;\n",
       "    }\n",
       "\n",
       "    .dataframe tbody tr th {\n",
       "        vertical-align: top;\n",
       "    }\n",
       "\n",
       "    .dataframe thead th {\n",
       "        text-align: right;\n",
       "    }\n",
       "</style>\n",
       "<table border=\"1\" class=\"dataframe\">\n",
       "  <thead>\n",
       "    <tr style=\"text-align: right;\">\n",
       "      <th></th>\n",
       "      <th>year</th>\n",
       "      <th>county</th>\n",
       "      <th>rate</th>\n",
       "      <th>MEDINCOME</th>\n",
       "    </tr>\n",
       "    <tr>\n",
       "      <th>zipcode</th>\n",
       "      <th></th>\n",
       "      <th></th>\n",
       "      <th></th>\n",
       "      <th></th>\n",
       "    </tr>\n",
       "  </thead>\n",
       "  <tbody>\n",
       "    <tr>\n",
       "      <th>90001</th>\n",
       "      <td>2019</td>\n",
       "      <td>Los Angeles:</td>\n",
       "      <td>2.084256</td>\n",
       "      <td>50344</td>\n",
       "    </tr>\n",
       "    <tr>\n",
       "      <th>90002</th>\n",
       "      <td>2019</td>\n",
       "      <td>Los Angeles:</td>\n",
       "      <td>1.456244</td>\n",
       "      <td>45417</td>\n",
       "    </tr>\n",
       "    <tr>\n",
       "      <th>90003</th>\n",
       "      <td>2019</td>\n",
       "      <td>Los Angeles:</td>\n",
       "      <td>13.269925</td>\n",
       "      <td>44595</td>\n",
       "    </tr>\n",
       "    <tr>\n",
       "      <th>90004</th>\n",
       "      <td>2019</td>\n",
       "      <td>Los Angeles:</td>\n",
       "      <td>5.362783</td>\n",
       "      <td>58073</td>\n",
       "    </tr>\n",
       "    <tr>\n",
       "      <th>90005</th>\n",
       "      <td>2019</td>\n",
       "      <td>Los Angeles:</td>\n",
       "      <td>16.285088</td>\n",
       "      <td>49552</td>\n",
       "    </tr>\n",
       "    <tr>\n",
       "      <th>...</th>\n",
       "      <td>...</td>\n",
       "      <td>...</td>\n",
       "      <td>...</td>\n",
       "      <td>...</td>\n",
       "    </tr>\n",
       "    <tr>\n",
       "      <th>96145</th>\n",
       "      <td>2019</td>\n",
       "      <td>Placer:</td>\n",
       "      <td>0.000000</td>\n",
       "      <td>110101</td>\n",
       "    </tr>\n",
       "    <tr>\n",
       "      <th>96146</th>\n",
       "      <td>2019</td>\n",
       "      <td>Placer:</td>\n",
       "      <td>0.000000</td>\n",
       "      <td>148438</td>\n",
       "    </tr>\n",
       "    <tr>\n",
       "      <th>96148</th>\n",
       "      <td>2019</td>\n",
       "      <td>Placer:</td>\n",
       "      <td>0.000000</td>\n",
       "      <td>105729</td>\n",
       "    </tr>\n",
       "    <tr>\n",
       "      <th>96150</th>\n",
       "      <td>2019</td>\n",
       "      <td>El Dorado:</td>\n",
       "      <td>5.066595</td>\n",
       "      <td>82407</td>\n",
       "    </tr>\n",
       "    <tr>\n",
       "      <th>96161</th>\n",
       "      <td>2019</td>\n",
       "      <td>Nevada:</td>\n",
       "      <td>0.000000</td>\n",
       "      <td>115436</td>\n",
       "    </tr>\n",
       "  </tbody>\n",
       "</table>\n",
       "<p>1629 rows × 4 columns</p>\n",
       "</div>"
      ],
      "text/plain": [
       "         year        county       rate MEDINCOME\n",
       "zipcode                                         \n",
       "90001    2019  Los Angeles:   2.084256     50344\n",
       "90002    2019  Los Angeles:   1.456244     45417\n",
       "90003    2019  Los Angeles:  13.269925     44595\n",
       "90004    2019  Los Angeles:   5.362783     58073\n",
       "90005    2019  Los Angeles:  16.285088     49552\n",
       "...       ...           ...        ...       ...\n",
       "96145    2019       Placer:   0.000000    110101\n",
       "96146    2019       Placer:   0.000000    148438\n",
       "96148    2019       Placer:   0.000000    105729\n",
       "96150    2019    El Dorado:   5.066595     82407\n",
       "96161    2019       Nevada:   0.000000    115436\n",
       "\n",
       "[1629 rows x 4 columns]"
      ]
     },
     "execution_count": 204,
     "metadata": {},
     "output_type": "execute_result"
    }
   ],
   "source": [
    "df_joined"
   ]
  },
  {
   "cell_type": "code",
   "execution_count": 205,
   "id": "9d2e6a7c",
   "metadata": {},
   "outputs": [],
   "source": [
    "def tofloat(row):\n",
    "    return float(row[\"rate\"])"
   ]
  },
  {
   "cell_type": "code",
   "execution_count": 206,
   "id": "b18dca54",
   "metadata": {},
   "outputs": [],
   "source": [
    "df_joined['rate1'] = df_joined.apply(tofloat, axis=1)"
   ]
  },
  {
   "cell_type": "code",
   "execution_count": 207,
   "id": "4785b37c",
   "metadata": {},
   "outputs": [
    {
     "data": {
      "text/plain": [
       "zipcode\n",
       "90001     2.084256\n",
       "90002     1.456244\n",
       "90003    13.269925\n",
       "90004     5.362783\n",
       "90005    16.285088\n",
       "           ...    \n",
       "96145     0.000000\n",
       "96146     0.000000\n",
       "96148     0.000000\n",
       "96150     5.066595\n",
       "96161     0.000000\n",
       "Length: 1629, dtype: float64"
      ]
     },
     "execution_count": 207,
     "metadata": {},
     "output_type": "execute_result"
    }
   ],
   "source": [
    "df_joined.apply(lambda row:float(row[\"rate\"]), axis=1)"
   ]
  },
  {
   "cell_type": "code",
   "execution_count": 208,
   "id": "4c2ebeb4",
   "metadata": {},
   "outputs": [
    {
     "data": {
      "text/html": [
       "<div>\n",
       "<style scoped>\n",
       "    .dataframe tbody tr th:only-of-type {\n",
       "        vertical-align: middle;\n",
       "    }\n",
       "\n",
       "    .dataframe tbody tr th {\n",
       "        vertical-align: top;\n",
       "    }\n",
       "\n",
       "    .dataframe thead th {\n",
       "        text-align: right;\n",
       "    }\n",
       "</style>\n",
       "<table border=\"1\" class=\"dataframe\">\n",
       "  <thead>\n",
       "    <tr style=\"text-align: right;\">\n",
       "      <th></th>\n",
       "      <th>year</th>\n",
       "      <th>county</th>\n",
       "      <th>rate</th>\n",
       "      <th>MEDINCOME</th>\n",
       "      <th>rate1</th>\n",
       "    </tr>\n",
       "    <tr>\n",
       "      <th>zipcode</th>\n",
       "      <th></th>\n",
       "      <th></th>\n",
       "      <th></th>\n",
       "      <th></th>\n",
       "      <th></th>\n",
       "    </tr>\n",
       "  </thead>\n",
       "  <tbody>\n",
       "    <tr>\n",
       "      <th>90001</th>\n",
       "      <td>2019</td>\n",
       "      <td>Los Angeles:</td>\n",
       "      <td>2.084256</td>\n",
       "      <td>50344</td>\n",
       "      <td>2.084256</td>\n",
       "    </tr>\n",
       "    <tr>\n",
       "      <th>90002</th>\n",
       "      <td>2019</td>\n",
       "      <td>Los Angeles:</td>\n",
       "      <td>1.456244</td>\n",
       "      <td>45417</td>\n",
       "      <td>1.456244</td>\n",
       "    </tr>\n",
       "    <tr>\n",
       "      <th>90003</th>\n",
       "      <td>2019</td>\n",
       "      <td>Los Angeles:</td>\n",
       "      <td>13.269925</td>\n",
       "      <td>44595</td>\n",
       "      <td>13.269925</td>\n",
       "    </tr>\n",
       "    <tr>\n",
       "      <th>90004</th>\n",
       "      <td>2019</td>\n",
       "      <td>Los Angeles:</td>\n",
       "      <td>5.362783</td>\n",
       "      <td>58073</td>\n",
       "      <td>5.362783</td>\n",
       "    </tr>\n",
       "    <tr>\n",
       "      <th>90005</th>\n",
       "      <td>2019</td>\n",
       "      <td>Los Angeles:</td>\n",
       "      <td>16.285088</td>\n",
       "      <td>49552</td>\n",
       "      <td>16.285088</td>\n",
       "    </tr>\n",
       "    <tr>\n",
       "      <th>90006</th>\n",
       "      <td>2019</td>\n",
       "      <td>Los Angeles:</td>\n",
       "      <td>5.149211</td>\n",
       "      <td>37185</td>\n",
       "      <td>5.149211</td>\n",
       "    </tr>\n",
       "    <tr>\n",
       "      <th>90007</th>\n",
       "      <td>2019</td>\n",
       "      <td>Los Angeles:</td>\n",
       "      <td>7.678160</td>\n",
       "      <td>41172</td>\n",
       "      <td>7.678160</td>\n",
       "    </tr>\n",
       "    <tr>\n",
       "      <th>90008</th>\n",
       "      <td>2019</td>\n",
       "      <td>Los Angeles:</td>\n",
       "      <td>5.196753</td>\n",
       "      <td>72036</td>\n",
       "      <td>5.196753</td>\n",
       "    </tr>\n",
       "    <tr>\n",
       "      <th>90010</th>\n",
       "      <td>2019</td>\n",
       "      <td>Los Angeles:</td>\n",
       "      <td>0.000000</td>\n",
       "      <td>68973</td>\n",
       "      <td>0.000000</td>\n",
       "    </tr>\n",
       "    <tr>\n",
       "      <th>90011</th>\n",
       "      <td>2019</td>\n",
       "      <td>Los Angeles:</td>\n",
       "      <td>2.464922</td>\n",
       "      <td>43691</td>\n",
       "      <td>2.464922</td>\n",
       "    </tr>\n",
       "  </tbody>\n",
       "</table>\n",
       "</div>"
      ],
      "text/plain": [
       "         year        county       rate MEDINCOME      rate1\n",
       "zipcode                                                    \n",
       "90001    2019  Los Angeles:   2.084256     50344   2.084256\n",
       "90002    2019  Los Angeles:   1.456244     45417   1.456244\n",
       "90003    2019  Los Angeles:  13.269925     44595  13.269925\n",
       "90004    2019  Los Angeles:   5.362783     58073   5.362783\n",
       "90005    2019  Los Angeles:  16.285088     49552  16.285088\n",
       "90006    2019  Los Angeles:   5.149211     37185   5.149211\n",
       "90007    2019  Los Angeles:   7.678160     41172   7.678160\n",
       "90008    2019  Los Angeles:   5.196753     72036   5.196753\n",
       "90010    2019  Los Angeles:   0.000000     68973   0.000000\n",
       "90011    2019  Los Angeles:   2.464922     43691   2.464922"
      ]
     },
     "execution_count": 208,
     "metadata": {},
     "output_type": "execute_result"
    }
   ],
   "source": [
    "df_joined.head(10)"
   ]
  },
  {
   "cell_type": "code",
   "execution_count": 209,
   "id": "9a54365e",
   "metadata": {},
   "outputs": [
    {
     "data": {
      "text/plain": [
       "year           int64\n",
       "county        object\n",
       "rate         float64\n",
       "MEDINCOME     object\n",
       "rate1        float64\n",
       "dtype: object"
      ]
     },
     "execution_count": 209,
     "metadata": {},
     "output_type": "execute_result"
    }
   ],
   "source": [
    "df_joined.dtypes"
   ]
  },
  {
   "cell_type": "code",
   "execution_count": null,
   "id": "13d4c415",
   "metadata": {},
   "outputs": [],
   "source": []
  },
  {
   "cell_type": "code",
   "execution_count": null,
   "id": "e7048749",
   "metadata": {},
   "outputs": [],
   "source": []
  },
  {
   "cell_type": "code",
   "execution_count": 210,
   "id": "0663a81e",
   "metadata": {},
   "outputs": [
    {
     "data": {
      "text/html": [
       "<div>\n",
       "<style scoped>\n",
       "    .dataframe tbody tr th:only-of-type {\n",
       "        vertical-align: middle;\n",
       "    }\n",
       "\n",
       "    .dataframe tbody tr th {\n",
       "        vertical-align: top;\n",
       "    }\n",
       "\n",
       "    .dataframe thead th {\n",
       "        text-align: right;\n",
       "    }\n",
       "</style>\n",
       "<table border=\"1\" class=\"dataframe\">\n",
       "  <thead>\n",
       "    <tr style=\"text-align: right;\">\n",
       "      <th></th>\n",
       "      <th>year</th>\n",
       "      <th>county</th>\n",
       "      <th>rate</th>\n",
       "      <th>MEDINCOME</th>\n",
       "      <th>rate1</th>\n",
       "    </tr>\n",
       "    <tr>\n",
       "      <th>zipcode</th>\n",
       "      <th></th>\n",
       "      <th></th>\n",
       "      <th></th>\n",
       "      <th></th>\n",
       "      <th></th>\n",
       "    </tr>\n",
       "  </thead>\n",
       "  <tbody>\n",
       "    <tr>\n",
       "      <th>90001</th>\n",
       "      <td>2019</td>\n",
       "      <td>Los Angeles:</td>\n",
       "      <td>2.084256</td>\n",
       "      <td>50344</td>\n",
       "      <td>2.084256</td>\n",
       "    </tr>\n",
       "    <tr>\n",
       "      <th>90002</th>\n",
       "      <td>2019</td>\n",
       "      <td>Los Angeles:</td>\n",
       "      <td>1.456244</td>\n",
       "      <td>45417</td>\n",
       "      <td>1.456244</td>\n",
       "    </tr>\n",
       "    <tr>\n",
       "      <th>90003</th>\n",
       "      <td>2019</td>\n",
       "      <td>Los Angeles:</td>\n",
       "      <td>13.269925</td>\n",
       "      <td>44595</td>\n",
       "      <td>13.269925</td>\n",
       "    </tr>\n",
       "    <tr>\n",
       "      <th>90004</th>\n",
       "      <td>2019</td>\n",
       "      <td>Los Angeles:</td>\n",
       "      <td>5.362783</td>\n",
       "      <td>58073</td>\n",
       "      <td>5.362783</td>\n",
       "    </tr>\n",
       "    <tr>\n",
       "      <th>90005</th>\n",
       "      <td>2019</td>\n",
       "      <td>Los Angeles:</td>\n",
       "      <td>16.285088</td>\n",
       "      <td>49552</td>\n",
       "      <td>16.285088</td>\n",
       "    </tr>\n",
       "    <tr>\n",
       "      <th>...</th>\n",
       "      <td>...</td>\n",
       "      <td>...</td>\n",
       "      <td>...</td>\n",
       "      <td>...</td>\n",
       "      <td>...</td>\n",
       "    </tr>\n",
       "    <tr>\n",
       "      <th>96145</th>\n",
       "      <td>2019</td>\n",
       "      <td>Placer:</td>\n",
       "      <td>0.000000</td>\n",
       "      <td>110101</td>\n",
       "      <td>0.000000</td>\n",
       "    </tr>\n",
       "    <tr>\n",
       "      <th>96146</th>\n",
       "      <td>2019</td>\n",
       "      <td>Placer:</td>\n",
       "      <td>0.000000</td>\n",
       "      <td>148438</td>\n",
       "      <td>0.000000</td>\n",
       "    </tr>\n",
       "    <tr>\n",
       "      <th>96148</th>\n",
       "      <td>2019</td>\n",
       "      <td>Placer:</td>\n",
       "      <td>0.000000</td>\n",
       "      <td>105729</td>\n",
       "      <td>0.000000</td>\n",
       "    </tr>\n",
       "    <tr>\n",
       "      <th>96150</th>\n",
       "      <td>2019</td>\n",
       "      <td>El Dorado:</td>\n",
       "      <td>5.066595</td>\n",
       "      <td>82407</td>\n",
       "      <td>5.066595</td>\n",
       "    </tr>\n",
       "    <tr>\n",
       "      <th>96161</th>\n",
       "      <td>2019</td>\n",
       "      <td>Nevada:</td>\n",
       "      <td>0.000000</td>\n",
       "      <td>115436</td>\n",
       "      <td>0.000000</td>\n",
       "    </tr>\n",
       "  </tbody>\n",
       "</table>\n",
       "<p>1629 rows × 5 columns</p>\n",
       "</div>"
      ],
      "text/plain": [
       "         year        county       rate MEDINCOME      rate1\n",
       "zipcode                                                    \n",
       "90001    2019  Los Angeles:   2.084256     50344   2.084256\n",
       "90002    2019  Los Angeles:   1.456244     45417   1.456244\n",
       "90003    2019  Los Angeles:  13.269925     44595  13.269925\n",
       "90004    2019  Los Angeles:   5.362783     58073   5.362783\n",
       "90005    2019  Los Angeles:  16.285088     49552  16.285088\n",
       "...       ...           ...        ...       ...        ...\n",
       "96145    2019       Placer:   0.000000    110101   0.000000\n",
       "96146    2019       Placer:   0.000000    148438   0.000000\n",
       "96148    2019       Placer:   0.000000    105729   0.000000\n",
       "96150    2019    El Dorado:   5.066595     82407   5.066595\n",
       "96161    2019       Nevada:   0.000000    115436   0.000000\n",
       "\n",
       "[1629 rows x 5 columns]"
      ]
     },
     "execution_count": 210,
     "metadata": {},
     "output_type": "execute_result"
    }
   ],
   "source": [
    "df_joined"
   ]
  },
  {
   "cell_type": "code",
   "execution_count": null,
   "id": "46a3a02d",
   "metadata": {},
   "outputs": [],
   "source": []
  },
  {
   "cell_type": "code",
   "execution_count": null,
   "id": "aff07b9f",
   "metadata": {},
   "outputs": [],
   "source": []
  },
  {
   "cell_type": "code",
   "execution_count": null,
   "id": "07f058c8",
   "metadata": {},
   "outputs": [],
   "source": [
    "\n"
   ]
  },
  {
   "cell_type": "code",
   "execution_count": 211,
   "id": "5e75adbb",
   "metadata": {},
   "outputs": [],
   "source": [
    "def numericincome(row):\n",
    "    if isinstance(row[\"MEDINCOME\"], int):\n",
    "        return False;\n",
    "    if isinstance(row[\"MEDINCOME\"], str) & (not (row[\"MEDINCOME\"].isdigit()) ):\n",
    "        return True\n",
    "    else:\n",
    "        return False"
   ]
  },
  {
   "cell_type": "code",
   "execution_count": 212,
   "id": "e0c7f30b",
   "metadata": {
    "scrolled": false
   },
   "outputs": [
    {
     "data": {
      "text/html": [
       "<div>\n",
       "<style scoped>\n",
       "    .dataframe tbody tr th:only-of-type {\n",
       "        vertical-align: middle;\n",
       "    }\n",
       "\n",
       "    .dataframe tbody tr th {\n",
       "        vertical-align: top;\n",
       "    }\n",
       "\n",
       "    .dataframe thead th {\n",
       "        text-align: right;\n",
       "    }\n",
       "</style>\n",
       "<table border=\"1\" class=\"dataframe\">\n",
       "  <thead>\n",
       "    <tr style=\"text-align: right;\">\n",
       "      <th></th>\n",
       "      <th>year</th>\n",
       "      <th>county</th>\n",
       "      <th>rate</th>\n",
       "      <th>MEDINCOME</th>\n",
       "      <th>rate1</th>\n",
       "    </tr>\n",
       "    <tr>\n",
       "      <th>zipcode</th>\n",
       "      <th></th>\n",
       "      <th></th>\n",
       "      <th></th>\n",
       "      <th></th>\n",
       "      <th></th>\n",
       "    </tr>\n",
       "  </thead>\n",
       "  <tbody>\n",
       "    <tr>\n",
       "      <th>90071</th>\n",
       "      <td>2019</td>\n",
       "      <td>Los Angeles:</td>\n",
       "      <td>0.000000</td>\n",
       "      <td>-</td>\n",
       "      <td>0.000000</td>\n",
       "    </tr>\n",
       "    <tr>\n",
       "      <th>90073</th>\n",
       "      <td>2019</td>\n",
       "      <td>Los Angeles:</td>\n",
       "      <td>24.262154</td>\n",
       "      <td>-</td>\n",
       "      <td>24.262154</td>\n",
       "    </tr>\n",
       "    <tr>\n",
       "      <th>90077</th>\n",
       "      <td>2019</td>\n",
       "      <td>Los Angeles:</td>\n",
       "      <td>0.000000</td>\n",
       "      <td>250,000+</td>\n",
       "      <td>0.000000</td>\n",
       "    </tr>\n",
       "    <tr>\n",
       "      <th>90089</th>\n",
       "      <td>2019</td>\n",
       "      <td>Los Angeles:</td>\n",
       "      <td>0.000000</td>\n",
       "      <td>-</td>\n",
       "      <td>0.000000</td>\n",
       "    </tr>\n",
       "    <tr>\n",
       "      <th>90095</th>\n",
       "      <td>2019</td>\n",
       "      <td>Los Angeles:</td>\n",
       "      <td>0.000000</td>\n",
       "      <td>-</td>\n",
       "      <td>0.000000</td>\n",
       "    </tr>\n",
       "    <tr>\n",
       "      <th>...</th>\n",
       "      <td>...</td>\n",
       "      <td>...</td>\n",
       "      <td>...</td>\n",
       "      <td>...</td>\n",
       "      <td>...</td>\n",
       "    </tr>\n",
       "    <tr>\n",
       "      <th>96125</th>\n",
       "      <td>2019</td>\n",
       "      <td>Sierra:</td>\n",
       "      <td>0.000000</td>\n",
       "      <td>-</td>\n",
       "      <td>0.000000</td>\n",
       "    </tr>\n",
       "    <tr>\n",
       "      <th>96129</th>\n",
       "      <td>2019</td>\n",
       "      <td>Plumas:</td>\n",
       "      <td>0.000000</td>\n",
       "      <td>-</td>\n",
       "      <td>0.000000</td>\n",
       "    </tr>\n",
       "    <tr>\n",
       "      <th>96133</th>\n",
       "      <td>2019</td>\n",
       "      <td>Mono:</td>\n",
       "      <td>0.000000</td>\n",
       "      <td>-</td>\n",
       "      <td>0.000000</td>\n",
       "    </tr>\n",
       "    <tr>\n",
       "      <th>96135</th>\n",
       "      <td>2019</td>\n",
       "      <td>Plumas:</td>\n",
       "      <td>0.000000</td>\n",
       "      <td>-</td>\n",
       "      <td>0.000000</td>\n",
       "    </tr>\n",
       "    <tr>\n",
       "      <th>96136</th>\n",
       "      <td>2019</td>\n",
       "      <td>Lassen:</td>\n",
       "      <td>0.000000</td>\n",
       "      <td>-</td>\n",
       "      <td>0.000000</td>\n",
       "    </tr>\n",
       "  </tbody>\n",
       "</table>\n",
       "<p>139 rows × 5 columns</p>\n",
       "</div>"
      ],
      "text/plain": [
       "         year        county       rate MEDINCOME      rate1\n",
       "zipcode                                                    \n",
       "90071    2019  Los Angeles:   0.000000         -   0.000000\n",
       "90073    2019  Los Angeles:  24.262154         -  24.262154\n",
       "90077    2019  Los Angeles:   0.000000  250,000+   0.000000\n",
       "90089    2019  Los Angeles:   0.000000         -   0.000000\n",
       "90095    2019  Los Angeles:   0.000000         -   0.000000\n",
       "...       ...           ...        ...       ...        ...\n",
       "96125    2019       Sierra:   0.000000         -   0.000000\n",
       "96129    2019       Plumas:   0.000000         -   0.000000\n",
       "96133    2019         Mono:   0.000000         -   0.000000\n",
       "96135    2019       Plumas:   0.000000         -   0.000000\n",
       "96136    2019       Lassen:   0.000000         -   0.000000\n",
       "\n",
       "[139 rows x 5 columns]"
      ]
     },
     "execution_count": 212,
     "metadata": {},
     "output_type": "execute_result"
    }
   ],
   "source": [
    "df_joined[df_joined.apply(lambda row: numericincome(row), axis=1)]"
   ]
  },
  {
   "cell_type": "code",
   "execution_count": null,
   "id": "cdea5d36",
   "metadata": {},
   "outputs": [],
   "source": []
  },
  {
   "cell_type": "code",
   "execution_count": 213,
   "id": "8585863f",
   "metadata": {},
   "outputs": [
    {
     "data": {
      "text/html": [
       "<div>\n",
       "<style scoped>\n",
       "    .dataframe tbody tr th:only-of-type {\n",
       "        vertical-align: middle;\n",
       "    }\n",
       "\n",
       "    .dataframe tbody tr th {\n",
       "        vertical-align: top;\n",
       "    }\n",
       "\n",
       "    .dataframe thead th {\n",
       "        text-align: right;\n",
       "    }\n",
       "</style>\n",
       "<table border=\"1\" class=\"dataframe\">\n",
       "  <thead>\n",
       "    <tr style=\"text-align: right;\">\n",
       "      <th></th>\n",
       "      <th>year</th>\n",
       "      <th>rate</th>\n",
       "      <th>rate1</th>\n",
       "      <th>medianincome</th>\n",
       "    </tr>\n",
       "  </thead>\n",
       "  <tbody>\n",
       "    <tr>\n",
       "      <th>count</th>\n",
       "      <td>1513.0</td>\n",
       "      <td>1513.000000</td>\n",
       "      <td>1513.000000</td>\n",
       "      <td>1513.000000</td>\n",
       "    </tr>\n",
       "    <tr>\n",
       "      <th>mean</th>\n",
       "      <td>2021.0</td>\n",
       "      <td>22.975445</td>\n",
       "      <td>22.975445</td>\n",
       "      <td>96423.332452</td>\n",
       "    </tr>\n",
       "    <tr>\n",
       "      <th>std</th>\n",
       "      <td>0.0</td>\n",
       "      <td>116.956349</td>\n",
       "      <td>116.956349</td>\n",
       "      <td>44555.049254</td>\n",
       "    </tr>\n",
       "    <tr>\n",
       "      <th>min</th>\n",
       "      <td>2021.0</td>\n",
       "      <td>0.000000</td>\n",
       "      <td>0.000000</td>\n",
       "      <td>23900.000000</td>\n",
       "    </tr>\n",
       "    <tr>\n",
       "      <th>25%</th>\n",
       "      <td>2021.0</td>\n",
       "      <td>1.935001</td>\n",
       "      <td>1.935001</td>\n",
       "      <td>63679.000000</td>\n",
       "    </tr>\n",
       "    <tr>\n",
       "      <th>50%</th>\n",
       "      <td>2021.0</td>\n",
       "      <td>12.395132</td>\n",
       "      <td>12.395132</td>\n",
       "      <td>85640.000000</td>\n",
       "    </tr>\n",
       "    <tr>\n",
       "      <th>75%</th>\n",
       "      <td>2021.0</td>\n",
       "      <td>22.804217</td>\n",
       "      <td>22.804217</td>\n",
       "      <td>118461.000000</td>\n",
       "    </tr>\n",
       "    <tr>\n",
       "      <th>max</th>\n",
       "      <td>2021.0</td>\n",
       "      <td>4318.962689</td>\n",
       "      <td>4318.962689</td>\n",
       "      <td>260000.000000</td>\n",
       "    </tr>\n",
       "  </tbody>\n",
       "</table>\n",
       "</div>"
      ],
      "text/plain": [
       "         year         rate        rate1   medianincome\n",
       "count  1513.0  1513.000000  1513.000000    1513.000000\n",
       "mean   2021.0    22.975445    22.975445   96423.332452\n",
       "std       0.0   116.956349   116.956349   44555.049254\n",
       "min    2021.0     0.000000     0.000000   23900.000000\n",
       "25%    2021.0     1.935001     1.935001   63679.000000\n",
       "50%    2021.0    12.395132    12.395132   85640.000000\n",
       "75%    2021.0    22.804217    22.804217  118461.000000\n",
       "max    2021.0  4318.962689  4318.962689  260000.000000"
      ]
     },
     "execution_count": 213,
     "metadata": {},
     "output_type": "execute_result"
    }
   ],
   "source": [
    "df_joined2.describe()"
   ]
  },
  {
   "cell_type": "code",
   "execution_count": 214,
   "id": "dc6f9134",
   "metadata": {},
   "outputs": [
    {
     "data": {
      "text/plain": [
       "zipcode\n",
       "90001     50344\n",
       "90002     45417\n",
       "90003     44595\n",
       "90004     58073\n",
       "90005     49552\n",
       "          ...  \n",
       "96145    110101\n",
       "96146    148438\n",
       "96148    105729\n",
       "96150     82407\n",
       "96161    115436\n",
       "Name: MEDINCOME, Length: 1629, dtype: object"
      ]
     },
     "execution_count": 214,
     "metadata": {},
     "output_type": "execute_result"
    }
   ],
   "source": [
    "df_joined['MEDINCOME']"
   ]
  },
  {
   "cell_type": "code",
   "execution_count": 215,
   "id": "b4c3e510",
   "metadata": {},
   "outputs": [],
   "source": [
    "def numover250K(row):\n",
    "    if row[\"MEDINCOME\"] == \"250,000+\":\n",
    "        return \"260000\"\n",
    "    else:\n",
    "        return row[\"MEDINCOME\"]"
   ]
  },
  {
   "cell_type": "code",
   "execution_count": 216,
   "id": "159ccc04",
   "metadata": {},
   "outputs": [],
   "source": [
    "df_joined[\"MEDINCOME\"] = df_joined.apply(numover250K, axis = 1)"
   ]
  },
  {
   "cell_type": "code",
   "execution_count": 217,
   "id": "258519f7",
   "metadata": {},
   "outputs": [
    {
     "data": {
      "text/html": [
       "<div>\n",
       "<style scoped>\n",
       "    .dataframe tbody tr th:only-of-type {\n",
       "        vertical-align: middle;\n",
       "    }\n",
       "\n",
       "    .dataframe tbody tr th {\n",
       "        vertical-align: top;\n",
       "    }\n",
       "\n",
       "    .dataframe thead th {\n",
       "        text-align: right;\n",
       "    }\n",
       "</style>\n",
       "<table border=\"1\" class=\"dataframe\">\n",
       "  <thead>\n",
       "    <tr style=\"text-align: right;\">\n",
       "      <th></th>\n",
       "      <th>year</th>\n",
       "      <th>county</th>\n",
       "      <th>rate</th>\n",
       "      <th>MEDINCOME</th>\n",
       "      <th>rate1</th>\n",
       "    </tr>\n",
       "    <tr>\n",
       "      <th>zipcode</th>\n",
       "      <th></th>\n",
       "      <th></th>\n",
       "      <th></th>\n",
       "      <th></th>\n",
       "      <th></th>\n",
       "    </tr>\n",
       "  </thead>\n",
       "  <tbody>\n",
       "    <tr>\n",
       "      <th>90001</th>\n",
       "      <td>2019</td>\n",
       "      <td>Los Angeles:</td>\n",
       "      <td>2.084256</td>\n",
       "      <td>50344</td>\n",
       "      <td>2.084256</td>\n",
       "    </tr>\n",
       "    <tr>\n",
       "      <th>90002</th>\n",
       "      <td>2019</td>\n",
       "      <td>Los Angeles:</td>\n",
       "      <td>1.456244</td>\n",
       "      <td>45417</td>\n",
       "      <td>1.456244</td>\n",
       "    </tr>\n",
       "    <tr>\n",
       "      <th>90003</th>\n",
       "      <td>2019</td>\n",
       "      <td>Los Angeles:</td>\n",
       "      <td>13.269925</td>\n",
       "      <td>44595</td>\n",
       "      <td>13.269925</td>\n",
       "    </tr>\n",
       "    <tr>\n",
       "      <th>90004</th>\n",
       "      <td>2019</td>\n",
       "      <td>Los Angeles:</td>\n",
       "      <td>5.362783</td>\n",
       "      <td>58073</td>\n",
       "      <td>5.362783</td>\n",
       "    </tr>\n",
       "    <tr>\n",
       "      <th>90005</th>\n",
       "      <td>2019</td>\n",
       "      <td>Los Angeles:</td>\n",
       "      <td>16.285088</td>\n",
       "      <td>49552</td>\n",
       "      <td>16.285088</td>\n",
       "    </tr>\n",
       "    <tr>\n",
       "      <th>...</th>\n",
       "      <td>...</td>\n",
       "      <td>...</td>\n",
       "      <td>...</td>\n",
       "      <td>...</td>\n",
       "      <td>...</td>\n",
       "    </tr>\n",
       "    <tr>\n",
       "      <th>96145</th>\n",
       "      <td>2019</td>\n",
       "      <td>Placer:</td>\n",
       "      <td>0.000000</td>\n",
       "      <td>110101</td>\n",
       "      <td>0.000000</td>\n",
       "    </tr>\n",
       "    <tr>\n",
       "      <th>96146</th>\n",
       "      <td>2019</td>\n",
       "      <td>Placer:</td>\n",
       "      <td>0.000000</td>\n",
       "      <td>148438</td>\n",
       "      <td>0.000000</td>\n",
       "    </tr>\n",
       "    <tr>\n",
       "      <th>96148</th>\n",
       "      <td>2019</td>\n",
       "      <td>Placer:</td>\n",
       "      <td>0.000000</td>\n",
       "      <td>105729</td>\n",
       "      <td>0.000000</td>\n",
       "    </tr>\n",
       "    <tr>\n",
       "      <th>96150</th>\n",
       "      <td>2019</td>\n",
       "      <td>El Dorado:</td>\n",
       "      <td>5.066595</td>\n",
       "      <td>82407</td>\n",
       "      <td>5.066595</td>\n",
       "    </tr>\n",
       "    <tr>\n",
       "      <th>96161</th>\n",
       "      <td>2019</td>\n",
       "      <td>Nevada:</td>\n",
       "      <td>0.000000</td>\n",
       "      <td>115436</td>\n",
       "      <td>0.000000</td>\n",
       "    </tr>\n",
       "  </tbody>\n",
       "</table>\n",
       "<p>1629 rows × 5 columns</p>\n",
       "</div>"
      ],
      "text/plain": [
       "         year        county       rate MEDINCOME      rate1\n",
       "zipcode                                                    \n",
       "90001    2019  Los Angeles:   2.084256     50344   2.084256\n",
       "90002    2019  Los Angeles:   1.456244     45417   1.456244\n",
       "90003    2019  Los Angeles:  13.269925     44595  13.269925\n",
       "90004    2019  Los Angeles:   5.362783     58073   5.362783\n",
       "90005    2019  Los Angeles:  16.285088     49552  16.285088\n",
       "...       ...           ...        ...       ...        ...\n",
       "96145    2019       Placer:   0.000000    110101   0.000000\n",
       "96146    2019       Placer:   0.000000    148438   0.000000\n",
       "96148    2019       Placer:   0.000000    105729   0.000000\n",
       "96150    2019    El Dorado:   5.066595     82407   5.066595\n",
       "96161    2019       Nevada:   0.000000    115436   0.000000\n",
       "\n",
       "[1629 rows x 5 columns]"
      ]
     },
     "execution_count": 217,
     "metadata": {},
     "output_type": "execute_result"
    }
   ],
   "source": [
    "df_joined"
   ]
  },
  {
   "cell_type": "code",
   "execution_count": 218,
   "id": "590d02ab",
   "metadata": {},
   "outputs": [],
   "source": [
    "def hyphen(row):\n",
    "    if row[\"MEDINCOME\"] == \"-\":\n",
    "        return False\n",
    "    else:\n",
    "        return True"
   ]
  },
  {
   "cell_type": "code",
   "execution_count": 219,
   "id": "158d23a2",
   "metadata": {},
   "outputs": [],
   "source": [
    "df_joined2=df_joined[df_joined.apply(hyphen,axis=1)]"
   ]
  },
  {
   "cell_type": "code",
   "execution_count": 220,
   "id": "084573f0",
   "metadata": {},
   "outputs": [
    {
     "data": {
      "text/html": [
       "<div>\n",
       "<style scoped>\n",
       "    .dataframe tbody tr th:only-of-type {\n",
       "        vertical-align: middle;\n",
       "    }\n",
       "\n",
       "    .dataframe tbody tr th {\n",
       "        vertical-align: top;\n",
       "    }\n",
       "\n",
       "    .dataframe thead th {\n",
       "        text-align: right;\n",
       "    }\n",
       "</style>\n",
       "<table border=\"1\" class=\"dataframe\">\n",
       "  <thead>\n",
       "    <tr style=\"text-align: right;\">\n",
       "      <th></th>\n",
       "      <th>year</th>\n",
       "      <th>county</th>\n",
       "      <th>rate</th>\n",
       "      <th>MEDINCOME</th>\n",
       "      <th>rate1</th>\n",
       "    </tr>\n",
       "    <tr>\n",
       "      <th>zipcode</th>\n",
       "      <th></th>\n",
       "      <th></th>\n",
       "      <th></th>\n",
       "      <th></th>\n",
       "      <th></th>\n",
       "    </tr>\n",
       "  </thead>\n",
       "  <tbody>\n",
       "    <tr>\n",
       "      <th>90001</th>\n",
       "      <td>2019</td>\n",
       "      <td>Los Angeles:</td>\n",
       "      <td>2.084256</td>\n",
       "      <td>50344</td>\n",
       "      <td>2.084256</td>\n",
       "    </tr>\n",
       "    <tr>\n",
       "      <th>90002</th>\n",
       "      <td>2019</td>\n",
       "      <td>Los Angeles:</td>\n",
       "      <td>1.456244</td>\n",
       "      <td>45417</td>\n",
       "      <td>1.456244</td>\n",
       "    </tr>\n",
       "    <tr>\n",
       "      <th>90003</th>\n",
       "      <td>2019</td>\n",
       "      <td>Los Angeles:</td>\n",
       "      <td>13.269925</td>\n",
       "      <td>44595</td>\n",
       "      <td>13.269925</td>\n",
       "    </tr>\n",
       "    <tr>\n",
       "      <th>90004</th>\n",
       "      <td>2019</td>\n",
       "      <td>Los Angeles:</td>\n",
       "      <td>5.362783</td>\n",
       "      <td>58073</td>\n",
       "      <td>5.362783</td>\n",
       "    </tr>\n",
       "    <tr>\n",
       "      <th>90005</th>\n",
       "      <td>2019</td>\n",
       "      <td>Los Angeles:</td>\n",
       "      <td>16.285088</td>\n",
       "      <td>49552</td>\n",
       "      <td>16.285088</td>\n",
       "    </tr>\n",
       "    <tr>\n",
       "      <th>...</th>\n",
       "      <td>...</td>\n",
       "      <td>...</td>\n",
       "      <td>...</td>\n",
       "      <td>...</td>\n",
       "      <td>...</td>\n",
       "    </tr>\n",
       "    <tr>\n",
       "      <th>96145</th>\n",
       "      <td>2019</td>\n",
       "      <td>Placer:</td>\n",
       "      <td>0.000000</td>\n",
       "      <td>110101</td>\n",
       "      <td>0.000000</td>\n",
       "    </tr>\n",
       "    <tr>\n",
       "      <th>96146</th>\n",
       "      <td>2019</td>\n",
       "      <td>Placer:</td>\n",
       "      <td>0.000000</td>\n",
       "      <td>148438</td>\n",
       "      <td>0.000000</td>\n",
       "    </tr>\n",
       "    <tr>\n",
       "      <th>96148</th>\n",
       "      <td>2019</td>\n",
       "      <td>Placer:</td>\n",
       "      <td>0.000000</td>\n",
       "      <td>105729</td>\n",
       "      <td>0.000000</td>\n",
       "    </tr>\n",
       "    <tr>\n",
       "      <th>96150</th>\n",
       "      <td>2019</td>\n",
       "      <td>El Dorado:</td>\n",
       "      <td>5.066595</td>\n",
       "      <td>82407</td>\n",
       "      <td>5.066595</td>\n",
       "    </tr>\n",
       "    <tr>\n",
       "      <th>96161</th>\n",
       "      <td>2019</td>\n",
       "      <td>Nevada:</td>\n",
       "      <td>0.000000</td>\n",
       "      <td>115436</td>\n",
       "      <td>0.000000</td>\n",
       "    </tr>\n",
       "  </tbody>\n",
       "</table>\n",
       "<p>1502 rows × 5 columns</p>\n",
       "</div>"
      ],
      "text/plain": [
       "         year        county       rate MEDINCOME      rate1\n",
       "zipcode                                                    \n",
       "90001    2019  Los Angeles:   2.084256     50344   2.084256\n",
       "90002    2019  Los Angeles:   1.456244     45417   1.456244\n",
       "90003    2019  Los Angeles:  13.269925     44595  13.269925\n",
       "90004    2019  Los Angeles:   5.362783     58073   5.362783\n",
       "90005    2019  Los Angeles:  16.285088     49552  16.285088\n",
       "...       ...           ...        ...       ...        ...\n",
       "96145    2019       Placer:   0.000000    110101   0.000000\n",
       "96146    2019       Placer:   0.000000    148438   0.000000\n",
       "96148    2019       Placer:   0.000000    105729   0.000000\n",
       "96150    2019    El Dorado:   5.066595     82407   5.066595\n",
       "96161    2019       Nevada:   0.000000    115436   0.000000\n",
       "\n",
       "[1502 rows x 5 columns]"
      ]
     },
     "execution_count": 220,
     "metadata": {},
     "output_type": "execute_result"
    }
   ],
   "source": [
    "df_joined2"
   ]
  },
  {
   "cell_type": "code",
   "execution_count": 221,
   "id": "e7587b1d",
   "metadata": {},
   "outputs": [],
   "source": [
    "def inctofloat(row):\n",
    "    return float(row[\"MEDINCOME\"])"
   ]
  },
  {
   "cell_type": "code",
   "execution_count": 222,
   "id": "0ce18c0b",
   "metadata": {},
   "outputs": [
    {
     "name": "stderr",
     "output_type": "stream",
     "text": [
      "/var/folders/h4/r6tpj_q56gb11bpc5pv3wfyr0000gn/T/ipykernel_18590/3449419857.py:1: SettingWithCopyWarning: \n",
      "A value is trying to be set on a copy of a slice from a DataFrame.\n",
      "Try using .loc[row_indexer,col_indexer] = value instead\n",
      "\n",
      "See the caveats in the documentation: https://pandas.pydata.org/pandas-docs/stable/user_guide/indexing.html#returning-a-view-versus-a-copy\n",
      "  df_joined2['medianincome'] = df_joined2.apply(inctofloat, axis=1)\n"
     ]
    }
   ],
   "source": [
    "df_joined2['medianincome'] = df_joined2.apply(inctofloat, axis=1)"
   ]
  },
  {
   "cell_type": "code",
   "execution_count": 223,
   "id": "711b93b5",
   "metadata": {},
   "outputs": [],
   "source": [
    "def rateoutlier(row):\n",
    "    if row['rate1'] >= 54.10804:\n",
    "        return False\n",
    "    else:\n",
    "        return True "
   ]
  },
  {
   "cell_type": "code",
   "execution_count": 224,
   "id": "3789d23f",
   "metadata": {},
   "outputs": [],
   "source": [
    "df_joinednooutlier = df_joined2[df_joined2.apply(rateoutlier, axis = 1)]"
   ]
  },
  {
   "cell_type": "code",
   "execution_count": 225,
   "id": "255990b0",
   "metadata": {},
   "outputs": [
    {
     "data": {
      "text/html": [
       "<div>\n",
       "<style scoped>\n",
       "    .dataframe tbody tr th:only-of-type {\n",
       "        vertical-align: middle;\n",
       "    }\n",
       "\n",
       "    .dataframe tbody tr th {\n",
       "        vertical-align: top;\n",
       "    }\n",
       "\n",
       "    .dataframe thead th {\n",
       "        text-align: right;\n",
       "    }\n",
       "</style>\n",
       "<table border=\"1\" class=\"dataframe\">\n",
       "  <thead>\n",
       "    <tr style=\"text-align: right;\">\n",
       "      <th></th>\n",
       "      <th>year</th>\n",
       "      <th>county</th>\n",
       "      <th>rate</th>\n",
       "      <th>MEDINCOME</th>\n",
       "      <th>rate1</th>\n",
       "      <th>medianincome</th>\n",
       "    </tr>\n",
       "    <tr>\n",
       "      <th>zipcode</th>\n",
       "      <th></th>\n",
       "      <th></th>\n",
       "      <th></th>\n",
       "      <th></th>\n",
       "      <th></th>\n",
       "      <th></th>\n",
       "    </tr>\n",
       "  </thead>\n",
       "  <tbody>\n",
       "    <tr>\n",
       "      <th>90001</th>\n",
       "      <td>2019</td>\n",
       "      <td>Los Angeles:</td>\n",
       "      <td>2.084256</td>\n",
       "      <td>50344</td>\n",
       "      <td>2.084256</td>\n",
       "      <td>50344.0</td>\n",
       "    </tr>\n",
       "    <tr>\n",
       "      <th>90002</th>\n",
       "      <td>2019</td>\n",
       "      <td>Los Angeles:</td>\n",
       "      <td>1.456244</td>\n",
       "      <td>45417</td>\n",
       "      <td>1.456244</td>\n",
       "      <td>45417.0</td>\n",
       "    </tr>\n",
       "    <tr>\n",
       "      <th>90003</th>\n",
       "      <td>2019</td>\n",
       "      <td>Los Angeles:</td>\n",
       "      <td>13.269925</td>\n",
       "      <td>44595</td>\n",
       "      <td>13.269925</td>\n",
       "      <td>44595.0</td>\n",
       "    </tr>\n",
       "    <tr>\n",
       "      <th>90004</th>\n",
       "      <td>2019</td>\n",
       "      <td>Los Angeles:</td>\n",
       "      <td>5.362783</td>\n",
       "      <td>58073</td>\n",
       "      <td>5.362783</td>\n",
       "      <td>58073.0</td>\n",
       "    </tr>\n",
       "    <tr>\n",
       "      <th>90005</th>\n",
       "      <td>2019</td>\n",
       "      <td>Los Angeles:</td>\n",
       "      <td>16.285088</td>\n",
       "      <td>49552</td>\n",
       "      <td>16.285088</td>\n",
       "      <td>49552.0</td>\n",
       "    </tr>\n",
       "    <tr>\n",
       "      <th>...</th>\n",
       "      <td>...</td>\n",
       "      <td>...</td>\n",
       "      <td>...</td>\n",
       "      <td>...</td>\n",
       "      <td>...</td>\n",
       "      <td>...</td>\n",
       "    </tr>\n",
       "    <tr>\n",
       "      <th>96145</th>\n",
       "      <td>2019</td>\n",
       "      <td>Placer:</td>\n",
       "      <td>0.000000</td>\n",
       "      <td>110101</td>\n",
       "      <td>0.000000</td>\n",
       "      <td>110101.0</td>\n",
       "    </tr>\n",
       "    <tr>\n",
       "      <th>96146</th>\n",
       "      <td>2019</td>\n",
       "      <td>Placer:</td>\n",
       "      <td>0.000000</td>\n",
       "      <td>148438</td>\n",
       "      <td>0.000000</td>\n",
       "      <td>148438.0</td>\n",
       "    </tr>\n",
       "    <tr>\n",
       "      <th>96148</th>\n",
       "      <td>2019</td>\n",
       "      <td>Placer:</td>\n",
       "      <td>0.000000</td>\n",
       "      <td>105729</td>\n",
       "      <td>0.000000</td>\n",
       "      <td>105729.0</td>\n",
       "    </tr>\n",
       "    <tr>\n",
       "      <th>96150</th>\n",
       "      <td>2019</td>\n",
       "      <td>El Dorado:</td>\n",
       "      <td>5.066595</td>\n",
       "      <td>82407</td>\n",
       "      <td>5.066595</td>\n",
       "      <td>82407.0</td>\n",
       "    </tr>\n",
       "    <tr>\n",
       "      <th>96161</th>\n",
       "      <td>2019</td>\n",
       "      <td>Nevada:</td>\n",
       "      <td>0.000000</td>\n",
       "      <td>115436</td>\n",
       "      <td>0.000000</td>\n",
       "      <td>115436.0</td>\n",
       "    </tr>\n",
       "  </tbody>\n",
       "</table>\n",
       "<p>1479 rows × 6 columns</p>\n",
       "</div>"
      ],
      "text/plain": [
       "         year        county       rate MEDINCOME      rate1  medianincome\n",
       "zipcode                                                                  \n",
       "90001    2019  Los Angeles:   2.084256     50344   2.084256       50344.0\n",
       "90002    2019  Los Angeles:   1.456244     45417   1.456244       45417.0\n",
       "90003    2019  Los Angeles:  13.269925     44595  13.269925       44595.0\n",
       "90004    2019  Los Angeles:   5.362783     58073   5.362783       58073.0\n",
       "90005    2019  Los Angeles:  16.285088     49552  16.285088       49552.0\n",
       "...       ...           ...        ...       ...        ...           ...\n",
       "96145    2019       Placer:   0.000000    110101   0.000000      110101.0\n",
       "96146    2019       Placer:   0.000000    148438   0.000000      148438.0\n",
       "96148    2019       Placer:   0.000000    105729   0.000000      105729.0\n",
       "96150    2019    El Dorado:   5.066595     82407   5.066595       82407.0\n",
       "96161    2019       Nevada:   0.000000    115436   0.000000      115436.0\n",
       "\n",
       "[1479 rows x 6 columns]"
      ]
     },
     "execution_count": 225,
     "metadata": {},
     "output_type": "execute_result"
    }
   ],
   "source": [
    "df_joinednooutlier"
   ]
  },
  {
   "cell_type": "code",
   "execution_count": 226,
   "id": "10de305e",
   "metadata": {},
   "outputs": [],
   "source": [
    "def ratelier(row):\n",
    "    if row['rate1'] >= 54.10804:\n",
    "        return True\n",
    "    else:\n",
    "        return False"
   ]
  },
  {
   "cell_type": "code",
   "execution_count": 227,
   "id": "e37947e3",
   "metadata": {},
   "outputs": [],
   "source": [
    "df_joinedoutlier = df_joined2[df_joined2.apply(ratelier, axis = 1)]"
   ]
  },
  {
   "cell_type": "code",
   "execution_count": 228,
   "id": "5f0e8b67",
   "metadata": {},
   "outputs": [
    {
     "data": {
      "text/html": [
       "<div>\n",
       "<style scoped>\n",
       "    .dataframe tbody tr th:only-of-type {\n",
       "        vertical-align: middle;\n",
       "    }\n",
       "\n",
       "    .dataframe tbody tr th {\n",
       "        vertical-align: top;\n",
       "    }\n",
       "\n",
       "    .dataframe thead th {\n",
       "        text-align: right;\n",
       "    }\n",
       "</style>\n",
       "<table border=\"1\" class=\"dataframe\">\n",
       "  <thead>\n",
       "    <tr style=\"text-align: right;\">\n",
       "      <th></th>\n",
       "      <th>year</th>\n",
       "      <th>county</th>\n",
       "      <th>rate</th>\n",
       "      <th>MEDINCOME</th>\n",
       "      <th>rate1</th>\n",
       "      <th>medianincome</th>\n",
       "    </tr>\n",
       "    <tr>\n",
       "      <th>zipcode</th>\n",
       "      <th></th>\n",
       "      <th></th>\n",
       "      <th></th>\n",
       "      <th></th>\n",
       "      <th></th>\n",
       "      <th></th>\n",
       "    </tr>\n",
       "  </thead>\n",
       "  <tbody>\n",
       "    <tr>\n",
       "      <th>90014</th>\n",
       "      <td>2019</td>\n",
       "      <td>Los Angeles:</td>\n",
       "      <td>76.120194</td>\n",
       "      <td>98056</td>\n",
       "      <td>76.120194</td>\n",
       "      <td>98056.0</td>\n",
       "    </tr>\n",
       "    <tr>\n",
       "      <th>90021</th>\n",
       "      <td>2019</td>\n",
       "      <td>Los Angeles:</td>\n",
       "      <td>175.148844</td>\n",
       "      <td>56300</td>\n",
       "      <td>175.148844</td>\n",
       "      <td>56300.0</td>\n",
       "    </tr>\n",
       "    <tr>\n",
       "      <th>90742</th>\n",
       "      <td>2019</td>\n",
       "      <td>Orange:</td>\n",
       "      <td>72.413199</td>\n",
       "      <td>100156</td>\n",
       "      <td>72.413199</td>\n",
       "      <td>100156.0</td>\n",
       "    </tr>\n",
       "    <tr>\n",
       "      <th>92358</th>\n",
       "      <td>2019</td>\n",
       "      <td>San Bernardino:</td>\n",
       "      <td>112.877446</td>\n",
       "      <td>67014</td>\n",
       "      <td>112.877446</td>\n",
       "      <td>67014.0</td>\n",
       "    </tr>\n",
       "    <tr>\n",
       "      <th>93240</th>\n",
       "      <td>2019</td>\n",
       "      <td>Kern:</td>\n",
       "      <td>94.822971</td>\n",
       "      <td>39260</td>\n",
       "      <td>94.822971</td>\n",
       "      <td>39260.0</td>\n",
       "    </tr>\n",
       "    <tr>\n",
       "      <th>93516</th>\n",
       "      <td>2019</td>\n",
       "      <td>Kern:</td>\n",
       "      <td>55.923377</td>\n",
       "      <td>61250</td>\n",
       "      <td>55.923377</td>\n",
       "      <td>61250.0</td>\n",
       "    </tr>\n",
       "    <tr>\n",
       "      <th>93532</th>\n",
       "      <td>2019</td>\n",
       "      <td>Los Angeles:</td>\n",
       "      <td>61.149602</td>\n",
       "      <td>85508</td>\n",
       "      <td>61.149602</td>\n",
       "      <td>85508.0</td>\n",
       "    </tr>\n",
       "    <tr>\n",
       "      <th>93553</th>\n",
       "      <td>2019</td>\n",
       "      <td>Los Angeles:</td>\n",
       "      <td>93.027314</td>\n",
       "      <td>67647</td>\n",
       "      <td>93.027314</td>\n",
       "      <td>67647.0</td>\n",
       "    </tr>\n",
       "    <tr>\n",
       "      <th>94102</th>\n",
       "      <td>2019</td>\n",
       "      <td>San Francisco:</td>\n",
       "      <td>152.898837</td>\n",
       "      <td>76662</td>\n",
       "      <td>152.898837</td>\n",
       "      <td>76662.0</td>\n",
       "    </tr>\n",
       "    <tr>\n",
       "      <th>94103</th>\n",
       "      <td>2019</td>\n",
       "      <td>San Francisco:</td>\n",
       "      <td>153.129849</td>\n",
       "      <td>107222</td>\n",
       "      <td>153.129849</td>\n",
       "      <td>107222.0</td>\n",
       "    </tr>\n",
       "    <tr>\n",
       "      <th>94130</th>\n",
       "      <td>2019</td>\n",
       "      <td>San Francisco:</td>\n",
       "      <td>84.513656</td>\n",
       "      <td>35815</td>\n",
       "      <td>84.513656</td>\n",
       "      <td>35815.0</td>\n",
       "    </tr>\n",
       "    <tr>\n",
       "      <th>95311</th>\n",
       "      <td>2019</td>\n",
       "      <td>Mariposa:</td>\n",
       "      <td>72.496951</td>\n",
       "      <td>58182</td>\n",
       "      <td>72.496951</td>\n",
       "      <td>58182.0</td>\n",
       "    </tr>\n",
       "    <tr>\n",
       "      <th>95313</th>\n",
       "      <td>2019</td>\n",
       "      <td>Stanislaus:</td>\n",
       "      <td>114.587710</td>\n",
       "      <td>68971</td>\n",
       "      <td>114.587710</td>\n",
       "      <td>68971.0</td>\n",
       "    </tr>\n",
       "    <tr>\n",
       "      <th>95323</th>\n",
       "      <td>2019</td>\n",
       "      <td>Stanislaus:</td>\n",
       "      <td>58.109357</td>\n",
       "      <td>77054</td>\n",
       "      <td>58.109357</td>\n",
       "      <td>77054.0</td>\n",
       "    </tr>\n",
       "    <tr>\n",
       "      <th>95428</th>\n",
       "      <td>2019</td>\n",
       "      <td>Mendocino:</td>\n",
       "      <td>66.687660</td>\n",
       "      <td>46587</td>\n",
       "      <td>66.687660</td>\n",
       "      <td>46587.0</td>\n",
       "    </tr>\n",
       "    <tr>\n",
       "      <th>95428</th>\n",
       "      <td>2019</td>\n",
       "      <td>Tehama:</td>\n",
       "      <td>66.687660</td>\n",
       "      <td>46587</td>\n",
       "      <td>66.687660</td>\n",
       "      <td>46587.0</td>\n",
       "    </tr>\n",
       "    <tr>\n",
       "      <th>95445</th>\n",
       "      <td>2019</td>\n",
       "      <td>Mendocino:</td>\n",
       "      <td>88.943505</td>\n",
       "      <td>71250</td>\n",
       "      <td>88.943505</td>\n",
       "      <td>71250.0</td>\n",
       "    </tr>\n",
       "    <tr>\n",
       "      <th>95457</th>\n",
       "      <td>2019</td>\n",
       "      <td>Lake:</td>\n",
       "      <td>97.815999</td>\n",
       "      <td>78373</td>\n",
       "      <td>97.815999</td>\n",
       "      <td>78373.0</td>\n",
       "    </tr>\n",
       "    <tr>\n",
       "      <th>95464</th>\n",
       "      <td>2019</td>\n",
       "      <td>Lake:</td>\n",
       "      <td>236.668796</td>\n",
       "      <td>53837</td>\n",
       "      <td>236.668796</td>\n",
       "      <td>53837.0</td>\n",
       "    </tr>\n",
       "    <tr>\n",
       "      <th>95469</th>\n",
       "      <td>2019</td>\n",
       "      <td>Mendocino:</td>\n",
       "      <td>59.858446</td>\n",
       "      <td>58583</td>\n",
       "      <td>59.858446</td>\n",
       "      <td>58583.0</td>\n",
       "    </tr>\n",
       "    <tr>\n",
       "      <th>95977</th>\n",
       "      <td>2019</td>\n",
       "      <td>Yuba:</td>\n",
       "      <td>98.993215</td>\n",
       "      <td>74375</td>\n",
       "      <td>98.993215</td>\n",
       "      <td>74375.0</td>\n",
       "    </tr>\n",
       "    <tr>\n",
       "      <th>96024</th>\n",
       "      <td>2019</td>\n",
       "      <td>Trinity:</td>\n",
       "      <td>152.830679</td>\n",
       "      <td>56875</td>\n",
       "      <td>152.830679</td>\n",
       "      <td>56875.0</td>\n",
       "    </tr>\n",
       "    <tr>\n",
       "      <th>96044</th>\n",
       "      <td>2019</td>\n",
       "      <td>Siskiyou:</td>\n",
       "      <td>175.878811</td>\n",
       "      <td>58462</td>\n",
       "      <td>175.878811</td>\n",
       "      <td>58462.0</td>\n",
       "    </tr>\n",
       "  </tbody>\n",
       "</table>\n",
       "</div>"
      ],
      "text/plain": [
       "         year           county        rate MEDINCOME       rate1  medianincome\n",
       "zipcode                                                                       \n",
       "90014    2019     Los Angeles:   76.120194     98056   76.120194       98056.0\n",
       "90021    2019     Los Angeles:  175.148844     56300  175.148844       56300.0\n",
       "90742    2019          Orange:   72.413199    100156   72.413199      100156.0\n",
       "92358    2019  San Bernardino:  112.877446     67014  112.877446       67014.0\n",
       "93240    2019            Kern:   94.822971     39260   94.822971       39260.0\n",
       "93516    2019            Kern:   55.923377     61250   55.923377       61250.0\n",
       "93532    2019     Los Angeles:   61.149602     85508   61.149602       85508.0\n",
       "93553    2019     Los Angeles:   93.027314     67647   93.027314       67647.0\n",
       "94102    2019   San Francisco:  152.898837     76662  152.898837       76662.0\n",
       "94103    2019   San Francisco:  153.129849    107222  153.129849      107222.0\n",
       "94130    2019   San Francisco:   84.513656     35815   84.513656       35815.0\n",
       "95311    2019        Mariposa:   72.496951     58182   72.496951       58182.0\n",
       "95313    2019      Stanislaus:  114.587710     68971  114.587710       68971.0\n",
       "95323    2019      Stanislaus:   58.109357     77054   58.109357       77054.0\n",
       "95428    2019       Mendocino:   66.687660     46587   66.687660       46587.0\n",
       "95428    2019          Tehama:   66.687660     46587   66.687660       46587.0\n",
       "95445    2019       Mendocino:   88.943505     71250   88.943505       71250.0\n",
       "95457    2019            Lake:   97.815999     78373   97.815999       78373.0\n",
       "95464    2019            Lake:  236.668796     53837  236.668796       53837.0\n",
       "95469    2019       Mendocino:   59.858446     58583   59.858446       58583.0\n",
       "95977    2019            Yuba:   98.993215     74375   98.993215       74375.0\n",
       "96024    2019         Trinity:  152.830679     56875  152.830679       56875.0\n",
       "96044    2019        Siskiyou:  175.878811     58462  175.878811       58462.0"
      ]
     },
     "execution_count": 228,
     "metadata": {},
     "output_type": "execute_result"
    }
   ],
   "source": [
    "df_joinedoutlier"
   ]
  },
  {
   "cell_type": "code",
   "execution_count": 260,
   "id": "9bc932b6",
   "metadata": {},
   "outputs": [
    {
     "data": {
      "text/plain": [
       "Text(0, 0.5, 'Age-Adjusted Rate of Overdose Per 100000')"
      ]
     },
     "execution_count": 260,
     "metadata": {},
     "output_type": "execute_result"
    },
    {
     "data": {
      "image/png": "[encoded data removed]",
      "text/plain": [
       "<Figure size 432x288 with 1 Axes>"
      ]
     },
     "metadata": {
      "needs_background": "light"
     },
     "output_type": "display_data"
    }
   ],
   "source": [
    "plt.scatter(df_joinednooutlier.medianincome, df_joinednooutlier.rate1)\n",
    "plt.title(\"Distribution of Age Adjusted Rates of Opiod Rate Overdoses in Zip Codes in 2019\")\n",
    "plt.xlabel(\"Median Income of Zipcode\")\n",
    "plt.ylabel(\"Age-Adjusted Rate of Overdose Per 100000\")"
   ]
  },
  {
   "cell_type": "code",
   "execution_count": 230,
   "id": "175839e4",
   "metadata": {},
   "outputs": [],
   "source": [
    "def inclessthan50000(row):\n",
    "    if row['medianincome'] <= 50000:\n",
    "        return True\n",
    "    else:\n",
    "        return False"
   ]
  },
  {
   "cell_type": "code",
   "execution_count": 231,
   "id": "710a6611",
   "metadata": {},
   "outputs": [],
   "source": [
    "df_joinedlessthan50k = df_joinednooutlier[df_joinednooutlier.apply(inclessthan50000, axis = 1)]"
   ]
  },
  {
   "cell_type": "code",
   "execution_count": 232,
   "id": "6da9cd47",
   "metadata": {},
   "outputs": [
    {
     "data": {
      "text/html": [
       "<div>\n",
       "<style scoped>\n",
       "    .dataframe tbody tr th:only-of-type {\n",
       "        vertical-align: middle;\n",
       "    }\n",
       "\n",
       "    .dataframe tbody tr th {\n",
       "        vertical-align: top;\n",
       "    }\n",
       "\n",
       "    .dataframe thead th {\n",
       "        text-align: right;\n",
       "    }\n",
       "</style>\n",
       "<table border=\"1\" class=\"dataframe\">\n",
       "  <thead>\n",
       "    <tr style=\"text-align: right;\">\n",
       "      <th></th>\n",
       "      <th>year</th>\n",
       "      <th>county</th>\n",
       "      <th>rate</th>\n",
       "      <th>MEDINCOME</th>\n",
       "      <th>rate1</th>\n",
       "      <th>medianincome</th>\n",
       "    </tr>\n",
       "    <tr>\n",
       "      <th>zipcode</th>\n",
       "      <th></th>\n",
       "      <th></th>\n",
       "      <th></th>\n",
       "      <th></th>\n",
       "      <th></th>\n",
       "      <th></th>\n",
       "    </tr>\n",
       "  </thead>\n",
       "  <tbody>\n",
       "    <tr>\n",
       "      <th>90002</th>\n",
       "      <td>2019</td>\n",
       "      <td>Los Angeles:</td>\n",
       "      <td>1.456244</td>\n",
       "      <td>45417</td>\n",
       "      <td>1.456244</td>\n",
       "      <td>45417.0</td>\n",
       "    </tr>\n",
       "    <tr>\n",
       "      <th>90003</th>\n",
       "      <td>2019</td>\n",
       "      <td>Los Angeles:</td>\n",
       "      <td>13.269925</td>\n",
       "      <td>44595</td>\n",
       "      <td>13.269925</td>\n",
       "      <td>44595.0</td>\n",
       "    </tr>\n",
       "    <tr>\n",
       "      <th>90005</th>\n",
       "      <td>2019</td>\n",
       "      <td>Los Angeles:</td>\n",
       "      <td>16.285088</td>\n",
       "      <td>49552</td>\n",
       "      <td>16.285088</td>\n",
       "      <td>49552.0</td>\n",
       "    </tr>\n",
       "    <tr>\n",
       "      <th>90006</th>\n",
       "      <td>2019</td>\n",
       "      <td>Los Angeles:</td>\n",
       "      <td>5.149211</td>\n",
       "      <td>37185</td>\n",
       "      <td>5.149211</td>\n",
       "      <td>37185.0</td>\n",
       "    </tr>\n",
       "    <tr>\n",
       "      <th>90007</th>\n",
       "      <td>2019</td>\n",
       "      <td>Los Angeles:</td>\n",
       "      <td>7.678160</td>\n",
       "      <td>41172</td>\n",
       "      <td>7.678160</td>\n",
       "      <td>41172.0</td>\n",
       "    </tr>\n",
       "    <tr>\n",
       "      <th>...</th>\n",
       "      <td>...</td>\n",
       "      <td>...</td>\n",
       "      <td>...</td>\n",
       "      <td>...</td>\n",
       "      <td>...</td>\n",
       "      <td>...</td>\n",
       "    </tr>\n",
       "    <tr>\n",
       "      <th>96093</th>\n",
       "      <td>2019</td>\n",
       "      <td>Trinity:</td>\n",
       "      <td>34.893786</td>\n",
       "      <td>46741</td>\n",
       "      <td>34.893786</td>\n",
       "      <td>46741.0</td>\n",
       "    </tr>\n",
       "    <tr>\n",
       "      <th>96113</th>\n",
       "      <td>2019</td>\n",
       "      <td>Lassen:</td>\n",
       "      <td>0.000000</td>\n",
       "      <td>49861</td>\n",
       "      <td>0.000000</td>\n",
       "      <td>49861.0</td>\n",
       "    </tr>\n",
       "    <tr>\n",
       "      <th>96132</th>\n",
       "      <td>2019</td>\n",
       "      <td>Lassen:</td>\n",
       "      <td>0.000000</td>\n",
       "      <td>28750</td>\n",
       "      <td>0.000000</td>\n",
       "      <td>28750.0</td>\n",
       "    </tr>\n",
       "    <tr>\n",
       "      <th>96134</th>\n",
       "      <td>2019</td>\n",
       "      <td>Siskiyou:</td>\n",
       "      <td>0.000000</td>\n",
       "      <td>44688</td>\n",
       "      <td>0.000000</td>\n",
       "      <td>44688.0</td>\n",
       "    </tr>\n",
       "    <tr>\n",
       "      <th>96143</th>\n",
       "      <td>2019</td>\n",
       "      <td>Placer:</td>\n",
       "      <td>0.000000</td>\n",
       "      <td>47344</td>\n",
       "      <td>0.000000</td>\n",
       "      <td>47344.0</td>\n",
       "    </tr>\n",
       "  </tbody>\n",
       "</table>\n",
       "<p>143 rows × 6 columns</p>\n",
       "</div>"
      ],
      "text/plain": [
       "         year        county       rate MEDINCOME      rate1  medianincome\n",
       "zipcode                                                                  \n",
       "90002    2019  Los Angeles:   1.456244     45417   1.456244       45417.0\n",
       "90003    2019  Los Angeles:  13.269925     44595  13.269925       44595.0\n",
       "90005    2019  Los Angeles:  16.285088     49552  16.285088       49552.0\n",
       "90006    2019  Los Angeles:   5.149211     37185   5.149211       37185.0\n",
       "90007    2019  Los Angeles:   7.678160     41172   7.678160       41172.0\n",
       "...       ...           ...        ...       ...        ...           ...\n",
       "96093    2019      Trinity:  34.893786     46741  34.893786       46741.0\n",
       "96113    2019       Lassen:   0.000000     49861   0.000000       49861.0\n",
       "96132    2019       Lassen:   0.000000     28750   0.000000       28750.0\n",
       "96134    2019     Siskiyou:   0.000000     44688   0.000000       44688.0\n",
       "96143    2019       Placer:   0.000000     47344   0.000000       47344.0\n",
       "\n",
       "[143 rows x 6 columns]"
      ]
     },
     "execution_count": 232,
     "metadata": {},
     "output_type": "execute_result"
    }
   ],
   "source": [
    "df_joinedlessthan50k"
   ]
  },
  {
   "cell_type": "code",
   "execution_count": 233,
   "id": "35271457",
   "metadata": {},
   "outputs": [
    {
     "data": {
      "text/plain": [
       "Text(0, 0.5, 'Number of zipcodes')"
      ]
     },
     "execution_count": 233,
     "metadata": {},
     "output_type": "execute_result"
    },
    {
     "data": {
      "image/png": "[encoded data removed]",
      "text/plain": [
       "<Figure size 432x288 with 1 Axes>"
      ]
     },
     "metadata": {
      "needs_background": "light"
     },
     "output_type": "display_data"
    }
   ],
   "source": [
    "df_joinedlessthan50k['rate'].hist(bins=10)\n",
    "plt.title(\"Distribution of Age Adjusted Rates of Opiod Rate Overdoses in Zip Codes with Med. Income Less than 50K\")\n",
    "plt.xlabel(\"Age-Adjusted Rate\")\n",
    "plt.ylabel(\"Number of zipcodes\")"
   ]
  },
  {
   "cell_type": "code",
   "execution_count": 234,
   "id": "40e19339",
   "metadata": {},
   "outputs": [
    {
     "data": {
      "text/html": [
       "<div>\n",
       "<style scoped>\n",
       "    .dataframe tbody tr th:only-of-type {\n",
       "        vertical-align: middle;\n",
       "    }\n",
       "\n",
       "    .dataframe tbody tr th {\n",
       "        vertical-align: top;\n",
       "    }\n",
       "\n",
       "    .dataframe thead th {\n",
       "        text-align: right;\n",
       "    }\n",
       "</style>\n",
       "<table border=\"1\" class=\"dataframe\">\n",
       "  <thead>\n",
       "    <tr style=\"text-align: right;\">\n",
       "      <th></th>\n",
       "      <th>year</th>\n",
       "      <th>rate</th>\n",
       "      <th>rate1</th>\n",
       "      <th>medianincome</th>\n",
       "    </tr>\n",
       "  </thead>\n",
       "  <tbody>\n",
       "    <tr>\n",
       "      <th>count</th>\n",
       "      <td>143.0</td>\n",
       "      <td>143.000000</td>\n",
       "      <td>143.000000</td>\n",
       "      <td>143.000000</td>\n",
       "    </tr>\n",
       "    <tr>\n",
       "      <th>mean</th>\n",
       "      <td>2019.0</td>\n",
       "      <td>5.435537</td>\n",
       "      <td>5.435537</td>\n",
       "      <td>42145.307692</td>\n",
       "    </tr>\n",
       "    <tr>\n",
       "      <th>std</th>\n",
       "      <td>0.0</td>\n",
       "      <td>9.199961</td>\n",
       "      <td>9.199961</td>\n",
       "      <td>5912.982876</td>\n",
       "    </tr>\n",
       "    <tr>\n",
       "      <th>min</th>\n",
       "      <td>2019.0</td>\n",
       "      <td>0.000000</td>\n",
       "      <td>0.000000</td>\n",
       "      <td>23900.000000</td>\n",
       "    </tr>\n",
       "    <tr>\n",
       "      <th>25%</th>\n",
       "      <td>2019.0</td>\n",
       "      <td>0.000000</td>\n",
       "      <td>0.000000</td>\n",
       "      <td>38750.000000</td>\n",
       "    </tr>\n",
       "    <tr>\n",
       "      <th>50%</th>\n",
       "      <td>2019.0</td>\n",
       "      <td>0.000000</td>\n",
       "      <td>0.000000</td>\n",
       "      <td>43691.000000</td>\n",
       "    </tr>\n",
       "    <tr>\n",
       "      <th>75%</th>\n",
       "      <td>2019.0</td>\n",
       "      <td>7.590181</td>\n",
       "      <td>7.590181</td>\n",
       "      <td>46723.500000</td>\n",
       "    </tr>\n",
       "    <tr>\n",
       "      <th>max</th>\n",
       "      <td>2019.0</td>\n",
       "      <td>53.866551</td>\n",
       "      <td>53.866551</td>\n",
       "      <td>50000.000000</td>\n",
       "    </tr>\n",
       "  </tbody>\n",
       "</table>\n",
       "</div>"
      ],
      "text/plain": [
       "         year        rate       rate1  medianincome\n",
       "count   143.0  143.000000  143.000000    143.000000\n",
       "mean   2019.0    5.435537    5.435537  42145.307692\n",
       "std       0.0    9.199961    9.199961   5912.982876\n",
       "min    2019.0    0.000000    0.000000  23900.000000\n",
       "25%    2019.0    0.000000    0.000000  38750.000000\n",
       "50%    2019.0    0.000000    0.000000  43691.000000\n",
       "75%    2019.0    7.590181    7.590181  46723.500000\n",
       "max    2019.0   53.866551   53.866551  50000.000000"
      ]
     },
     "execution_count": 234,
     "metadata": {},
     "output_type": "execute_result"
    }
   ],
   "source": [
    "df_joinedlessthan50k.describe()"
   ]
  },
  {
   "cell_type": "code",
   "execution_count": 235,
   "id": "f00bef83",
   "metadata": {},
   "outputs": [
    {
     "data": {
      "text/html": [
       "<div>\n",
       "<style scoped>\n",
       "    .dataframe tbody tr th:only-of-type {\n",
       "        vertical-align: middle;\n",
       "    }\n",
       "\n",
       "    .dataframe tbody tr th {\n",
       "        vertical-align: top;\n",
       "    }\n",
       "\n",
       "    .dataframe thead th {\n",
       "        text-align: right;\n",
       "    }\n",
       "</style>\n",
       "<table border=\"1\" class=\"dataframe\">\n",
       "  <thead>\n",
       "    <tr style=\"text-align: right;\">\n",
       "      <th></th>\n",
       "      <th>year</th>\n",
       "      <th>rate</th>\n",
       "      <th>rate1</th>\n",
       "      <th>medianincome</th>\n",
       "    </tr>\n",
       "  </thead>\n",
       "  <tbody>\n",
       "    <tr>\n",
       "      <th>count</th>\n",
       "      <td>719.0</td>\n",
       "      <td>719.000000</td>\n",
       "      <td>719.000000</td>\n",
       "      <td>719.000000</td>\n",
       "    </tr>\n",
       "    <tr>\n",
       "      <th>mean</th>\n",
       "      <td>2021.0</td>\n",
       "      <td>13.858600</td>\n",
       "      <td>13.858600</td>\n",
       "      <td>73736.454798</td>\n",
       "    </tr>\n",
       "    <tr>\n",
       "      <th>std</th>\n",
       "      <td>0.0</td>\n",
       "      <td>12.558539</td>\n",
       "      <td>12.558539</td>\n",
       "      <td>13920.443667</td>\n",
       "    </tr>\n",
       "    <tr>\n",
       "      <th>min</th>\n",
       "      <td>2021.0</td>\n",
       "      <td>0.000000</td>\n",
       "      <td>0.000000</td>\n",
       "      <td>50179.000000</td>\n",
       "    </tr>\n",
       "    <tr>\n",
       "      <th>25%</th>\n",
       "      <td>2021.0</td>\n",
       "      <td>0.000000</td>\n",
       "      <td>0.000000</td>\n",
       "      <td>62866.000000</td>\n",
       "    </tr>\n",
       "    <tr>\n",
       "      <th>50%</th>\n",
       "      <td>2021.0</td>\n",
       "      <td>12.425539</td>\n",
       "      <td>12.425539</td>\n",
       "      <td>73154.000000</td>\n",
       "    </tr>\n",
       "    <tr>\n",
       "      <th>75%</th>\n",
       "      <td>2021.0</td>\n",
       "      <td>21.254408</td>\n",
       "      <td>21.254408</td>\n",
       "      <td>84836.500000</td>\n",
       "    </tr>\n",
       "    <tr>\n",
       "      <th>max</th>\n",
       "      <td>2021.0</td>\n",
       "      <td>53.943732</td>\n",
       "      <td>53.943732</td>\n",
       "      <td>100000.000000</td>\n",
       "    </tr>\n",
       "  </tbody>\n",
       "</table>\n",
       "</div>"
      ],
      "text/plain": [
       "         year        rate       rate1   medianincome\n",
       "count   719.0  719.000000  719.000000     719.000000\n",
       "mean   2021.0   13.858600   13.858600   73736.454798\n",
       "std       0.0   12.558539   12.558539   13920.443667\n",
       "min    2021.0    0.000000    0.000000   50179.000000\n",
       "25%    2021.0    0.000000    0.000000   62866.000000\n",
       "50%    2021.0   12.425539   12.425539   73154.000000\n",
       "75%    2021.0   21.254408   21.254408   84836.500000\n",
       "max    2021.0   53.943732   53.943732  100000.000000"
      ]
     },
     "execution_count": 235,
     "metadata": {},
     "output_type": "execute_result"
    }
   ],
   "source": [
    "df_joinedlessthan100k.describe()"
   ]
  },
  {
   "cell_type": "code",
   "execution_count": 236,
   "id": "2b06639c",
   "metadata": {},
   "outputs": [
    {
     "data": {
      "text/html": [
       "<div>\n",
       "<style scoped>\n",
       "    .dataframe tbody tr th:only-of-type {\n",
       "        vertical-align: middle;\n",
       "    }\n",
       "\n",
       "    .dataframe tbody tr th {\n",
       "        vertical-align: top;\n",
       "    }\n",
       "\n",
       "    .dataframe thead th {\n",
       "        text-align: right;\n",
       "    }\n",
       "</style>\n",
       "<table border=\"1\" class=\"dataframe\">\n",
       "  <thead>\n",
       "    <tr style=\"text-align: right;\">\n",
       "      <th></th>\n",
       "      <th>year</th>\n",
       "      <th>rate</th>\n",
       "      <th>rate1</th>\n",
       "      <th>medianincome</th>\n",
       "    </tr>\n",
       "  </thead>\n",
       "  <tbody>\n",
       "    <tr>\n",
       "      <th>count</th>\n",
       "      <td>1502.0</td>\n",
       "      <td>1502.000000</td>\n",
       "      <td>1502.000000</td>\n",
       "      <td>1502.000000</td>\n",
       "    </tr>\n",
       "    <tr>\n",
       "      <th>mean</th>\n",
       "      <td>2019.0</td>\n",
       "      <td>8.280792</td>\n",
       "      <td>8.280792</td>\n",
       "      <td>96772.191079</td>\n",
       "    </tr>\n",
       "    <tr>\n",
       "      <th>std</th>\n",
       "      <td>0.0</td>\n",
       "      <td>16.007816</td>\n",
       "      <td>16.007816</td>\n",
       "      <td>44508.937037</td>\n",
       "    </tr>\n",
       "    <tr>\n",
       "      <th>min</th>\n",
       "      <td>2019.0</td>\n",
       "      <td>0.000000</td>\n",
       "      <td>0.000000</td>\n",
       "      <td>23900.000000</td>\n",
       "    </tr>\n",
       "    <tr>\n",
       "      <th>25%</th>\n",
       "      <td>2019.0</td>\n",
       "      <td>0.000000</td>\n",
       "      <td>0.000000</td>\n",
       "      <td>64058.750000</td>\n",
       "    </tr>\n",
       "    <tr>\n",
       "      <th>50%</th>\n",
       "      <td>2019.0</td>\n",
       "      <td>4.406845</td>\n",
       "      <td>4.406845</td>\n",
       "      <td>86117.500000</td>\n",
       "    </tr>\n",
       "    <tr>\n",
       "      <th>75%</th>\n",
       "      <td>2019.0</td>\n",
       "      <td>10.166966</td>\n",
       "      <td>10.166966</td>\n",
       "      <td>119077.000000</td>\n",
       "    </tr>\n",
       "    <tr>\n",
       "      <th>max</th>\n",
       "      <td>2019.0</td>\n",
       "      <td>236.668796</td>\n",
       "      <td>236.668796</td>\n",
       "      <td>260000.000000</td>\n",
       "    </tr>\n",
       "  </tbody>\n",
       "</table>\n",
       "</div>"
      ],
      "text/plain": [
       "         year         rate        rate1   medianincome\n",
       "count  1502.0  1502.000000  1502.000000    1502.000000\n",
       "mean   2019.0     8.280792     8.280792   96772.191079\n",
       "std       0.0    16.007816    16.007816   44508.937037\n",
       "min    2019.0     0.000000     0.000000   23900.000000\n",
       "25%    2019.0     0.000000     0.000000   64058.750000\n",
       "50%    2019.0     4.406845     4.406845   86117.500000\n",
       "75%    2019.0    10.166966    10.166966  119077.000000\n",
       "max    2019.0   236.668796   236.668796  260000.000000"
      ]
     },
     "execution_count": 236,
     "metadata": {},
     "output_type": "execute_result"
    }
   ],
   "source": [
    "df_joined2.describe()"
   ]
  },
  {
   "cell_type": "code",
   "execution_count": 237,
   "id": "ff3c936a",
   "metadata": {},
   "outputs": [],
   "source": [
    "def inclessthan100000(row):\n",
    "    if row['medianincome'] <= 100000 and row['medianincome'] > 50000:\n",
    "        return True\n",
    "    else:\n",
    "        return False"
   ]
  },
  {
   "cell_type": "code",
   "execution_count": 238,
   "id": "920f90e5",
   "metadata": {},
   "outputs": [],
   "source": [
    "df_joinedlessthan100k = df_joinednooutlier[df_joinednooutlier.apply(inclessthan100000, axis = 1)]"
   ]
  },
  {
   "cell_type": "code",
   "execution_count": 239,
   "id": "f1a429ed",
   "metadata": {},
   "outputs": [
    {
     "data": {
      "text/html": [
       "<div>\n",
       "<style scoped>\n",
       "    .dataframe tbody tr th:only-of-type {\n",
       "        vertical-align: middle;\n",
       "    }\n",
       "\n",
       "    .dataframe tbody tr th {\n",
       "        vertical-align: top;\n",
       "    }\n",
       "\n",
       "    .dataframe thead th {\n",
       "        text-align: right;\n",
       "    }\n",
       "</style>\n",
       "<table border=\"1\" class=\"dataframe\">\n",
       "  <thead>\n",
       "    <tr style=\"text-align: right;\">\n",
       "      <th></th>\n",
       "      <th>year</th>\n",
       "      <th>county</th>\n",
       "      <th>rate</th>\n",
       "      <th>MEDINCOME</th>\n",
       "      <th>rate1</th>\n",
       "      <th>medianincome</th>\n",
       "    </tr>\n",
       "    <tr>\n",
       "      <th>zipcode</th>\n",
       "      <th></th>\n",
       "      <th></th>\n",
       "      <th></th>\n",
       "      <th></th>\n",
       "      <th></th>\n",
       "      <th></th>\n",
       "    </tr>\n",
       "  </thead>\n",
       "  <tbody>\n",
       "    <tr>\n",
       "      <th>90001</th>\n",
       "      <td>2019</td>\n",
       "      <td>Los Angeles:</td>\n",
       "      <td>2.084256</td>\n",
       "      <td>50344</td>\n",
       "      <td>2.084256</td>\n",
       "      <td>50344.0</td>\n",
       "    </tr>\n",
       "    <tr>\n",
       "      <th>90004</th>\n",
       "      <td>2019</td>\n",
       "      <td>Los Angeles:</td>\n",
       "      <td>5.362783</td>\n",
       "      <td>58073</td>\n",
       "      <td>5.362783</td>\n",
       "      <td>58073.0</td>\n",
       "    </tr>\n",
       "    <tr>\n",
       "      <th>90008</th>\n",
       "      <td>2019</td>\n",
       "      <td>Los Angeles:</td>\n",
       "      <td>5.196753</td>\n",
       "      <td>72036</td>\n",
       "      <td>5.196753</td>\n",
       "      <td>72036.0</td>\n",
       "    </tr>\n",
       "    <tr>\n",
       "      <th>90010</th>\n",
       "      <td>2019</td>\n",
       "      <td>Los Angeles:</td>\n",
       "      <td>0.000000</td>\n",
       "      <td>68973</td>\n",
       "      <td>0.000000</td>\n",
       "      <td>68973.0</td>\n",
       "    </tr>\n",
       "    <tr>\n",
       "      <th>90016</th>\n",
       "      <td>2019</td>\n",
       "      <td>Los Angeles:</td>\n",
       "      <td>7.989556</td>\n",
       "      <td>57602</td>\n",
       "      <td>7.989556</td>\n",
       "      <td>57602.0</td>\n",
       "    </tr>\n",
       "    <tr>\n",
       "      <th>...</th>\n",
       "      <td>...</td>\n",
       "      <td>...</td>\n",
       "      <td>...</td>\n",
       "      <td>...</td>\n",
       "      <td>...</td>\n",
       "      <td>...</td>\n",
       "    </tr>\n",
       "    <tr>\n",
       "      <th>96128</th>\n",
       "      <td>2019</td>\n",
       "      <td>Lassen:</td>\n",
       "      <td>0.000000</td>\n",
       "      <td>81071</td>\n",
       "      <td>0.000000</td>\n",
       "      <td>81071.0</td>\n",
       "    </tr>\n",
       "    <tr>\n",
       "      <th>96130</th>\n",
       "      <td>2019</td>\n",
       "      <td>Lassen:</td>\n",
       "      <td>40.364796</td>\n",
       "      <td>66922</td>\n",
       "      <td>40.364796</td>\n",
       "      <td>66922.0</td>\n",
       "    </tr>\n",
       "    <tr>\n",
       "      <th>96137</th>\n",
       "      <td>2019</td>\n",
       "      <td>Plumas:</td>\n",
       "      <td>0.000000</td>\n",
       "      <td>63277</td>\n",
       "      <td>0.000000</td>\n",
       "      <td>63277.0</td>\n",
       "    </tr>\n",
       "    <tr>\n",
       "      <th>96142</th>\n",
       "      <td>2019</td>\n",
       "      <td>Placer:</td>\n",
       "      <td>0.000000</td>\n",
       "      <td>79531</td>\n",
       "      <td>0.000000</td>\n",
       "      <td>79531.0</td>\n",
       "    </tr>\n",
       "    <tr>\n",
       "      <th>96150</th>\n",
       "      <td>2019</td>\n",
       "      <td>El Dorado:</td>\n",
       "      <td>5.066595</td>\n",
       "      <td>82407</td>\n",
       "      <td>5.066595</td>\n",
       "      <td>82407.0</td>\n",
       "    </tr>\n",
       "  </tbody>\n",
       "</table>\n",
       "<p>754 rows × 6 columns</p>\n",
       "</div>"
      ],
      "text/plain": [
       "         year        county       rate MEDINCOME      rate1  medianincome\n",
       "zipcode                                                                  \n",
       "90001    2019  Los Angeles:   2.084256     50344   2.084256       50344.0\n",
       "90004    2019  Los Angeles:   5.362783     58073   5.362783       58073.0\n",
       "90008    2019  Los Angeles:   5.196753     72036   5.196753       72036.0\n",
       "90010    2019  Los Angeles:   0.000000     68973   0.000000       68973.0\n",
       "90016    2019  Los Angeles:   7.989556     57602   7.989556       57602.0\n",
       "...       ...           ...        ...       ...        ...           ...\n",
       "96128    2019       Lassen:   0.000000     81071   0.000000       81071.0\n",
       "96130    2019       Lassen:  40.364796     66922  40.364796       66922.0\n",
       "96137    2019       Plumas:   0.000000     63277   0.000000       63277.0\n",
       "96142    2019       Placer:   0.000000     79531   0.000000       79531.0\n",
       "96150    2019    El Dorado:   5.066595     82407   5.066595       82407.0\n",
       "\n",
       "[754 rows x 6 columns]"
      ]
     },
     "execution_count": 239,
     "metadata": {},
     "output_type": "execute_result"
    }
   ],
   "source": [
    "df_joinedlessthan100k"
   ]
  },
  {
   "cell_type": "code",
   "execution_count": 265,
   "id": "47ddcab7",
   "metadata": {
    "scrolled": true
   },
   "outputs": [
    {
     "data": {
      "text/plain": [
       "Text(0, 0.5, 'Number of zipcodes')"
      ]
     },
     "execution_count": 265,
     "metadata": {},
     "output_type": "execute_result"
    },
    {
     "data": {
      "image/png": "[encoded data removed]",
      "text/plain": [
       "<Figure size 432x288 with 1 Axes>"
      ]
     },
     "metadata": {
      "needs_background": "light"
     },
     "output_type": "display_data"
    }
   ],
   "source": [
    "df_joinedlessthan100k['rate'].hist(bins=10)\n",
    "plt.title(\"Distribution of Age Adjusted Rates of Opiod Rate Overdoses in Zip Codes with Med. Income Less than 100K\")\n",
    "plt.xlabel(\"Age-Adjusted Rate\")\n",
    "plt.ylabel(\"Number of zipcodes\")"
   ]
  },
  {
   "cell_type": "code",
   "execution_count": 241,
   "id": "0c898a3a",
   "metadata": {},
   "outputs": [],
   "source": [
    "def inclessthan150000(row):\n",
    "    if row['medianincome'] <= 150000 and row['medianincome'] > 100000:\n",
    "        return True\n",
    "    else:\n",
    "        return False"
   ]
  },
  {
   "cell_type": "code",
   "execution_count": 242,
   "id": "d904d858",
   "metadata": {},
   "outputs": [],
   "source": [
    "def inclessthan200000(row):\n",
    "    if row['medianincome'] <= 200000 and row['medianincome'] > 150000:\n",
    "        return True\n",
    "    else:\n",
    "        return False"
   ]
  },
  {
   "cell_type": "code",
   "execution_count": 243,
   "id": "61e3e3d2",
   "metadata": {},
   "outputs": [],
   "source": [
    "def inclessthan250000(row):\n",
    "    if row['medianincome'] <= 250000 and row['medianincome'] > 200000:\n",
    "        return True\n",
    "    else:\n",
    "        return False"
   ]
  },
  {
   "cell_type": "code",
   "execution_count": 244,
   "id": "fa820f9d",
   "metadata": {},
   "outputs": [],
   "source": [
    "def incgreaterthan250000(row):\n",
    "    if row['medianincome'] >250000:\n",
    "        return True\n",
    "    else:\n",
    "        return False"
   ]
  },
  {
   "cell_type": "code",
   "execution_count": 245,
   "id": "575bd1bf",
   "metadata": {},
   "outputs": [],
   "source": [
    "df_joinedlessthan150k = df_joinednooutlier[df_joinednooutlier.apply(inclessthan150000, axis = 1)]"
   ]
  },
  {
   "cell_type": "code",
   "execution_count": 246,
   "id": "12d93253",
   "metadata": {},
   "outputs": [],
   "source": [
    "df_joinedlessthan200k = df_joinednooutlier[df_joinednooutlier.apply(inclessthan200000, axis = 1)]"
   ]
  },
  {
   "cell_type": "code",
   "execution_count": 247,
   "id": "475b3bf9",
   "metadata": {},
   "outputs": [],
   "source": [
    "df_joinedlessthan250k = df_joinednooutlier[df_joinednooutlier.apply(inclessthan250000, axis = 1)]"
   ]
  },
  {
   "cell_type": "code",
   "execution_count": 248,
   "id": "4af44993",
   "metadata": {},
   "outputs": [],
   "source": [
    "df_joinedgreaterthan250k = df_joinednooutlier[df_joinednooutlier.apply(incgreaterthan250000, axis = 1)]"
   ]
  },
  {
   "cell_type": "code",
   "execution_count": 264,
   "id": "d1b25a67",
   "metadata": {},
   "outputs": [
    {
     "data": {
      "text/plain": [
       "Text(0, 0.5, 'Number of zipcodes')"
      ]
     },
     "execution_count": 264,
     "metadata": {},
     "output_type": "execute_result"
    },
    {
     "data": {
      "image/png": "[encoded data removed]",
      "text/plain": [
       "<Figure size 432x288 with 1 Axes>"
      ]
     },
     "metadata": {
      "needs_background": "light"
     },
     "output_type": "display_data"
    }
   ],
   "source": [
    "df_joinedlessthan150k['rate'].hist(bins=10)\n",
    "plt.title(\"Distribution of Age Adjusted Rates of Opiod Rate Overdoses in Zip Codes with Med. Income Less than 150K\")\n",
    "plt.xlabel(\"Age-Adjusted Rate\")\n",
    "plt.ylabel(\"Number of zipcodes\")"
   ]
  },
  {
   "cell_type": "code",
   "execution_count": null,
   "id": "2db31340",
   "metadata": {},
   "outputs": [],
   "source": []
  },
  {
   "cell_type": "code",
   "execution_count": 250,
   "id": "f1501797",
   "metadata": {},
   "outputs": [
    {
     "data": {
      "text/html": [
       "<div>\n",
       "<style scoped>\n",
       "    .dataframe tbody tr th:only-of-type {\n",
       "        vertical-align: middle;\n",
       "    }\n",
       "\n",
       "    .dataframe tbody tr th {\n",
       "        vertical-align: top;\n",
       "    }\n",
       "\n",
       "    .dataframe thead th {\n",
       "        text-align: right;\n",
       "    }\n",
       "</style>\n",
       "<table border=\"1\" class=\"dataframe\">\n",
       "  <thead>\n",
       "    <tr style=\"text-align: right;\">\n",
       "      <th></th>\n",
       "      <th>year</th>\n",
       "      <th>rate</th>\n",
       "      <th>rate1</th>\n",
       "      <th>medianincome</th>\n",
       "    </tr>\n",
       "  </thead>\n",
       "  <tbody>\n",
       "    <tr>\n",
       "      <th>count</th>\n",
       "      <td>408.0</td>\n",
       "      <td>408.000000</td>\n",
       "      <td>408.000000</td>\n",
       "      <td>408.000000</td>\n",
       "    </tr>\n",
       "    <tr>\n",
       "      <th>mean</th>\n",
       "      <td>2019.0</td>\n",
       "      <td>7.092886</td>\n",
       "      <td>7.092886</td>\n",
       "      <td>120810.764706</td>\n",
       "    </tr>\n",
       "    <tr>\n",
       "      <th>std</th>\n",
       "      <td>0.0</td>\n",
       "      <td>8.289057</td>\n",
       "      <td>8.289057</td>\n",
       "      <td>13351.729694</td>\n",
       "    </tr>\n",
       "    <tr>\n",
       "      <th>min</th>\n",
       "      <td>2019.0</td>\n",
       "      <td>0.000000</td>\n",
       "      <td>0.000000</td>\n",
       "      <td>100288.000000</td>\n",
       "    </tr>\n",
       "    <tr>\n",
       "      <th>25%</th>\n",
       "      <td>2019.0</td>\n",
       "      <td>0.000000</td>\n",
       "      <td>0.000000</td>\n",
       "      <td>109583.000000</td>\n",
       "    </tr>\n",
       "    <tr>\n",
       "      <th>50%</th>\n",
       "      <td>2019.0</td>\n",
       "      <td>5.046272</td>\n",
       "      <td>5.046272</td>\n",
       "      <td>118571.000000</td>\n",
       "    </tr>\n",
       "    <tr>\n",
       "      <th>75%</th>\n",
       "      <td>2019.0</td>\n",
       "      <td>10.219973</td>\n",
       "      <td>10.219973</td>\n",
       "      <td>131362.000000</td>\n",
       "    </tr>\n",
       "    <tr>\n",
       "      <th>max</th>\n",
       "      <td>2019.0</td>\n",
       "      <td>49.682387</td>\n",
       "      <td>49.682387</td>\n",
       "      <td>150000.000000</td>\n",
       "    </tr>\n",
       "  </tbody>\n",
       "</table>\n",
       "</div>"
      ],
      "text/plain": [
       "         year        rate       rate1   medianincome\n",
       "count   408.0  408.000000  408.000000     408.000000\n",
       "mean   2019.0    7.092886    7.092886  120810.764706\n",
       "std       0.0    8.289057    8.289057   13351.729694\n",
       "min    2019.0    0.000000    0.000000  100288.000000\n",
       "25%    2019.0    0.000000    0.000000  109583.000000\n",
       "50%    2019.0    5.046272    5.046272  118571.000000\n",
       "75%    2019.0   10.219973   10.219973  131362.000000\n",
       "max    2019.0   49.682387   49.682387  150000.000000"
      ]
     },
     "execution_count": 250,
     "metadata": {},
     "output_type": "execute_result"
    }
   ],
   "source": [
    "df_joinedlessthan150k.describe()"
   ]
  },
  {
   "cell_type": "code",
   "execution_count": 263,
   "id": "a85a0548",
   "metadata": {},
   "outputs": [
    {
     "data": {
      "text/plain": [
       "Text(0, 0.5, 'Number of zipcodes')"
      ]
     },
     "execution_count": 263,
     "metadata": {},
     "output_type": "execute_result"
    },
    {
     "data": {
      "image/png": "[encoded data removed]",
      "text/plain": [
       "<Figure size 432x288 with 1 Axes>"
      ]
     },
     "metadata": {
      "needs_background": "light"
     },
     "output_type": "display_data"
    }
   ],
   "source": [
    "df_joinedlessthan200k['rate'].hist(bins=10)\n",
    "plt.title(\"Distribution of Age Adjusted Rates of Opiod Rate Overdoses in Zip Codes with Med. Income Less than 200K\")\n",
    "plt.xlabel(\"Age-Adjusted Rate\")\n",
    "plt.ylabel(\"Number of zipcodes\")"
   ]
  },
  {
   "cell_type": "code",
   "execution_count": 262,
   "id": "79e3228f",
   "metadata": {},
   "outputs": [
    {
     "data": {
      "text/plain": [
       "Text(0, 0.5, 'Number of zipcodes')"
      ]
     },
     "execution_count": 262,
     "metadata": {},
     "output_type": "execute_result"
    },
    {
     "data": {
      "image/png": "[encoded data removed]",
      "text/plain": [
       "<Figure size 432x288 with 1 Axes>"
      ]
     },
     "metadata": {
      "needs_background": "light"
     },
     "output_type": "display_data"
    }
   ],
   "source": [
    "df_joinedlessthan250k['rate'].hist(bins=10)\n",
    "plt.title(\"Distribution of Age Adjusted Rates of Opiod Rate Overdoses in Zip Codes with Med. Income Less than 250K\")\n",
    "plt.xlabel(\"Age-Adjusted Rate\")\n",
    "plt.ylabel(\"Number of zipcodes\")"
   ]
  },
  {
   "cell_type": "code",
   "execution_count": 261,
   "id": "ef7d1a94",
   "metadata": {},
   "outputs": [
    {
     "data": {
      "text/plain": [
       "Text(0, 0.5, 'Number of zipcodes')"
      ]
     },
     "execution_count": 261,
     "metadata": {},
     "output_type": "execute_result"
    },
    {
     "data": {
      "image/png": "[encoded data removed]",
      "text/plain": [
       "<Figure size 432x288 with 1 Axes>"
      ]
     },
     "metadata": {
      "needs_background": "light"
     },
     "output_type": "display_data"
    }
   ],
   "source": [
    "df_joinedgreaterthan250k['rate'].hist(bins=10)\n",
    "plt.title(\"Distribution of Age Adjusted Rates of Opiod Rate Overdoses in Zip Codes with Med. Income Greater than 250K\")\n",
    "plt.xlabel(\"Age-Adjusted Rate\")\n",
    "plt.ylabel(\"Number of zipcodes\")"
   ]
  },
  {
   "cell_type": "code",
   "execution_count": 254,
   "id": "6552f988",
   "metadata": {},
   "outputs": [
    {
     "data": {
      "text/plain": [
       "<matplotlib.collections.PathCollection at 0x12f7f2cb0>"
      ]
     },
     "execution_count": 254,
     "metadata": {},
     "output_type": "execute_result"
    },
    {
     "data": {
      "image/png": "[encoded data removed]",
      "text/plain": [
       "<Figure size 432x288 with 1 Axes>"
      ]
     },
     "metadata": {
      "needs_background": "light"
     },
     "output_type": "display_data"
    }
   ],
   "source": [
    "plt.scatter(df_joinedlessthan50k.medianincome, df_joinedlessthan50k.rate1)"
   ]
  },
  {
   "cell_type": "code",
   "execution_count": 255,
   "id": "85168cf2",
   "metadata": {},
   "outputs": [
    {
     "data": {
      "text/plain": [
       "<matplotlib.collections.PathCollection at 0x12f9b5de0>"
      ]
     },
     "execution_count": 255,
     "metadata": {},
     "output_type": "execute_result"
    },
    {
     "data": {
      "image/png": "[encoded data removed]",
      "text/plain": [
       "<Figure size 432x288 with 1 Axes>"
      ]
     },
     "metadata": {
      "needs_background": "light"
     },
     "output_type": "display_data"
    }
   ],
   "source": [
    "plt.scatter(df_joinedlessthan100k.medianincome, df_joinedlessthan100k.rate1)"
   ]
  },
  {
   "cell_type": "code",
   "execution_count": 256,
   "id": "10d0a930",
   "metadata": {},
   "outputs": [
    {
     "data": {
      "text/plain": [
       "<matplotlib.collections.PathCollection at 0x12faa8d30>"
      ]
     },
     "execution_count": 256,
     "metadata": {},
     "output_type": "execute_result"
    },
    {
     "data": {
      "image/png": "[encoded data removed]",
      "text/plain": [
       "<Figure size 432x288 with 1 Axes>"
      ]
     },
     "metadata": {
      "needs_background": "light"
     },
     "output_type": "display_data"
    }
   ],
   "source": [
    "plt.scatter(df_joinedlessthan150k.medianincome, df_joinedlessthan150k.rate1)"
   ]
  },
  {
   "cell_type": "code",
   "execution_count": 257,
   "id": "22a52b07",
   "metadata": {},
   "outputs": [
    {
     "data": {
      "text/plain": [
       "<matplotlib.collections.PathCollection at 0x12fa57fd0>"
      ]
     },
     "execution_count": 257,
     "metadata": {},
     "output_type": "execute_result"
    },
    {
     "data": {
      "image/png": "[encoded data removed]",
      "text/plain": [
       "<Figure size 432x288 with 1 Axes>"
      ]
     },
     "metadata": {
      "needs_background": "light"
     },
     "output_type": "display_data"
    }
   ],
   "source": [
    "plt.scatter(df_joinedlessthan200k.medianincome, df_joinedlessthan200k.rate1)"
   ]
  },
  {
   "cell_type": "code",
   "execution_count": 258,
   "id": "8b5dfb02",
   "metadata": {},
   "outputs": [
    {
     "data": {
      "text/plain": [
       "<matplotlib.collections.PathCollection at 0x12f887250>"
      ]
     },
     "execution_count": 258,
     "metadata": {},
     "output_type": "execute_result"
    },
    {
     "data": {
      "image/png": "[encoded data removed]",
      "text/plain": [
       "<Figure size 432x288 with 1 Axes>"
      ]
     },
     "metadata": {
      "needs_background": "light"
     },
     "output_type": "display_data"
    }
   ],
   "source": [
    "plt.scatter(df_joinedlessthan250k.medianincome, df_joinedlessthan250k.rate1)"
   ]
  },
  {
   "cell_type": "code",
   "execution_count": 266,
   "id": "26f5714e",
   "metadata": {},
   "outputs": [
    {
     "data": {
      "text/html": [
       "<div>\n",
       "<style scoped>\n",
       "    .dataframe tbody tr th:only-of-type {\n",
       "        vertical-align: middle;\n",
       "    }\n",
       "\n",
       "    .dataframe tbody tr th {\n",
       "        vertical-align: top;\n",
       "    }\n",
       "\n",
       "    .dataframe thead th {\n",
       "        text-align: right;\n",
       "    }\n",
       "</style>\n",
       "<table border=\"1\" class=\"dataframe\">\n",
       "  <thead>\n",
       "    <tr style=\"text-align: right;\">\n",
       "      <th></th>\n",
       "      <th>year</th>\n",
       "      <th>county</th>\n",
       "      <th>rate</th>\n",
       "      <th>MEDINCOME</th>\n",
       "      <th>rate1</th>\n",
       "    </tr>\n",
       "    <tr>\n",
       "      <th>zipcode</th>\n",
       "      <th></th>\n",
       "      <th></th>\n",
       "      <th></th>\n",
       "      <th></th>\n",
       "      <th></th>\n",
       "    </tr>\n",
       "  </thead>\n",
       "  <tbody>\n",
       "    <tr>\n",
       "      <th>90001</th>\n",
       "      <td>2019</td>\n",
       "      <td>Los Angeles:</td>\n",
       "      <td>2.084256</td>\n",
       "      <td>50344</td>\n",
       "      <td>2.084256</td>\n",
       "    </tr>\n",
       "    <tr>\n",
       "      <th>90002</th>\n",
       "      <td>2019</td>\n",
       "      <td>Los Angeles:</td>\n",
       "      <td>1.456244</td>\n",
       "      <td>45417</td>\n",
       "      <td>1.456244</td>\n",
       "    </tr>\n",
       "    <tr>\n",
       "      <th>90003</th>\n",
       "      <td>2019</td>\n",
       "      <td>Los Angeles:</td>\n",
       "      <td>13.269925</td>\n",
       "      <td>44595</td>\n",
       "      <td>13.269925</td>\n",
       "    </tr>\n",
       "    <tr>\n",
       "      <th>90004</th>\n",
       "      <td>2019</td>\n",
       "      <td>Los Angeles:</td>\n",
       "      <td>5.362783</td>\n",
       "      <td>58073</td>\n",
       "      <td>5.362783</td>\n",
       "    </tr>\n",
       "    <tr>\n",
       "      <th>90005</th>\n",
       "      <td>2019</td>\n",
       "      <td>Los Angeles:</td>\n",
       "      <td>16.285088</td>\n",
       "      <td>49552</td>\n",
       "      <td>16.285088</td>\n",
       "    </tr>\n",
       "    <tr>\n",
       "      <th>...</th>\n",
       "      <td>...</td>\n",
       "      <td>...</td>\n",
       "      <td>...</td>\n",
       "      <td>...</td>\n",
       "      <td>...</td>\n",
       "    </tr>\n",
       "    <tr>\n",
       "      <th>96145</th>\n",
       "      <td>2019</td>\n",
       "      <td>Placer:</td>\n",
       "      <td>0.000000</td>\n",
       "      <td>110101</td>\n",
       "      <td>0.000000</td>\n",
       "    </tr>\n",
       "    <tr>\n",
       "      <th>96146</th>\n",
       "      <td>2019</td>\n",
       "      <td>Placer:</td>\n",
       "      <td>0.000000</td>\n",
       "      <td>148438</td>\n",
       "      <td>0.000000</td>\n",
       "    </tr>\n",
       "    <tr>\n",
       "      <th>96148</th>\n",
       "      <td>2019</td>\n",
       "      <td>Placer:</td>\n",
       "      <td>0.000000</td>\n",
       "      <td>105729</td>\n",
       "      <td>0.000000</td>\n",
       "    </tr>\n",
       "    <tr>\n",
       "      <th>96150</th>\n",
       "      <td>2019</td>\n",
       "      <td>El Dorado:</td>\n",
       "      <td>5.066595</td>\n",
       "      <td>82407</td>\n",
       "      <td>5.066595</td>\n",
       "    </tr>\n",
       "    <tr>\n",
       "      <th>96161</th>\n",
       "      <td>2019</td>\n",
       "      <td>Nevada:</td>\n",
       "      <td>0.000000</td>\n",
       "      <td>115436</td>\n",
       "      <td>0.000000</td>\n",
       "    </tr>\n",
       "  </tbody>\n",
       "</table>\n",
       "<p>1629 rows × 5 columns</p>\n",
       "</div>"
      ],
      "text/plain": [
       "         year        county       rate MEDINCOME      rate1\n",
       "zipcode                                                    \n",
       "90001    2019  Los Angeles:   2.084256     50344   2.084256\n",
       "90002    2019  Los Angeles:   1.456244     45417   1.456244\n",
       "90003    2019  Los Angeles:  13.269925     44595  13.269925\n",
       "90004    2019  Los Angeles:   5.362783     58073   5.362783\n",
       "90005    2019  Los Angeles:  16.285088     49552  16.285088\n",
       "...       ...           ...        ...       ...        ...\n",
       "96145    2019       Placer:   0.000000    110101   0.000000\n",
       "96146    2019       Placer:   0.000000    148438   0.000000\n",
       "96148    2019       Placer:   0.000000    105729   0.000000\n",
       "96150    2019    El Dorado:   5.066595     82407   5.066595\n",
       "96161    2019       Nevada:   0.000000    115436   0.000000\n",
       "\n",
       "[1629 rows x 5 columns]"
      ]
     },
     "execution_count": 266,
     "metadata": {},
     "output_type": "execute_result"
    }
   ],
   "source": [
    "df_joined"
   ]
  },
  {
   "cell_type": "code",
   "execution_count": null,
   "id": "d7c879a1",
   "metadata": {},
   "outputs": [],
   "source": []
  }
 ],
 "metadata": {
  "kernelspec": {
   "display_name": "Python 3 (ipykernel)",
   "language": "python",
   "name": "python3"
  },
  "language_info": {
   "codemirror_mode": {
    "name": "ipython",
    "version": 3
   },
   "file_extension": ".py",
   "mimetype": "text/x-python",
   "name": "python",
   "nbconvert_exporter": "python",
   "pygments_lexer": "ipython3",
   "version": "3.10.4"
  }
 },
 "nbformat": 4,
 "nbformat_minor": 5
}
