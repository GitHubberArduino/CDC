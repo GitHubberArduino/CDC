{
 "cells": [
  {
   "cell_type": "code",
   "execution_count": 1,
   "id": "3b01034e",
   "metadata": {},
   "outputs": [],
   "source": [
    "import pandas as pd\n",
    "\n",
    "# numpy is a standard module for simple numerical calculations\n",
    "import numpy as np\n",
    "import scipy.stats\n",
    "import matplotlib.pyplot as plt"
   ]
  },
  {
   "cell_type": "code",
   "execution_count": 2,
   "id": "af648e0d",
   "metadata": {},
   "outputs": [],
   "source": [
    "regionsopioid2021 = pd.read_csv(\"2021allregions.csv\")\n",
    "regionsopioid2020 = pd.read_csv(\"2020allregions.csv\")\n",
    "regionsopioid2019 = pd.read_csv(\"2019allregions.csv\")\n",
    "regionsopioid2018 = pd.read_csv(\"2018allregions.csv\")"
   ]
  },
  {
   "cell_type": "code",
   "execution_count": null,
   "id": "23279610",
   "metadata": {},
   "outputs": [],
   "source": []
  }
 ],
 "metadata": {
  "kernelspec": {
   "display_name": "Python 3 (ipykernel)",
   "language": "python",
   "name": "python3"
  },
  "language_info": {
   "codemirror_mode": {
    "name": "ipython",
    "version": 3
   },
   "file_extension": ".py",
   "mimetype": "text/x-python",
   "name": "python",
   "nbconvert_exporter": "python",
   "pygments_lexer": "ipython3",
   "version": "3.10.4"
  }
 },
 "nbformat": 4,
 "nbformat_minor": 5
}
